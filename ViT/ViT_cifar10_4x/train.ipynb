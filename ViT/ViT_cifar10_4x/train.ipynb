{
 "cells": [
  {
   "cell_type": "markdown",
   "metadata": {},
   "source": [
    "# Vit for classification in CIFAR-10-4x"
   ]
  },
  {
   "cell_type": "code",
   "execution_count": 1,
   "metadata": {},
   "outputs": [
    {
     "name": "stdout",
     "output_type": "stream",
     "text": [
      "Sat Oct  5 10:10:44 2024       \n",
      "+---------------------------------------------------------------------------------------+\n",
      "| NVIDIA-SMI 535.86.10              Driver Version: 535.86.10    CUDA Version: 12.2     |\n",
      "|-----------------------------------------+----------------------+----------------------+\n",
      "| GPU  Name                 Persistence-M | Bus-Id        Disp.A | Volatile Uncorr. ECC |\n",
      "| Fan  Temp   Perf          Pwr:Usage/Cap |         Memory-Usage | GPU-Util  Compute M. |\n",
      "|                                         |                      |               MIG M. |\n",
      "|=========================================+======================+======================|\n",
      "|   0  Tesla V100-SXM2-32GB           On  | 00000004:04:00.0 Off |                    0 |\n",
      "| N/A   45C    P0              42W / 300W |      0MiB / 32768MiB |      0%      Default |\n",
      "|                                         |                      |                  N/A |\n",
      "+-----------------------------------------+----------------------+----------------------+\n",
      "|   1  Tesla V100-SXM2-32GB           On  | 00000004:05:00.0 Off |                    0 |\n",
      "| N/A   43C    P0              39W / 300W |      0MiB / 32768MiB |      0%      Default |\n",
      "|                                         |                      |                  N/A |\n",
      "+-----------------------------------------+----------------------+----------------------+\n",
      "|   2  Tesla V100-SXM2-32GB           On  | 00000035:03:00.0 Off |                    0 |\n",
      "| N/A   39C    P0              40W / 300W |      0MiB / 32768MiB |      0%      Default |\n",
      "|                                         |                      |                  N/A |\n",
      "+-----------------------------------------+----------------------+----------------------+\n",
      "|   3  Tesla V100-SXM2-32GB           On  | 00000035:04:00.0 Off |                    0 |\n",
      "| N/A   45C    P0              41W / 300W |      0MiB / 32768MiB |      0%      Default |\n",
      "|                                         |                      |                  N/A |\n",
      "+-----------------------------------------+----------------------+----------------------+\n",
      "                                                                                         \n",
      "+---------------------------------------------------------------------------------------+\n",
      "| Processes:                                                                            |\n",
      "|  GPU   GI   CI        PID   Type   Process name                            GPU Memory |\n",
      "|        ID   ID                                                             Usage      |\n",
      "|=======================================================================================|\n",
      "|  No running processes found                                                           |\n",
      "+---------------------------------------------------------------------------------------+\n",
      "/nobackup/users/dcao2028/anaconda3/envs/ZHH/bin/python\n"
     ]
    }
   ],
   "source": [
    "%load_ext autoreload\n",
    "%autoreload 2\n",
    "!nvidia-smi\n",
    "!which python"
   ]
  },
  {
   "cell_type": "code",
   "execution_count": 2,
   "metadata": {},
   "outputs": [],
   "source": [
    "try:\n",
    "    from ViT.train import train\n",
    "    from ViT.utils import load_cifar10_4x\n",
    "    from ViT.model import *\n",
    "except:\n",
    "    from train import train\n",
    "    from utils import load_cifar10_4x\n",
    "    from model import *\n",
    "\n",
    "from torch.utils.data import DataLoader\n",
    "\n",
    "import torch\n",
    "import torch.nn as nn\n",
    "import torch.nn.functional as F\n",
    "\n",
    "import datetime\n",
    "\n",
    "train_loader, val_loader = load_cifar10_4x(dir=\"/nobackup/users/dcao2028/data\", train_batch_size=128, valid_batch_size=256, augment=True)\n",
    "\n",
    "import os\n",
    "if not os.path.exists(\"ViT/log\"):\n",
    "    os.makedirs(\"ViT/log\")\n",
    "\n",
    "def timestr():\n",
    "    now = datetime.datetime.now()\n",
    "    return now.strftime(\"%Y%m%d_%H%M%S\")\n",
    "\n",
    "def get_outdir(time_str):\n",
    "    outdir = f\"ViT/log/{time_str}.out\"\n",
    "    return outdir"
   ]
  },
  {
   "cell_type": "code",
   "execution_count": 5,
   "metadata": {},
   "outputs": [
    {
     "name": "stderr",
     "output_type": "stream",
     "text": []
    },
    {
     "name": "stdout",
     "output_type": "stream",
     "text": [
      "Time string: 20241005_110731\n",
      "The model has 19,323,402 trainable parameters\n",
      "Using 4 GPUs\n"
     ]
    },
    {
     "name": "stderr",
     "output_type": "stream",
     "text": []
    },
    {
     "name": "stdout",
     "output_type": "stream",
     "text": [
      "Epoch 1/50, Train Loss: 1.8861, Train Accuracy: 29.14%, Val Loss: 1.6295, Val Accuracy: 41.44%\n"
     ]
    },
    {
     "name": "stderr",
     "output_type": "stream",
     "text": []
    },
    {
     "name": "stdout",
     "output_type": "stream",
     "text": [
      "Epoch 2/50, Train Loss: 1.5032, Train Accuracy: 45.22%, Val Loss: 1.3885, Val Accuracy: 49.61%\n"
     ]
    },
    {
     "name": "stderr",
     "output_type": "stream",
     "text": []
    },
    {
     "name": "stdout",
     "output_type": "stream",
     "text": [
      "Epoch 3/50, Train Loss: 1.3247, Train Accuracy: 52.30%, Val Loss: 1.2715, Val Accuracy: 54.01%\n"
     ]
    },
    {
     "name": "stderr",
     "output_type": "stream",
     "text": []
    },
    {
     "name": "stdout",
     "output_type": "stream",
     "text": [
      "Epoch 4/50, Train Loss: 1.2243, Train Accuracy: 56.12%, Val Loss: 1.1956, Val Accuracy: 57.18%\n"
     ]
    },
    {
     "name": "stderr",
     "output_type": "stream",
     "text": []
    },
    {
     "name": "stdout",
     "output_type": "stream",
     "text": [
      "Epoch 5/50, Train Loss: 1.1528, Train Accuracy: 58.64%, Val Loss: 1.1530, Val Accuracy: 58.59%\n"
     ]
    },
    {
     "name": "stderr",
     "output_type": "stream",
     "text": []
    },
    {
     "name": "stdout",
     "output_type": "stream",
     "text": [
      "Epoch 6/50, Train Loss: 1.0968, Train Accuracy: 60.86%, Val Loss: 1.0911, Val Accuracy: 61.10%\n"
     ]
    },
    {
     "name": "stderr",
     "output_type": "stream",
     "text": []
    },
    {
     "name": "stdout",
     "output_type": "stream",
     "text": [
      "Epoch 7/50, Train Loss: 1.0526, Train Accuracy: 62.35%, Val Loss: 1.0583, Val Accuracy: 62.74%\n"
     ]
    },
    {
     "name": "stderr",
     "output_type": "stream",
     "text": []
    },
    {
     "name": "stdout",
     "output_type": "stream",
     "text": [
      "Epoch 8/50, Train Loss: 1.0094, Train Accuracy: 64.05%, Val Loss: 1.0169, Val Accuracy: 64.33%\n"
     ]
    },
    {
     "name": "stderr",
     "output_type": "stream",
     "text": []
    },
    {
     "name": "stdout",
     "output_type": "stream",
     "text": [
      "Epoch 9/50, Train Loss: 0.9661, Train Accuracy: 65.47%, Val Loss: 1.0164, Val Accuracy: 63.88%\n"
     ]
    },
    {
     "name": "stderr",
     "output_type": "stream",
     "text": []
    },
    {
     "name": "stdout",
     "output_type": "stream",
     "text": [
      "Epoch 10/50, Train Loss: 0.9422, Train Accuracy: 66.45%, Val Loss: 1.0018, Val Accuracy: 64.53%\n"
     ]
    },
    {
     "name": "stderr",
     "output_type": "stream",
     "text": []
    },
    {
     "name": "stdout",
     "output_type": "stream",
     "text": [
      "Epoch 11/50, Train Loss: 0.8990, Train Accuracy: 68.12%, Val Loss: 0.9553, Val Accuracy: 66.30%\n"
     ]
    },
    {
     "name": "stderr",
     "output_type": "stream",
     "text": []
    },
    {
     "name": "stdout",
     "output_type": "stream",
     "text": [
      "Epoch 12/50, Train Loss: 0.8671, Train Accuracy: 69.22%, Val Loss: 0.9640, Val Accuracy: 66.92%\n"
     ]
    },
    {
     "name": "stderr",
     "output_type": "stream",
     "text": []
    },
    {
     "name": "stdout",
     "output_type": "stream",
     "text": [
      "Epoch 13/50, Train Loss: 0.8399, Train Accuracy: 70.14%, Val Loss: 0.9091, Val Accuracy: 68.50%\n"
     ]
    },
    {
     "name": "stderr",
     "output_type": "stream",
     "text": []
    },
    {
     "name": "stdout",
     "output_type": "stream",
     "text": [
      "Epoch 14/50, Train Loss: 0.8128, Train Accuracy: 71.31%, Val Loss: 0.9116, Val Accuracy: 67.56%\n"
     ]
    },
    {
     "name": "stderr",
     "output_type": "stream",
     "text": []
    },
    {
     "name": "stdout",
     "output_type": "stream",
     "text": [
      "Epoch 15/50, Train Loss: 0.7888, Train Accuracy: 72.00%, Val Loss: 0.9056, Val Accuracy: 68.48%\n"
     ]
    },
    {
     "name": "stderr",
     "output_type": "stream",
     "text": []
    },
    {
     "name": "stdout",
     "output_type": "stream",
     "text": [
      "Epoch 16/50, Train Loss: 0.7598, Train Accuracy: 73.20%, Val Loss: 0.8657, Val Accuracy: 69.89%\n"
     ]
    },
    {
     "name": "stderr",
     "output_type": "stream",
     "text": []
    },
    {
     "name": "stdout",
     "output_type": "stream",
     "text": [
      "Epoch 17/50, Train Loss: 0.7375, Train Accuracy: 73.72%, Val Loss: 0.8655, Val Accuracy: 70.14%\n"
     ]
    },
    {
     "name": "stderr",
     "output_type": "stream",
     "text": []
    },
    {
     "name": "stdout",
     "output_type": "stream",
     "text": [
      "Epoch 18/50, Train Loss: 0.7115, Train Accuracy: 74.72%, Val Loss: 0.8885, Val Accuracy: 69.57%\n"
     ]
    },
    {
     "name": "stderr",
     "output_type": "stream",
     "text": []
    },
    {
     "name": "stdout",
     "output_type": "stream",
     "text": [
      "Epoch 19/50, Train Loss: 0.6860, Train Accuracy: 75.45%, Val Loss: 0.8529, Val Accuracy: 70.48%\n"
     ]
    },
    {
     "name": "stderr",
     "output_type": "stream",
     "text": []
    },
    {
     "name": "stdout",
     "output_type": "stream",
     "text": [
      "Epoch 20/50, Train Loss: 0.6617, Train Accuracy: 76.46%, Val Loss: 0.8409, Val Accuracy: 71.40%\n"
     ]
    },
    {
     "name": "stderr",
     "output_type": "stream",
     "text": []
    },
    {
     "name": "stdout",
     "output_type": "stream",
     "text": [
      "Epoch 21/50, Train Loss: 0.6381, Train Accuracy: 77.21%, Val Loss: 0.8359, Val Accuracy: 71.82%\n"
     ]
    },
    {
     "name": "stderr",
     "output_type": "stream",
     "text": []
    },
    {
     "name": "stdout",
     "output_type": "stream",
     "text": [
      "Epoch 22/50, Train Loss: 0.6141, Train Accuracy: 77.97%, Val Loss: 0.8641, Val Accuracy: 71.26%\n"
     ]
    },
    {
     "name": "stderr",
     "output_type": "stream",
     "text": []
    },
    {
     "name": "stdout",
     "output_type": "stream",
     "text": [
      "Epoch 23/50, Train Loss: 0.5893, Train Accuracy: 78.84%, Val Loss: 0.8345, Val Accuracy: 72.48%\n"
     ]
    },
    {
     "name": "stderr",
     "output_type": "stream",
     "text": []
    },
    {
     "name": "stdout",
     "output_type": "stream",
     "text": [
      "Epoch 24/50, Train Loss: 0.5644, Train Accuracy: 79.84%, Val Loss: 0.8434, Val Accuracy: 72.68%\n"
     ]
    },
    {
     "name": "stderr",
     "output_type": "stream",
     "text": []
    },
    {
     "name": "stdout",
     "output_type": "stream",
     "text": [
      "Epoch 25/50, Train Loss: 0.5372, Train Accuracy: 80.81%, Val Loss: 0.8568, Val Accuracy: 72.22%\n"
     ]
    },
    {
     "name": "stderr",
     "output_type": "stream",
     "text": []
    },
    {
     "name": "stdout",
     "output_type": "stream",
     "text": [
      "Epoch 26/50, Train Loss: 0.5178, Train Accuracy: 81.50%, Val Loss: 0.8510, Val Accuracy: 72.20%\n"
     ]
    },
    {
     "name": "stderr",
     "output_type": "stream",
     "text": []
    },
    {
     "name": "stdout",
     "output_type": "stream",
     "text": [
      "Epoch 27/50, Train Loss: 0.4941, Train Accuracy: 82.18%, Val Loss: 0.8342, Val Accuracy: 72.57%\n"
     ]
    },
    {
     "name": "stderr",
     "output_type": "stream",
     "text": []
    },
    {
     "name": "stdout",
     "output_type": "stream",
     "text": [
      "Epoch 28/50, Train Loss: 0.4729, Train Accuracy: 83.10%, Val Loss: 0.8428, Val Accuracy: 72.97%\n"
     ]
    },
    {
     "name": "stderr",
     "output_type": "stream",
     "text": []
    },
    {
     "name": "stdout",
     "output_type": "stream",
     "text": [
      "Epoch 29/50, Train Loss: 0.4442, Train Accuracy: 84.05%, Val Loss: 0.8681, Val Accuracy: 72.71%\n"
     ]
    },
    {
     "name": "stderr",
     "output_type": "stream",
     "text": []
    },
    {
     "name": "stdout",
     "output_type": "stream",
     "text": [
      "Epoch 30/50, Train Loss: 0.4249, Train Accuracy: 84.69%, Val Loss: 0.8486, Val Accuracy: 73.18%\n"
     ]
    },
    {
     "name": "stderr",
     "output_type": "stream",
     "text": []
    },
    {
     "name": "stdout",
     "output_type": "stream",
     "text": [
      "Epoch 31/50, Train Loss: 0.4082, Train Accuracy: 85.28%, Val Loss: 0.8687, Val Accuracy: 73.15%\n"
     ]
    },
    {
     "name": "stderr",
     "output_type": "stream",
     "text": []
    },
    {
     "name": "stdout",
     "output_type": "stream",
     "text": [
      "Epoch 32/50, Train Loss: 0.3839, Train Accuracy: 86.11%, Val Loss: 0.8616, Val Accuracy: 74.20%\n"
     ]
    },
    {
     "name": "stderr",
     "output_type": "stream",
     "text": []
    },
    {
     "name": "stdout",
     "output_type": "stream",
     "text": [
      "Epoch 33/50, Train Loss: 0.3640, Train Accuracy: 86.83%, Val Loss: 0.8502, Val Accuracy: 74.36%\n"
     ]
    },
    {
     "name": "stderr",
     "output_type": "stream",
     "text": []
    },
    {
     "name": "stdout",
     "output_type": "stream",
     "text": [
      "Epoch 34/50, Train Loss: 0.3483, Train Accuracy: 87.44%, Val Loss: 0.8962, Val Accuracy: 73.09%\n"
     ]
    },
    {
     "name": "stderr",
     "output_type": "stream",
     "text": []
    },
    {
     "name": "stdout",
     "output_type": "stream",
     "text": [
      "Epoch 35/50, Train Loss: 0.3315, Train Accuracy: 88.02%, Val Loss: 0.8989, Val Accuracy: 73.83%\n"
     ]
    },
    {
     "name": "stderr",
     "output_type": "stream",
     "text": []
    },
    {
     "name": "stdout",
     "output_type": "stream",
     "text": [
      "Epoch 36/50, Train Loss: 0.3067, Train Accuracy: 88.83%, Val Loss: 0.9408, Val Accuracy: 73.36%\n"
     ]
    },
    {
     "name": "stderr",
     "output_type": "stream",
     "text": []
    },
    {
     "name": "stdout",
     "output_type": "stream",
     "text": [
      "Epoch 37/50, Train Loss: 0.2914, Train Accuracy: 89.55%, Val Loss: 0.9407, Val Accuracy: 73.97%\n"
     ]
    },
    {
     "name": "stderr",
     "output_type": "stream",
     "text": []
    },
    {
     "name": "stdout",
     "output_type": "stream",
     "text": [
      "Epoch 38/50, Train Loss: 0.2775, Train Accuracy: 90.09%, Val Loss: 0.9594, Val Accuracy: 73.41%\n"
     ]
    },
    {
     "name": "stderr",
     "output_type": "stream",
     "text": []
    },
    {
     "name": "stdout",
     "output_type": "stream",
     "text": [
      "Epoch 39/50, Train Loss: 0.2620, Train Accuracy: 90.67%, Val Loss: 0.9468, Val Accuracy: 74.48%\n"
     ]
    },
    {
     "name": "stderr",
     "output_type": "stream",
     "text": []
    },
    {
     "name": "stdout",
     "output_type": "stream",
     "text": [
      "Epoch 40/50, Train Loss: 0.2484, Train Accuracy: 91.11%, Val Loss: 0.9583, Val Accuracy: 74.04%\n"
     ]
    },
    {
     "name": "stderr",
     "output_type": "stream",
     "text": []
    },
    {
     "name": "stdout",
     "output_type": "stream",
     "text": [
      "Epoch 41/50, Train Loss: 0.2294, Train Accuracy: 91.72%, Val Loss: 0.9662, Val Accuracy: 74.09%\n"
     ]
    },
    {
     "name": "stderr",
     "output_type": "stream",
     "text": []
    },
    {
     "name": "stdout",
     "output_type": "stream",
     "text": [
      "Epoch 42/50, Train Loss: 0.2232, Train Accuracy: 91.98%, Val Loss: 1.0026, Val Accuracy: 74.44%\n"
     ]
    },
    {
     "name": "stderr",
     "output_type": "stream",
     "text": []
    },
    {
     "name": "stdout",
     "output_type": "stream",
     "text": [
      "Epoch 43/50, Train Loss: 0.2039, Train Accuracy: 92.60%, Val Loss: 1.0539, Val Accuracy: 74.32%\n"
     ]
    },
    {
     "name": "stderr",
     "output_type": "stream",
     "text": []
    },
    {
     "name": "stdout",
     "output_type": "stream",
     "text": [
      "Epoch 44/50, Train Loss: 0.1874, Train Accuracy: 93.32%, Val Loss: 1.0507, Val Accuracy: 74.22%\n"
     ]
    },
    {
     "name": "stderr",
     "output_type": "stream",
     "text": []
    },
    {
     "name": "stdout",
     "output_type": "stream",
     "text": [
      "Epoch 45/50, Train Loss: 0.1872, Train Accuracy: 93.28%, Val Loss: 1.0320, Val Accuracy: 74.21%\n"
     ]
    },
    {
     "name": "stderr",
     "output_type": "stream",
     "text": []
    },
    {
     "name": "stdout",
     "output_type": "stream",
     "text": [
      "Epoch 46/50, Train Loss: 0.1779, Train Accuracy: 93.72%, Val Loss: 1.0601, Val Accuracy: 74.32%\n"
     ]
    },
    {
     "name": "stderr",
     "output_type": "stream",
     "text": []
    },
    {
     "name": "stdout",
     "output_type": "stream",
     "text": [
      "Epoch 47/50, Train Loss: 0.1634, Train Accuracy: 94.17%, Val Loss: 1.0584, Val Accuracy: 73.86%\n"
     ]
    },
    {
     "name": "stderr",
     "output_type": "stream",
     "text": []
    },
    {
     "name": "stdout",
     "output_type": "stream",
     "text": [
      "Epoch 48/50, Train Loss: 0.1649, Train Accuracy: 94.08%, Val Loss: 1.0558, Val Accuracy: 74.87%\n"
     ]
    },
    {
     "name": "stderr",
     "output_type": "stream",
     "text": []
    },
    {
     "name": "stdout",
     "output_type": "stream",
     "text": [
      "Epoch 49/50, Train Loss: 0.1458, Train Accuracy: 94.81%, Val Loss: 1.1389, Val Accuracy: 74.20%\n"
     ]
    },
    {
     "name": "stderr",
     "output_type": "stream",
     "text": []
    },
    {
     "name": "stdout",
     "output_type": "stream",
     "text": [
      "Epoch 50/50, Train Loss: 0.1506, Train Accuracy: 94.69%, Val Loss: 1.1255, Val Accuracy: 74.23%\n"
     ]
    }
   ],
   "source": [
    "# Here is the hyperparameters\n",
    "\n",
    "epochs = 50\n",
    "patch_size = 16\n",
    "embed_dim = 512\n",
    "n_layers = 6\n",
    "heads = 8\n",
    "attn_dim = 512\n",
    "mlp_dim = None # default to 4*embed_dim\n",
    "dropout = 0.0\n",
    "mlp_dropout = 0.0\n",
    "embedding = 'sinousoidal'\n",
    "\n",
    "model = ViT(image_size=128, patch_size=patch_size, num_classes=10, embed_dim=embed_dim, n_layers=n_layers, heads=heads, attn_dim=attn_dim, mlp_dim=mlp_dim, dropout=dropout, mlp_dropout=mlp_dropout, embedding=embedding)\n",
    "\n",
    "optimizer = torch.optim.Adam(model.parameters(), lr=1e-4, betas=(0.9, 0.999), weight_decay=0)\n",
    "\n",
    "time_str = timestr()\n",
    "\n",
    "print(f\"Time string: {time_str}\")\n",
    "\n",
    "# print the model and the number of parameters\n",
    "# print(model.transformer)\n",
    "print(f'The model has {sum(p.numel() for p in model.parameters() if p.requires_grad):,} trainable parameters')\n",
    "\n",
    "train(epochs=epochs, model=model, optimizer=optimizer, criterion=nn.CrossEntropyLoss(), \n",
    "      train_loader=train_loader, val_loader=val_loader, outdir=get_outdir(time_str))\\\n",
    "\n",
    "# save model\n",
    "torch.save(model.state_dict(), f\"ViT/models/{time_str}.pth\")\n",
    "print(f\"Model saved to ViT/models/{time_str}.pth\")"
   ]
  }
 ],
 "metadata": {
  "kernelspec": {
   "display_name": "Python 3 (ipykernel)",
   "language": "python",
   "name": "python3"
  },
  "language_info": {
   "codemirror_mode": {
    "name": "ipython",
    "version": 3
   },
   "file_extension": ".py",
   "mimetype": "text/x-python",
   "name": "python",
   "nbconvert_exporter": "python",
   "pygments_lexer": "ipython3",
   "version": "3.7.6"
  }
 },
 "nbformat": 4,
 "nbformat_minor": 2
}
