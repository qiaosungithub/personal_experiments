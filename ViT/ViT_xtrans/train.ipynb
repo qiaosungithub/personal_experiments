{
 "cells": [
  {
   "cell_type": "markdown",
   "metadata": {},
   "source": [
    "# Vit for classification in CIFAR-10"
   ]
  },
  {
   "cell_type": "code",
   "execution_count": 1,
   "metadata": {},
   "outputs": [
    {
     "name": "stdout",
     "output_type": "stream",
     "text": [
      "Fri Oct  4 14:44:41 2024       \n",
      "+---------------------------------------------------------------------------------------+\n",
      "| NVIDIA-SMI 535.86.10              Driver Version: 535.86.10    CUDA Version: 12.2     |\n",
      "|-----------------------------------------+----------------------+----------------------+\n",
      "| GPU  Name                 Persistence-M | Bus-Id        Disp.A | Volatile Uncorr. ECC |\n",
      "| Fan  Temp   Perf          Pwr:Usage/Cap |         Memory-Usage | GPU-Util  Compute M. |\n",
      "|                                         |                      |               MIG M. |\n",
      "|=========================================+======================+======================|\n",
      "|   0  Tesla V100-SXM2-32GB           On  | 00000004:04:00.0 Off |                    0 |\n",
      "| N/A   39C    P0              39W / 184W |      0MiB / 32768MiB |      0%      Default |\n",
      "|                                         |                      |                  N/A |\n",
      "+-----------------------------------------+----------------------+----------------------+\n",
      "                                                                                         \n",
      "+---------------------------------------------------------------------------------------+\n",
      "| Processes:                                                                            |\n",
      "|  GPU   GI   CI        PID   Type   Process name                            GPU Memory |\n",
      "|        ID   ID                                                             Usage      |\n",
      "|=======================================================================================|\n",
      "|  No running processes found                                                           |\n",
      "+---------------------------------------------------------------------------------------+\n",
      "/nobackup/users/sqa24/anaconda3/envs/wgt/bin/python\n"
     ]
    }
   ],
   "source": [
    "%load_ext autoreload\n",
    "%autoreload 2\n",
    "!nvidia-smi\n",
    "!which python"
   ]
  },
  {
   "cell_type": "code",
   "execution_count": 2,
   "metadata": {},
   "outputs": [
    {
     "name": "stdout",
     "output_type": "stream",
     "text": [
      "Files already downloaded and verified\n",
      "Files already downloaded and verified\n"
     ]
    }
   ],
   "source": [
    "try:\n",
    "    from ViT.train import train\n",
    "    from ViT.utils import cifar_train_set, cifar_val_set\n",
    "    from ViT.model import *\n",
    "except:\n",
    "    from train import train\n",
    "    from utils import cifar_train_set, cifar_val_set\n",
    "    from model import *\n",
    "\n",
    "from torch.utils.data import DataLoader\n",
    "\n",
    "import torch\n",
    "import torch.nn as nn\n",
    "import torch.nn.functional as F\n",
    "\n",
    "import datetime\n",
    "\n",
    "train_loader = DataLoader(cifar_train_set, 256, shuffle=True, drop_last=False, pin_memory=True)\n",
    "val_loader = DataLoader(cifar_val_set, 500, shuffle=True, drop_last=False, pin_memory=True)\n",
    "\n",
    "import os\n",
    "if not os.path.exists(\"ViT/log\"):\n",
    "    os.makedirs(\"ViT/log\")\n",
    "\n",
    "def timestr():\n",
    "    now = datetime.datetime.now()\n",
    "    return now.strftime(\"%Y%m%d_%H%M%S\")\n",
    "\n",
    "def get_outdir(time_str):\n",
    "    outdir = f\"ViT/log/{time_str}.out\"\n",
    "    return outdir"
   ]
  },
  {
   "cell_type": "code",
   "execution_count": 3,
   "metadata": {},
   "outputs": [
    {
     "name": "stdout",
     "output_type": "stream",
     "text": [
      "Time string: 20241004_133312\n",
      "The model has 6,359,562 trainable parameters\n"
     ]
    },
    {
     "name": "stderr",
     "output_type": "stream",
     "text": [
      "Epoch 2/50:   0%|                                                                               | 0/196 [00:00<?, ?it/s]"
     ]
    },
    {
     "name": "stdout",
     "output_type": "stream",
     "text": [
      "Epoch 1/50, Train Loss: 1.9669, Train Accuracy: 26.23%, Val Loss: 1.7118, Val Accuracy: 37.17%\n"
     ]
    },
    {
     "name": "stderr",
     "output_type": "stream",
     "text": [
      "Epoch 3/50:   0%|                                                                               | 0/196 [00:00<?, ?it/s]"
     ]
    },
    {
     "name": "stdout",
     "output_type": "stream",
     "text": [
      "Epoch 2/50, Train Loss: 1.6896, Train Accuracy: 37.97%, Val Loss: 1.5440, Val Accuracy: 44.06%\n"
     ]
    },
    {
     "name": "stderr",
     "output_type": "stream",
     "text": [
      "Epoch 4/50:   0%|                                                                               | 0/196 [00:00<?, ?it/s]"
     ]
    },
    {
     "name": "stdout",
     "output_type": "stream",
     "text": [
      "Epoch 3/50, Train Loss: 1.6042, Train Accuracy: 41.44%, Val Loss: 1.4898, Val Accuracy: 47.19%\n"
     ]
    },
    {
     "name": "stderr",
     "output_type": "stream",
     "text": [
      "Epoch 5/50:   0%|                                                                               | 0/196 [00:00<?, ?it/s]"
     ]
    },
    {
     "name": "stdout",
     "output_type": "stream",
     "text": [
      "Epoch 4/50, Train Loss: 1.5500, Train Accuracy: 43.60%, Val Loss: 1.4661, Val Accuracy: 46.92%\n"
     ]
    },
    {
     "name": "stderr",
     "output_type": "stream",
     "text": [
      "Epoch 6/50:   0%|                                                                               | 0/196 [00:00<?, ?it/s]"
     ]
    },
    {
     "name": "stdout",
     "output_type": "stream",
     "text": [
      "Epoch 5/50, Train Loss: 1.5178, Train Accuracy: 44.67%, Val Loss: 1.4180, Val Accuracy: 48.83%\n"
     ]
    },
    {
     "name": "stderr",
     "output_type": "stream",
     "text": [
      "Epoch 7/50:   0%|                                                                               | 0/196 [00:00<?, ?it/s]"
     ]
    },
    {
     "name": "stdout",
     "output_type": "stream",
     "text": [
      "Epoch 6/50, Train Loss: 1.4886, Train Accuracy: 46.10%, Val Loss: 1.3669, Val Accuracy: 51.26%\n"
     ]
    },
    {
     "name": "stderr",
     "output_type": "stream",
     "text": [
      "Epoch 8/50:   0%|                                                                               | 0/196 [00:00<?, ?it/s]"
     ]
    },
    {
     "name": "stdout",
     "output_type": "stream",
     "text": [
      "Epoch 7/50, Train Loss: 1.4547, Train Accuracy: 46.95%, Val Loss: 1.3577, Val Accuracy: 51.31%\n"
     ]
    },
    {
     "name": "stderr",
     "output_type": "stream",
     "text": [
      "Epoch 9/50:   1%|▎                                                     | 1/196 [00:00<00:38,  5.12it/s, Train Loss=1.33]"
     ]
    },
    {
     "name": "stdout",
     "output_type": "stream",
     "text": [
      "Epoch 8/50, Train Loss: 1.4381, Train Accuracy: 47.78%, Val Loss: 1.3719, Val Accuracy: 50.86%\n"
     ]
    },
    {
     "name": "stderr",
     "output_type": "stream",
     "text": [
      "Epoch 10/50:   0%|                                                                              | 0/196 [00:00<?, ?it/s]"
     ]
    },
    {
     "name": "stdout",
     "output_type": "stream",
     "text": [
      "Epoch 9/50, Train Loss: 1.4172, Train Accuracy: 48.61%, Val Loss: 1.3351, Val Accuracy: 51.55%\n"
     ]
    },
    {
     "name": "stderr",
     "output_type": "stream",
     "text": [
      "Epoch 11/50:   1%|▎                                                    | 1/196 [00:00<00:38,  5.13it/s, Train Loss=1.41]"
     ]
    },
    {
     "name": "stdout",
     "output_type": "stream",
     "text": [
      "Epoch 10/50, Train Loss: 1.3918, Train Accuracy: 49.85%, Val Loss: 1.3652, Val Accuracy: 51.80%\n"
     ]
    },
    {
     "name": "stderr",
     "output_type": "stream",
     "text": [
      "Epoch 12/50:   0%|                                                                              | 0/196 [00:00<?, ?it/s]"
     ]
    },
    {
     "name": "stdout",
     "output_type": "stream",
     "text": [
      "Epoch 11/50, Train Loss: 1.3840, Train Accuracy: 49.91%, Val Loss: 1.3084, Val Accuracy: 52.82%\n"
     ]
    },
    {
     "name": "stderr",
     "output_type": "stream",
     "text": [
      "Epoch 13/50:   0%|                                                                              | 0/196 [00:00<?, ?it/s]"
     ]
    },
    {
     "name": "stdout",
     "output_type": "stream",
     "text": [
      "Epoch 12/50, Train Loss: 1.3704, Train Accuracy: 50.40%, Val Loss: 1.2775, Val Accuracy: 53.90%\n"
     ]
    },
    {
     "name": "stderr",
     "output_type": "stream",
     "text": [
      "Epoch 14/50:   0%|                                                                              | 0/196 [00:00<?, ?it/s]"
     ]
    },
    {
     "name": "stdout",
     "output_type": "stream",
     "text": [
      "Epoch 13/50, Train Loss: 1.3542, Train Accuracy: 51.16%, Val Loss: 1.2541, Val Accuracy: 55.00%\n"
     ]
    },
    {
     "name": "stderr",
     "output_type": "stream",
     "text": [
      "Epoch 15/50:   0%|                                                                              | 0/196 [00:00<?, ?it/s]"
     ]
    },
    {
     "name": "stdout",
     "output_type": "stream",
     "text": [
      "Epoch 14/50, Train Loss: 1.3304, Train Accuracy: 52.06%, Val Loss: 1.2384, Val Accuracy: 55.77%\n"
     ]
    },
    {
     "name": "stderr",
     "output_type": "stream",
     "text": [
      "Epoch 16/50:   0%|                                                                              | 0/196 [00:00<?, ?it/s]"
     ]
    },
    {
     "name": "stdout",
     "output_type": "stream",
     "text": [
      "Epoch 15/50, Train Loss: 1.3251, Train Accuracy: 52.35%, Val Loss: 1.2379, Val Accuracy: 55.36%\n"
     ]
    },
    {
     "name": "stderr",
     "output_type": "stream",
     "text": [
      "Epoch 17/50:   1%|▎                                                     | 1/196 [00:00<00:38,  5.12it/s, Train Loss=1.3]"
     ]
    },
    {
     "name": "stdout",
     "output_type": "stream",
     "text": [
      "Epoch 16/50, Train Loss: 1.3095, Train Accuracy: 52.42%, Val Loss: 1.2401, Val Accuracy: 55.10%\n"
     ]
    },
    {
     "name": "stderr",
     "output_type": "stream",
     "text": [
      "Epoch 18/50:   0%|                                                                              | 0/196 [00:00<?, ?it/s]"
     ]
    },
    {
     "name": "stdout",
     "output_type": "stream",
     "text": [
      "Epoch 17/50, Train Loss: 1.2963, Train Accuracy: 53.14%, Val Loss: 1.2234, Val Accuracy: 55.93%\n"
     ]
    },
    {
     "name": "stderr",
     "output_type": "stream",
     "text": [
      "Epoch 19/50:   1%|▎                                                     | 1/196 [00:00<00:38,  5.12it/s, Train Loss=1.2]"
     ]
    },
    {
     "name": "stdout",
     "output_type": "stream",
     "text": [
      "Epoch 18/50, Train Loss: 1.2865, Train Accuracy: 53.74%, Val Loss: 1.2258, Val Accuracy: 56.06%\n"
     ]
    },
    {
     "name": "stderr",
     "output_type": "stream",
     "text": [
      "Epoch 20/50:   0%|                                                                              | 0/196 [00:00<?, ?it/s]"
     ]
    },
    {
     "name": "stdout",
     "output_type": "stream",
     "text": [
      "Epoch 19/50, Train Loss: 1.2736, Train Accuracy: 54.31%, Val Loss: 1.1872, Val Accuracy: 57.14%\n"
     ]
    },
    {
     "name": "stderr",
     "output_type": "stream",
     "text": [
      "Epoch 21/50:   1%|▎                                                    | 1/196 [00:00<00:37,  5.15it/s, Train Loss=1.34]"
     ]
    },
    {
     "name": "stdout",
     "output_type": "stream",
     "text": [
      "Epoch 20/50, Train Loss: 1.2591, Train Accuracy: 54.54%, Val Loss: 1.1940, Val Accuracy: 56.88%\n"
     ]
    },
    {
     "name": "stderr",
     "output_type": "stream",
     "text": [
      "Epoch 22/50:   1%|▎                                                    | 1/196 [00:00<00:37,  5.13it/s, Train Loss=1.41]"
     ]
    },
    {
     "name": "stdout",
     "output_type": "stream",
     "text": [
      "Epoch 21/50, Train Loss: 1.2496, Train Accuracy: 54.81%, Val Loss: 1.2242, Val Accuracy: 56.41%\n"
     ]
    },
    {
     "name": "stderr",
     "output_type": "stream",
     "text": [
      "Epoch 23/50:   1%|▎                                                    | 1/196 [00:00<00:38,  5.08it/s, Train Loss=1.15]"
     ]
    },
    {
     "name": "stdout",
     "output_type": "stream",
     "text": [
      "Epoch 22/50, Train Loss: 1.2370, Train Accuracy: 55.45%, Val Loss: 1.1940, Val Accuracy: 57.42%\n"
     ]
    },
    {
     "name": "stderr",
     "output_type": "stream",
     "text": [
      "Epoch 24/50:   0%|                                                                              | 0/196 [00:00<?, ?it/s]"
     ]
    },
    {
     "name": "stdout",
     "output_type": "stream",
     "text": [
      "Epoch 23/50, Train Loss: 1.2343, Train Accuracy: 55.57%, Val Loss: 1.1976, Val Accuracy: 56.76%\n"
     ]
    },
    {
     "name": "stderr",
     "output_type": "stream",
     "text": [
      "Epoch 25/50:   0%|                                                                              | 0/196 [00:00<?, ?it/s]"
     ]
    },
    {
     "name": "stdout",
     "output_type": "stream",
     "text": [
      "Epoch 24/50, Train Loss: 1.2133, Train Accuracy: 56.51%, Val Loss: 1.1350, Val Accuracy: 59.70%\n"
     ]
    },
    {
     "name": "stderr",
     "output_type": "stream",
     "text": [
      "Epoch 26/50:   1%|▎                                                    | 1/196 [00:00<00:37,  5.14it/s, Train Loss=1.19]"
     ]
    },
    {
     "name": "stdout",
     "output_type": "stream",
     "text": [
      "Epoch 25/50, Train Loss: 1.2108, Train Accuracy: 56.56%, Val Loss: 1.1437, Val Accuracy: 59.18%\n"
     ]
    },
    {
     "name": "stderr",
     "output_type": "stream",
     "text": [
      "Epoch 27/50:   1%|▎                                                    | 1/196 [00:00<00:38,  5.12it/s, Train Loss=1.21]"
     ]
    },
    {
     "name": "stdout",
     "output_type": "stream",
     "text": [
      "Epoch 26/50, Train Loss: 1.2083, Train Accuracy: 56.61%, Val Loss: 1.1670, Val Accuracy: 57.68%\n"
     ]
    },
    {
     "name": "stderr",
     "output_type": "stream",
     "text": [
      "Epoch 28/50:   1%|▎                                                    | 1/196 [00:00<00:38,  5.13it/s, Train Loss=1.21]"
     ]
    },
    {
     "name": "stdout",
     "output_type": "stream",
     "text": [
      "Epoch 27/50, Train Loss: 1.1885, Train Accuracy: 57.24%, Val Loss: 1.1580, Val Accuracy: 58.33%\n"
     ]
    },
    {
     "name": "stderr",
     "output_type": "stream",
     "text": [
      "Epoch 29/50:   0%|                                                                              | 0/196 [00:00<?, ?it/s]"
     ]
    },
    {
     "name": "stdout",
     "output_type": "stream",
     "text": [
      "Epoch 28/50, Train Loss: 1.1833, Train Accuracy: 57.38%, Val Loss: 1.1123, Val Accuracy: 59.54%\n"
     ]
    },
    {
     "name": "stderr",
     "output_type": "stream",
     "text": [
      "Epoch 30/50:   1%|▎                                                    | 1/196 [00:00<00:37,  5.15it/s, Train Loss=1.24]"
     ]
    },
    {
     "name": "stdout",
     "output_type": "stream",
     "text": [
      "Epoch 29/50, Train Loss: 1.1789, Train Accuracy: 57.63%, Val Loss: 1.1496, Val Accuracy: 58.99%\n"
     ]
    },
    {
     "name": "stderr",
     "output_type": "stream",
     "text": [
      "Epoch 31/50:   1%|▎                                                    | 1/196 [00:00<00:37,  5.13it/s, Train Loss=1.14]"
     ]
    },
    {
     "name": "stdout",
     "output_type": "stream",
     "text": [
      "Epoch 30/50, Train Loss: 1.1718, Train Accuracy: 57.87%, Val Loss: 1.1618, Val Accuracy: 59.15%\n"
     ]
    },
    {
     "name": "stderr",
     "output_type": "stream",
     "text": [
      "Epoch 32/50:   0%|                                                                              | 0/196 [00:00<?, ?it/s]"
     ]
    },
    {
     "name": "stdout",
     "output_type": "stream",
     "text": [
      "Epoch 31/50, Train Loss: 1.1708, Train Accuracy: 57.95%, Val Loss: 1.1034, Val Accuracy: 60.85%\n"
     ]
    },
    {
     "name": "stderr",
     "output_type": "stream",
     "text": [
      "Epoch 33/50:   0%|                                                                              | 0/196 [00:00<?, ?it/s]"
     ]
    },
    {
     "name": "stdout",
     "output_type": "stream",
     "text": [
      "Epoch 32/50, Train Loss: 1.1559, Train Accuracy: 58.50%, Val Loss: 1.0916, Val Accuracy: 60.69%\n"
     ]
    },
    {
     "name": "stderr",
     "output_type": "stream",
     "text": [
      "Epoch 34/50:   0%|                                                             | 0/196 [00:00<?, ?it/s, Train Loss=1.03]"
     ]
    },
    {
     "name": "stdout",
     "output_type": "stream",
     "text": [
      "Epoch 33/50, Train Loss: 1.1532, Train Accuracy: 58.68%, Val Loss: 1.1199, Val Accuracy: 59.84%\n"
     ]
    },
    {
     "name": "stderr",
     "output_type": "stream",
     "text": [
      "Epoch 35/50:   0%|                                                                              | 0/196 [00:00<?, ?it/s]"
     ]
    },
    {
     "name": "stdout",
     "output_type": "stream",
     "text": [
      "Epoch 34/50, Train Loss: 1.1382, Train Accuracy: 59.26%, Val Loss: 1.0802, Val Accuracy: 61.54%\n"
     ]
    },
    {
     "name": "stderr",
     "output_type": "stream",
     "text": [
      "Epoch 36/50:   1%|▎                                                    | 1/196 [00:00<00:38,  5.11it/s, Train Loss=1.25]"
     ]
    },
    {
     "name": "stdout",
     "output_type": "stream",
     "text": [
      "Epoch 35/50, Train Loss: 1.1345, Train Accuracy: 59.31%, Val Loss: 1.1131, Val Accuracy: 60.47%\n"
     ]
    },
    {
     "name": "stderr",
     "output_type": "stream",
     "text": [
      "Epoch 37/50:   1%|▎                                                    | 1/196 [00:00<00:37,  5.14it/s, Train Loss=1.05]"
     ]
    },
    {
     "name": "stdout",
     "output_type": "stream",
     "text": [
      "Epoch 36/50, Train Loss: 1.1343, Train Accuracy: 59.49%, Val Loss: 1.0811, Val Accuracy: 61.49%\n"
     ]
    },
    {
     "name": "stderr",
     "output_type": "stream",
     "text": [
      "Epoch 38/50:   0%|                                                                              | 0/196 [00:00<?, ?it/s]"
     ]
    },
    {
     "name": "stdout",
     "output_type": "stream",
     "text": [
      "Epoch 37/50, Train Loss: 1.1301, Train Accuracy: 59.63%, Val Loss: 1.0684, Val Accuracy: 61.89%\n"
     ]
    },
    {
     "name": "stderr",
     "output_type": "stream",
     "text": [
      "Epoch 39/50:   1%|▎                                                    | 1/196 [00:00<00:38,  5.13it/s, Train Loss=1.11]"
     ]
    },
    {
     "name": "stdout",
     "output_type": "stream",
     "text": [
      "Epoch 38/50, Train Loss: 1.1211, Train Accuracy: 59.73%, Val Loss: 1.1246, Val Accuracy: 60.24%\n"
     ]
    },
    {
     "name": "stderr",
     "output_type": "stream",
     "text": [
      "Epoch 40/50:   0%|                                                                              | 0/196 [00:00<?, ?it/s]"
     ]
    },
    {
     "name": "stdout",
     "output_type": "stream",
     "text": [
      "Epoch 39/50, Train Loss: 1.1164, Train Accuracy: 60.16%, Val Loss: 1.0518, Val Accuracy: 62.17%\n"
     ]
    },
    {
     "name": "stderr",
     "output_type": "stream",
     "text": [
      "Epoch 41/50:   0%|                                                                              | 0/196 [00:00<?, ?it/s]"
     ]
    },
    {
     "name": "stdout",
     "output_type": "stream",
     "text": [
      "Epoch 40/50, Train Loss: 1.1102, Train Accuracy: 60.27%, Val Loss: 1.0503, Val Accuracy: 62.70%\n"
     ]
    },
    {
     "name": "stderr",
     "output_type": "stream",
     "text": [
      "Epoch 42/50:   0%|                                                                              | 0/196 [00:00<?, ?it/s]"
     ]
    },
    {
     "name": "stdout",
     "output_type": "stream",
     "text": [
      "Epoch 41/50, Train Loss: 1.1061, Train Accuracy: 60.32%, Val Loss: 1.0140, Val Accuracy: 64.33%\n"
     ]
    },
    {
     "name": "stderr",
     "output_type": "stream",
     "text": [
      "Epoch 43/50:   1%|▎                                                    | 1/196 [00:00<00:38,  5.10it/s, Train Loss=1.04]"
     ]
    },
    {
     "name": "stdout",
     "output_type": "stream",
     "text": [
      "Epoch 42/50, Train Loss: 1.1017, Train Accuracy: 60.69%, Val Loss: 1.0326, Val Accuracy: 63.54%\n"
     ]
    },
    {
     "name": "stderr",
     "output_type": "stream",
     "text": [
      "Epoch 44/50:   1%|▎                                                     | 1/196 [00:00<00:38,  5.12it/s, Train Loss=1.1]"
     ]
    },
    {
     "name": "stdout",
     "output_type": "stream",
     "text": [
      "Epoch 43/50, Train Loss: 1.0962, Train Accuracy: 60.97%, Val Loss: 1.0429, Val Accuracy: 62.45%\n"
     ]
    },
    {
     "name": "stderr",
     "output_type": "stream",
     "text": [
      "Epoch 45/50:   1%|▎                                                    | 1/196 [00:00<00:38,  5.12it/s, Train Loss=1.15]"
     ]
    },
    {
     "name": "stdout",
     "output_type": "stream",
     "text": [
      "Epoch 44/50, Train Loss: 1.0932, Train Accuracy: 60.88%, Val Loss: 1.0419, Val Accuracy: 62.99%\n"
     ]
    },
    {
     "name": "stderr",
     "output_type": "stream",
     "text": [
      "Epoch 46/50:   0%|                                                                | 0/196 [00:00<?, ?it/s, Train Loss=1]"
     ]
    },
    {
     "name": "stdout",
     "output_type": "stream",
     "text": [
      "Epoch 45/50, Train Loss: 1.0879, Train Accuracy: 61.10%, Val Loss: 1.0425, Val Accuracy: 62.53%\n"
     ]
    },
    {
     "name": "stderr",
     "output_type": "stream",
     "text": [
      "Epoch 47/50:   1%|▎                                                    | 1/196 [00:00<00:38,  5.12it/s, Train Loss=1.06]"
     ]
    },
    {
     "name": "stdout",
     "output_type": "stream",
     "text": [
      "Epoch 46/50, Train Loss: 1.0823, Train Accuracy: 61.38%, Val Loss: 1.0473, Val Accuracy: 62.32%\n"
     ]
    },
    {
     "name": "stderr",
     "output_type": "stream",
     "text": [
      "Epoch 48/50:   1%|▎                                                    | 1/196 [00:00<00:37,  5.13it/s, Train Loss=1.04]"
     ]
    },
    {
     "name": "stdout",
     "output_type": "stream",
     "text": [
      "Epoch 47/50, Train Loss: 1.0784, Train Accuracy: 61.52%, Val Loss: 1.0472, Val Accuracy: 62.54%\n"
     ]
    },
    {
     "name": "stderr",
     "output_type": "stream",
     "text": [
      "Epoch 49/50:   1%|▎                                                    | 1/196 [00:00<00:38,  5.12it/s, Train Loss=1.04]"
     ]
    },
    {
     "name": "stdout",
     "output_type": "stream",
     "text": [
      "Epoch 48/50, Train Loss: 1.0690, Train Accuracy: 61.86%, Val Loss: 1.0343, Val Accuracy: 63.00%\n"
     ]
    },
    {
     "name": "stderr",
     "output_type": "stream",
     "text": [
      "Epoch 50/50:   1%|▎                                                    | 1/196 [00:00<00:37,  5.14it/s, Train Loss=1.05]"
     ]
    },
    {
     "name": "stdout",
     "output_type": "stream",
     "text": [
      "Epoch 49/50, Train Loss: 1.0728, Train Accuracy: 61.53%, Val Loss: 1.0479, Val Accuracy: 62.79%\n"
     ]
    },
    {
     "name": "stderr",
     "output_type": "stream",
     "text": [
      "                                                                                                                        \r"
     ]
    },
    {
     "name": "stdout",
     "output_type": "stream",
     "text": [
      "Epoch 50/50, Train Loss: 1.0618, Train Accuracy: 62.00%, Val Loss: 0.9984, Val Accuracy: 63.92%\n"
     ]
    }
   ],
   "source": [
    "# Here is the hyperparameters\n",
    "\n",
    "epochs = 50\n",
    "patch_size = 8\n",
    "embed_dim = 256\n",
    "n_layers = 6\n",
    "heads = 8\n",
    "attn_dim = 512\n",
    "mlp_dim = None # default to 4*embed_dim\n",
    "pool = 'cls'\n",
    "dropout = 0.1\n",
    "\n",
    "model = ViT(image_size=32, patch_size=patch_size, num_classes=10, embed_dim=embed_dim, n_layers=n_layers, heads=heads, attn_dim=attn_dim, mlp_dim=mlp_dim, pool=pool, dropout=dropout)\n",
    "\n",
    "optimizer = torch.optim.Adam(model.parameters(), lr=5e-4, betas=(0.9, 0.999), weight_decay=5e-4)\n",
    "\n",
    "time_str = timestr()\n",
    "\n",
    "print(f\"Time string: {time_str}\")\n",
    "\n",
    "# print the model and the number of parameters\n",
    "# print(model.transformer)\n",
    "print(f'The model has {sum(p.numel() for p in model.parameters() if p.requires_grad):,} trainable parameters')\n",
    "\n",
    "train(epochs=epochs, model=model, optimizer=optimizer, criterion=nn.CrossEntropyLoss(), \n",
    "      train_loader=train_loader, val_loader=val_loader, outdir=get_outdir(time_str))\\\n",
    "\n",
    "# save model\n",
    "torch.save(model.state_dict(), f\"ViT/models/{time_str}.pth\")"
   ]
  },
  {
   "cell_type": "code",
   "execution_count": 3,
   "metadata": {},
   "outputs": [
    {
     "name": "stderr",
     "output_type": "stream",
     "text": [
      "Epoch 1/50:   0%|                                                                               | 0/196 [00:00<?, ?it/s]"
     ]
    },
    {
     "name": "stdout",
     "output_type": "stream",
     "text": [
      "models loaded from ViT/models/20241004_133312.pth\n",
      "Time string: 20241004_144451\n",
      "The model has 6,359,562 trainable parameters\n"
     ]
    },
    {
     "name": "stderr",
     "output_type": "stream",
     "text": [
      "Epoch 2/50:   0%|                                                                               | 0/196 [00:00<?, ?it/s]"
     ]
    },
    {
     "name": "stdout",
     "output_type": "stream",
     "text": [
      "Epoch 1/50, Train Loss: 1.0639, Train Accuracy: 61.96%, Val Loss: 1.0799, Val Accuracy: 61.26%\n"
     ]
    },
    {
     "name": "stderr",
     "output_type": "stream",
     "text": [
      "Epoch 3/50:   0%|                                                                               | 0/196 [00:00<?, ?it/s]"
     ]
    },
    {
     "name": "stdout",
     "output_type": "stream",
     "text": [
      "Epoch 2/50, Train Loss: 1.0559, Train Accuracy: 62.45%, Val Loss: 1.0296, Val Accuracy: 63.72%\n"
     ]
    },
    {
     "name": "stderr",
     "output_type": "stream",
     "text": [
      "Epoch 4/50:   1%|▎                                                     | 1/196 [00:00<00:38,  5.12it/s, Train Loss=1.19]"
     ]
    },
    {
     "name": "stdout",
     "output_type": "stream",
     "text": [
      "Epoch 3/50, Train Loss: 1.0530, Train Accuracy: 62.34%, Val Loss: 1.0361, Val Accuracy: 63.36%\n"
     ]
    },
    {
     "name": "stderr",
     "output_type": "stream",
     "text": [
      "Epoch 5/50:   0%|                                                                               | 0/196 [00:00<?, ?it/s]"
     ]
    },
    {
     "name": "stdout",
     "output_type": "stream",
     "text": [
      "Epoch 4/50, Train Loss: 1.0491, Train Accuracy: 62.52%, Val Loss: 0.9905, Val Accuracy: 64.49%\n"
     ]
    },
    {
     "name": "stderr",
     "output_type": "stream",
     "text": [
      "Epoch 6/50:   1%|▎                                                     | 1/196 [00:00<00:38,  5.12it/s, Train Loss=1.07]"
     ]
    },
    {
     "name": "stdout",
     "output_type": "stream",
     "text": [
      "Epoch 5/50, Train Loss: 1.0454, Train Accuracy: 62.80%, Val Loss: 1.0388, Val Accuracy: 63.36%\n"
     ]
    },
    {
     "name": "stderr",
     "output_type": "stream",
     "text": [
      "Epoch 7/50:   1%|▎                                                    | 1/196 [00:00<00:38,  5.12it/s, Train Loss=0.963]"
     ]
    },
    {
     "name": "stdout",
     "output_type": "stream",
     "text": [
      "Epoch 6/50, Train Loss: 1.0421, Train Accuracy: 63.03%, Val Loss: 1.0210, Val Accuracy: 63.49%\n"
     ]
    },
    {
     "name": "stderr",
     "output_type": "stream",
     "text": [
      "Epoch 8/50:   1%|▎                                                        | 1/196 [00:00<00:37,  5.14it/s, Train Loss=1]"
     ]
    },
    {
     "name": "stdout",
     "output_type": "stream",
     "text": [
      "Epoch 7/50, Train Loss: 1.0447, Train Accuracy: 62.54%, Val Loss: 0.9971, Val Accuracy: 63.85%\n"
     ]
    },
    {
     "name": "stderr",
     "output_type": "stream",
     "text": [
      "Epoch 9/50:   0%|                                                                               | 0/196 [00:00<?, ?it/s]"
     ]
    },
    {
     "name": "stdout",
     "output_type": "stream",
     "text": [
      "Epoch 8/50, Train Loss: 1.0336, Train Accuracy: 62.81%, Val Loss: 0.9845, Val Accuracy: 64.56%\n"
     ]
    },
    {
     "name": "stderr",
     "output_type": "stream",
     "text": [
      "Epoch 10/50:   0%|                                                                              | 0/196 [00:00<?, ?it/s]"
     ]
    },
    {
     "name": "stdout",
     "output_type": "stream",
     "text": [
      "Epoch 9/50, Train Loss: 1.0322, Train Accuracy: 63.02%, Val Loss: 0.9600, Val Accuracy: 65.40%\n"
     ]
    },
    {
     "name": "stderr",
     "output_type": "stream",
     "text": [
      "Epoch 11/50:   1%|▎                                                    | 1/196 [00:00<00:38,  5.09it/s, Train Loss=1.02]"
     ]
    },
    {
     "name": "stdout",
     "output_type": "stream",
     "text": [
      "Epoch 10/50, Train Loss: 1.0303, Train Accuracy: 63.19%, Val Loss: 0.9956, Val Accuracy: 64.39%\n"
     ]
    },
    {
     "name": "stderr",
     "output_type": "stream",
     "text": [
      "Epoch 12/50:   1%|▎                                                   | 1/196 [00:00<00:38,  5.11it/s, Train Loss=0.938]"
     ]
    },
    {
     "name": "stdout",
     "output_type": "stream",
     "text": [
      "Epoch 11/50, Train Loss: 1.0248, Train Accuracy: 63.37%, Val Loss: 0.9949, Val Accuracy: 64.72%\n"
     ]
    },
    {
     "name": "stderr",
     "output_type": "stream",
     "text": [
      "Epoch 13/50:   1%|▎                                                    | 1/196 [00:00<00:38,  5.12it/s, Train Loss=0.96]"
     ]
    },
    {
     "name": "stdout",
     "output_type": "stream",
     "text": [
      "Epoch 12/50, Train Loss: 1.0204, Train Accuracy: 63.64%, Val Loss: 0.9726, Val Accuracy: 65.10%\n"
     ]
    },
    {
     "name": "stderr",
     "output_type": "stream",
     "text": [
      "Epoch 14/50:   0%|                                                                              | 0/196 [00:00<?, ?it/s]"
     ]
    },
    {
     "name": "stdout",
     "output_type": "stream",
     "text": [
      "Epoch 13/50, Train Loss: 1.0217, Train Accuracy: 63.41%, Val Loss: 0.9563, Val Accuracy: 65.84%\n"
     ]
    },
    {
     "name": "stderr",
     "output_type": "stream",
     "text": [
      "Epoch 15/50:   0%|                                                                              | 0/196 [00:00<?, ?it/s]"
     ]
    },
    {
     "name": "stdout",
     "output_type": "stream",
     "text": [
      "Epoch 14/50, Train Loss: 1.0181, Train Accuracy: 63.69%, Val Loss: 0.9506, Val Accuracy: 65.92%\n"
     ]
    },
    {
     "name": "stderr",
     "output_type": "stream",
     "text": [
      "Epoch 16/50:   1%|▎                                                   | 1/196 [00:00<00:38,  5.11it/s, Train Loss=0.983]"
     ]
    },
    {
     "name": "stdout",
     "output_type": "stream",
     "text": [
      "Epoch 15/50, Train Loss: 1.0093, Train Accuracy: 64.06%, Val Loss: 1.0187, Val Accuracy: 63.25%\n"
     ]
    },
    {
     "name": "stderr",
     "output_type": "stream",
     "text": [
      "Epoch 17/50:   1%|▎                                                    | 1/196 [00:00<00:38,  5.10it/s, Train Loss=1.08]"
     ]
    },
    {
     "name": "stdout",
     "output_type": "stream",
     "text": [
      "Epoch 16/50, Train Loss: 1.0118, Train Accuracy: 63.89%, Val Loss: 1.0337, Val Accuracy: 62.68%\n"
     ]
    },
    {
     "name": "stderr",
     "output_type": "stream",
     "text": [
      "Epoch 18/50:   1%|▎                                                     | 1/196 [00:00<00:38,  5.11it/s, Train Loss=1.1]"
     ]
    },
    {
     "name": "stdout",
     "output_type": "stream",
     "text": [
      "Epoch 17/50, Train Loss: 1.0066, Train Accuracy: 64.24%, Val Loss: 0.9954, Val Accuracy: 64.12%\n"
     ]
    },
    {
     "name": "stderr",
     "output_type": "stream",
     "text": [
      "Epoch 19/50:   1%|▎                                                    | 1/196 [00:00<00:38,  5.11it/s, Train Loss=0.96]"
     ]
    },
    {
     "name": "stdout",
     "output_type": "stream",
     "text": [
      "Epoch 18/50, Train Loss: 1.0006, Train Accuracy: 64.49%, Val Loss: 0.9841, Val Accuracy: 64.45%\n"
     ]
    },
    {
     "name": "stderr",
     "output_type": "stream",
     "text": [
      "Epoch 20/50:   1%|▎                                                   | 1/196 [00:00<00:38,  5.09it/s, Train Loss=0.937]"
     ]
    },
    {
     "name": "stdout",
     "output_type": "stream",
     "text": [
      "Epoch 19/50, Train Loss: 1.0007, Train Accuracy: 64.34%, Val Loss: 0.9766, Val Accuracy: 65.39%\n"
     ]
    },
    {
     "name": "stderr",
     "output_type": "stream",
     "text": [
      "Epoch 21/50:   0%|                                                                              | 0/196 [00:00<?, ?it/s]"
     ]
    },
    {
     "name": "stdout",
     "output_type": "stream",
     "text": [
      "Epoch 20/50, Train Loss: 1.0022, Train Accuracy: 64.02%, Val Loss: 0.9353, Val Accuracy: 66.44%\n"
     ]
    },
    {
     "name": "stderr",
     "output_type": "stream",
     "text": [
      "Epoch 22/50:   1%|▎                                                    | 1/196 [00:00<00:38,  5.13it/s, Train Loss=1.06]"
     ]
    },
    {
     "name": "stdout",
     "output_type": "stream",
     "text": [
      "Epoch 21/50, Train Loss: 0.9926, Train Accuracy: 64.44%, Val Loss: 0.9565, Val Accuracy: 66.13%\n"
     ]
    },
    {
     "name": "stderr",
     "output_type": "stream",
     "text": [
      "Epoch 23/50:   1%|▎                                                   | 1/196 [00:00<00:38,  5.12it/s, Train Loss=0.946]"
     ]
    },
    {
     "name": "stdout",
     "output_type": "stream",
     "text": [
      "Epoch 22/50, Train Loss: 0.9932, Train Accuracy: 64.80%, Val Loss: 1.0387, Val Accuracy: 63.37%\n"
     ]
    },
    {
     "name": "stderr",
     "output_type": "stream",
     "text": [
      "Epoch 24/50:   1%|▎                                                    | 1/196 [00:00<00:38,  5.12it/s, Train Loss=1.02]"
     ]
    },
    {
     "name": "stdout",
     "output_type": "stream",
     "text": [
      "Epoch 23/50, Train Loss: 0.9926, Train Accuracy: 64.54%, Val Loss: 0.9406, Val Accuracy: 66.11%\n"
     ]
    },
    {
     "name": "stderr",
     "output_type": "stream",
     "text": [
      "Epoch 25/50:   1%|▎                                                   | 1/196 [00:00<00:38,  5.11it/s, Train Loss=0.978]"
     ]
    },
    {
     "name": "stdout",
     "output_type": "stream",
     "text": [
      "Epoch 24/50, Train Loss: 0.9922, Train Accuracy: 64.64%, Val Loss: 0.9581, Val Accuracy: 66.10%\n"
     ]
    },
    {
     "name": "stderr",
     "output_type": "stream",
     "text": [
      "Epoch 26/50:   1%|▎                                                   | 1/196 [00:00<00:37,  5.14it/s, Train Loss=0.935]"
     ]
    },
    {
     "name": "stdout",
     "output_type": "stream",
     "text": [
      "Epoch 25/50, Train Loss: 0.9905, Train Accuracy: 64.63%, Val Loss: 0.9710, Val Accuracy: 65.01%\n"
     ]
    },
    {
     "name": "stderr",
     "output_type": "stream",
     "text": [
      "Epoch 27/50:   1%|▎                                                    | 1/196 [00:00<00:37,  5.14it/s, Train Loss=1.01]"
     ]
    },
    {
     "name": "stdout",
     "output_type": "stream",
     "text": [
      "Epoch 26/50, Train Loss: 0.9897, Train Accuracy: 64.70%, Val Loss: 0.9950, Val Accuracy: 64.59%\n"
     ]
    },
    {
     "name": "stderr",
     "output_type": "stream",
     "text": [
      "Epoch 28/50:   1%|▎                                                    | 1/196 [00:00<00:38,  5.11it/s, Train Loss=1.03]"
     ]
    },
    {
     "name": "stdout",
     "output_type": "stream",
     "text": [
      "Epoch 27/50, Train Loss: 0.9824, Train Accuracy: 65.00%, Val Loss: 0.9699, Val Accuracy: 65.66%\n"
     ]
    },
    {
     "name": "stderr",
     "output_type": "stream",
     "text": [
      "Epoch 29/50:   1%|▎                                                    | 1/196 [00:00<00:38,  5.12it/s, Train Loss=1.01]"
     ]
    },
    {
     "name": "stdout",
     "output_type": "stream",
     "text": [
      "Epoch 28/50, Train Loss: 0.9774, Train Accuracy: 65.08%, Val Loss: 0.9421, Val Accuracy: 66.40%\n"
     ]
    },
    {
     "name": "stderr",
     "output_type": "stream",
     "text": [
      "Epoch 30/50:   0%|                                                                              | 0/196 [00:00<?, ?it/s]"
     ]
    },
    {
     "name": "stdout",
     "output_type": "stream",
     "text": [
      "Epoch 29/50, Train Loss: 0.9759, Train Accuracy: 65.16%, Val Loss: 0.9730, Val Accuracy: 65.41%\n"
     ]
    },
    {
     "name": "stderr",
     "output_type": "stream",
     "text": [
      "Epoch 31/50:   1%|▎                                                       | 1/196 [00:00<00:38,  5.13it/s, Train Loss=1]"
     ]
    },
    {
     "name": "stdout",
     "output_type": "stream",
     "text": [
      "Epoch 30/50, Train Loss: 0.9824, Train Accuracy: 65.01%, Val Loss: 1.0110, Val Accuracy: 64.44%\n"
     ]
    },
    {
     "name": "stderr",
     "output_type": "stream",
     "text": [
      "Epoch 32/50:   1%|▎                                                       | 1/196 [00:00<00:37,  5.13it/s, Train Loss=1]"
     ]
    },
    {
     "name": "stdout",
     "output_type": "stream",
     "text": [
      "Epoch 31/50, Train Loss: 0.9757, Train Accuracy: 65.33%, Val Loss: 0.9627, Val Accuracy: 65.87%\n"
     ]
    },
    {
     "name": "stderr",
     "output_type": "stream",
     "text": [
      "Epoch 33/50:   0%|                                                            | 0/196 [00:00<?, ?it/s, Train Loss=0.929]"
     ]
    },
    {
     "name": "stdout",
     "output_type": "stream",
     "text": [
      "Epoch 32/50, Train Loss: 0.9709, Train Accuracy: 65.33%, Val Loss: 0.9389, Val Accuracy: 66.14%\n"
     ]
    },
    {
     "name": "stderr",
     "output_type": "stream",
     "text": [
      "Epoch 34/50:   1%|▎                                                   | 1/196 [00:00<00:38,  5.11it/s, Train Loss=0.863]"
     ]
    },
    {
     "name": "stdout",
     "output_type": "stream",
     "text": [
      "Epoch 33/50, Train Loss: 0.9703, Train Accuracy: 65.30%, Val Loss: 0.9572, Val Accuracy: 66.33%\n"
     ]
    },
    {
     "name": "stderr",
     "output_type": "stream",
     "text": [
      "Epoch 35/50:   1%|▎                                                   | 1/196 [00:00<00:38,  5.09it/s, Train Loss=0.944]"
     ]
    },
    {
     "name": "stdout",
     "output_type": "stream",
     "text": [
      "Epoch 34/50, Train Loss: 0.9660, Train Accuracy: 65.50%, Val Loss: 0.9375, Val Accuracy: 66.43%\n"
     ]
    },
    {
     "name": "stderr",
     "output_type": "stream",
     "text": [
      "Epoch 36/50:   1%|▎                                                     | 1/196 [00:00<00:38,  5.11it/s, Train Loss=1.1]"
     ]
    },
    {
     "name": "stdout",
     "output_type": "stream",
     "text": [
      "Epoch 35/50, Train Loss: 0.9643, Train Accuracy: 65.66%, Val Loss: 0.9726, Val Accuracy: 65.22%\n"
     ]
    },
    {
     "name": "stderr",
     "output_type": "stream",
     "text": [
      "Epoch 37/50:   0%|                                                                              | 0/196 [00:00<?, ?it/s]"
     ]
    },
    {
     "name": "stdout",
     "output_type": "stream",
     "text": [
      "Epoch 36/50, Train Loss: 0.9665, Train Accuracy: 65.32%, Val Loss: 0.9204, Val Accuracy: 67.29%\n"
     ]
    },
    {
     "name": "stderr",
     "output_type": "stream",
     "text": [
      "Epoch 38/50:   1%|▎                                                   | 1/196 [00:00<00:37,  5.14it/s, Train Loss=0.867]"
     ]
    },
    {
     "name": "stdout",
     "output_type": "stream",
     "text": [
      "Epoch 37/50, Train Loss: 0.9595, Train Accuracy: 65.72%, Val Loss: 0.9208, Val Accuracy: 67.32%\n"
     ]
    },
    {
     "name": "stderr",
     "output_type": "stream",
     "text": [
      "Epoch 39/50:   1%|▎                                                   | 1/196 [00:00<00:38,  5.11it/s, Train Loss=0.938]"
     ]
    },
    {
     "name": "stdout",
     "output_type": "stream",
     "text": [
      "Epoch 38/50, Train Loss: 0.9628, Train Accuracy: 65.87%, Val Loss: 0.9743, Val Accuracy: 65.68%\n"
     ]
    },
    {
     "name": "stderr",
     "output_type": "stream",
     "text": [
      "Epoch 40/50:   1%|▎                                                   | 1/196 [00:00<00:38,  5.12it/s, Train Loss=0.887]"
     ]
    },
    {
     "name": "stdout",
     "output_type": "stream",
     "text": [
      "Epoch 39/50, Train Loss: 0.9610, Train Accuracy: 65.73%, Val Loss: 0.9338, Val Accuracy: 67.06%\n"
     ]
    },
    {
     "name": "stderr",
     "output_type": "stream",
     "text": [
      "Epoch 41/50:   1%|▎                                                   | 1/196 [00:00<00:38,  5.11it/s, Train Loss=0.923]"
     ]
    },
    {
     "name": "stdout",
     "output_type": "stream",
     "text": [
      "Epoch 40/50, Train Loss: 0.9474, Train Accuracy: 66.17%, Val Loss: 0.9430, Val Accuracy: 66.98%\n"
     ]
    },
    {
     "name": "stderr",
     "output_type": "stream",
     "text": [
      "Epoch 42/50:   1%|▎                                                   | 1/196 [00:00<00:38,  5.12it/s, Train Loss=0.917]"
     ]
    },
    {
     "name": "stdout",
     "output_type": "stream",
     "text": [
      "Epoch 41/50, Train Loss: 0.9540, Train Accuracy: 66.01%, Val Loss: 0.9429, Val Accuracy: 66.47%\n"
     ]
    },
    {
     "name": "stderr",
     "output_type": "stream",
     "text": [
      "Epoch 43/50:   1%|▎                                                   | 1/196 [00:00<00:38,  5.12it/s, Train Loss=0.837]"
     ]
    },
    {
     "name": "stdout",
     "output_type": "stream",
     "text": [
      "Epoch 42/50, Train Loss: 0.9525, Train Accuracy: 65.96%, Val Loss: 0.9286, Val Accuracy: 66.94%\n"
     ]
    },
    {
     "name": "stderr",
     "output_type": "stream",
     "text": [
      "Epoch 44/50:   1%|▎                                                   | 1/196 [00:00<00:38,  5.11it/s, Train Loss=0.963]"
     ]
    },
    {
     "name": "stdout",
     "output_type": "stream",
     "text": [
      "Epoch 43/50, Train Loss: 0.9483, Train Accuracy: 66.62%, Val Loss: 0.9564, Val Accuracy: 66.42%\n"
     ]
    },
    {
     "name": "stderr",
     "output_type": "stream",
     "text": [
      "Epoch 45/50:   0%|                                                                              | 0/196 [00:00<?, ?it/s]"
     ]
    },
    {
     "name": "stdout",
     "output_type": "stream",
     "text": [
      "Epoch 44/50, Train Loss: 0.9450, Train Accuracy: 66.22%, Val Loss: 0.9357, Val Accuracy: 66.75%\n"
     ]
    },
    {
     "name": "stderr",
     "output_type": "stream",
     "text": [
      "Epoch 46/50:   0%|                                                                              | 0/196 [00:00<?, ?it/s]"
     ]
    },
    {
     "name": "stdout",
     "output_type": "stream",
     "text": [
      "Epoch 45/50, Train Loss: 0.9440, Train Accuracy: 66.36%, Val Loss: 0.9039, Val Accuracy: 68.27%\n"
     ]
    },
    {
     "name": "stderr",
     "output_type": "stream",
     "text": [
      "Epoch 47/50:   1%|▎                                                   | 1/196 [00:00<00:38,  5.08it/s, Train Loss=0.904]"
     ]
    },
    {
     "name": "stdout",
     "output_type": "stream",
     "text": [
      "Epoch 46/50, Train Loss: 0.9432, Train Accuracy: 66.33%, Val Loss: 0.9304, Val Accuracy: 67.32%\n"
     ]
    },
    {
     "name": "stderr",
     "output_type": "stream",
     "text": [
      "Epoch 48/50:   1%|▎                                                   | 1/196 [00:00<00:38,  5.11it/s, Train Loss=0.927]"
     ]
    },
    {
     "name": "stdout",
     "output_type": "stream",
     "text": [
      "Epoch 47/50, Train Loss: 0.9492, Train Accuracy: 66.31%, Val Loss: 0.9180, Val Accuracy: 67.01%\n"
     ]
    },
    {
     "name": "stderr",
     "output_type": "stream",
     "text": [
      "Epoch 49/50:   1%|▎                                                   | 1/196 [00:00<00:38,  5.13it/s, Train Loss=0.968]"
     ]
    },
    {
     "name": "stdout",
     "output_type": "stream",
     "text": [
      "Epoch 48/50, Train Loss: 0.9410, Train Accuracy: 66.43%, Val Loss: 0.9224, Val Accuracy: 67.19%\n"
     ]
    },
    {
     "name": "stderr",
     "output_type": "stream",
     "text": [
      "Epoch 50/50:   1%|▎                                                   | 1/196 [00:00<00:37,  5.13it/s, Train Loss=0.957]"
     ]
    },
    {
     "name": "stdout",
     "output_type": "stream",
     "text": [
      "Epoch 49/50, Train Loss: 0.9414, Train Accuracy: 66.54%, Val Loss: 0.9193, Val Accuracy: 67.14%\n"
     ]
    },
    {
     "name": "stderr",
     "output_type": "stream",
     "text": [
      "                                                                                                                        \r"
     ]
    },
    {
     "name": "stdout",
     "output_type": "stream",
     "text": [
      "Epoch 50/50, Train Loss: 0.9337, Train Accuracy: 66.81%, Val Loss: 0.9378, Val Accuracy: 67.03%\n",
      "models saved to ViT/models/20241004_144451.pth\n"
     ]
    }
   ],
   "source": [
    "# 50-100\n",
    "# Here is the hyperparameters\n",
    "\n",
    "epochs = 50\n",
    "patch_size = 8\n",
    "embed_dim = 256\n",
    "n_layers = 6\n",
    "heads = 8\n",
    "attn_dim = 512\n",
    "mlp_dim = None # default to 4*embed_dim\n",
    "pool = 'cls'\n",
    "dropout = 0.1\n",
    "\n",
    "model = ViT(image_size=32, patch_size=patch_size, num_classes=10, embed_dim=embed_dim, n_layers=n_layers, heads=heads, attn_dim=attn_dim, mlp_dim=mlp_dim, pool=pool, dropout=dropout)\n",
    "\n",
    "last_time_str = \"20241004_133312\"\n",
    "\n",
    "# load model\n",
    "model.load_state_dict(torch.load(f\"ViT/models/{last_time_str}.pth\"))\n",
    "\n",
    "print(f\"models loaded from ViT/models/{last_time_str}.pth\")\n",
    "\n",
    "optimizer = torch.optim.Adam(model.parameters(), lr=5e-4, betas=(0.9, 0.999), weight_decay=5e-4)\n",
    "\n",
    "time_str = timestr()\n",
    "\n",
    "print(f\"Time string: {time_str}\")\n",
    "\n",
    "# print the model and the number of parameters\n",
    "# print(model.transformer)\n",
    "print(f'The model has {sum(p.numel() for p in model.parameters() if p.requires_grad):,} trainable parameters')\n",
    "\n",
    "train(epochs=epochs, model=model, optimizer=optimizer, criterion=nn.CrossEntropyLoss(), \n",
    "      train_loader=train_loader, val_loader=val_loader, outdir=get_outdir(time_str))\n",
    "\n",
    "# save model\n",
    "torch.save(model.state_dict(), f\"ViT/models/{time_str}.pth\")\n",
    "\n",
    "print(f\"models saved to ViT/models/{time_str}.pth\")"
   ]
  },
  {
   "cell_type": "markdown",
   "metadata": {},
   "source": [
    "Here is the model:\n",
    "\n",
    "```bash\n",
    "AttentionLayers(\n",
    "  (layers): ModuleList(\n",
    "    (0): ModuleList(\n",
    "      (0): ModuleList(\n",
    "        (0): LayerNorm(\n",
    "          (ln): LayerNorm((256,), eps=1e-05, elementwise_affine=False)\n",
    "        )\n",
    "        (1): None\n",
    "        (2): None\n",
    "      )\n",
    "      (1): Attention(\n",
    "        (to_q): Linear(in_features=256, out_features=512, bias=False)\n",
    "        (to_k): Linear(in_features=256, out_features=512, bias=False)\n",
    "        (to_v): Linear(in_features=256, out_features=512, bias=False)\n",
    "        (attend): Attend(\n",
    "          (attn_dropout): Dropout(p=0.0, inplace=False)\n",
    "        )\n",
    "        (to_out): Linear(in_features=512, out_features=256, bias=False)\n",
    "      )\n",
    "      (2): Residual()\n",
    "    )\n",
    "    (1): ModuleList(\n",
    "      (0): ModuleList(\n",
    "        (0): LayerNorm(\n",
    "          (ln): LayerNorm((256,), eps=1e-05, elementwise_affine=False)\n",
    "        )\n",
    "        (1): None\n",
    "        (2): None\n",
    "      )\n",
    "      (1): FeedForward(\n",
    "        (ff): Sequential(\n",
    "          (0): Sequential(\n",
    "            (0): Linear(in_features=256, out_features=1024, bias=True)\n",
    "            (1): MyGELU()\n",
    "          )\n",
    "          (1): Dropout(p=0.0, inplace=False)\n",
    "          (2): Linear(in_features=1024, out_features=256, bias=True)\n",
    "        )\n",
    "      )\n",
    "      (2): Residual()\n",
    "    )\n",
    "    (2): ModuleList(\n",
    "      (0): ModuleList(\n",
    "        (0): LayerNorm(\n",
    "          (ln): LayerNorm((256,), eps=1e-05, elementwise_affine=False)\n",
    "        )\n",
    "        (1): None\n",
    "        (2): None\n",
    "      )\n",
    "      (1): Attention(\n",
    "        (to_q): Linear(in_features=256, out_features=512, bias=False)\n",
    "        (to_k): Linear(in_features=256, out_features=512, bias=False)\n",
    "        (to_v): Linear(in_features=256, out_features=512, bias=False)\n",
    "        (attend): Attend(\n",
    "          (attn_dropout): Dropout(p=0.0, inplace=False)\n",
    "        )\n",
    "        (to_out): Linear(in_features=512, out_features=256, bias=False)\n",
    "      )\n",
    "      (2): Residual()\n",
    "    )\n",
    "    (3): ModuleList(\n",
    "      (0): ModuleList(\n",
    "        (0): LayerNorm(\n",
    "          (ln): LayerNorm((256,), eps=1e-05, elementwise_affine=False)\n",
    "        )\n",
    "        (1): None\n",
    "        (2): None\n",
    "      )\n",
    "      (1): FeedForward(\n",
    "        (ff): Sequential(\n",
    "          (0): Sequential(\n",
    "            (0): Linear(in_features=256, out_features=1024, bias=True)\n",
    "            (1): MyGELU()\n",
    "          )\n",
    "          (1): Dropout(p=0.0, inplace=False)\n",
    "          (2): Linear(in_features=1024, out_features=256, bias=True)\n",
    "        )\n",
    "      )\n",
    "      (2): Residual()\n",
    "    )\n",
    "    (4): ModuleList(\n",
    "      (0): ModuleList(\n",
    "        (0): LayerNorm(\n",
    "          (ln): LayerNorm((256,), eps=1e-05, elementwise_affine=False)\n",
    "        )\n",
    "        (1): None\n",
    "        (2): None\n",
    "      )\n",
    "      (1): Attention(\n",
    "        (to_q): Linear(in_features=256, out_features=512, bias=False)\n",
    "        (to_k): Linear(in_features=256, out_features=512, bias=False)\n",
    "        (to_v): Linear(in_features=256, out_features=512, bias=False)\n",
    "        (attend): Attend(\n",
    "          (attn_dropout): Dropout(p=0.0, inplace=False)\n",
    "        )\n",
    "        (to_out): Linear(in_features=512, out_features=256, bias=False)\n",
    "      )\n",
    "      (2): Residual()\n",
    "    )\n",
    "    (5): ModuleList(\n",
    "      (0): ModuleList(\n",
    "        (0): LayerNorm(\n",
    "          (ln): LayerNorm((256,), eps=1e-05, elementwise_affine=False)\n",
    "        )\n",
    "        (1): None\n",
    "        (2): None\n",
    "      )\n",
    "      (1): FeedForward(\n",
    "        (ff): Sequential(\n",
    "          (0): Sequential(\n",
    "            (0): Linear(in_features=256, out_features=1024, bias=True)\n",
    "            (1): MyGELU()\n",
    "          )\n",
    "          (1): Dropout(p=0.0, inplace=False)\n",
    "          (2): Linear(in_features=1024, out_features=256, bias=True)\n",
    "        )\n",
    "      )\n",
    "      (2): Residual()\n",
    "    )\n",
    "    (6): ModuleList(\n",
    "      (0): ModuleList(\n",
    "        (0): LayerNorm(\n",
    "          (ln): LayerNorm((256,), eps=1e-05, elementwise_affine=False)\n",
    "        )\n",
    "        (1): None\n",
    "        (2): None\n",
    "      )\n",
    "      (1): Attention(\n",
    "        (to_q): Linear(in_features=256, out_features=512, bias=False)\n",
    "        (to_k): Linear(in_features=256, out_features=512, bias=False)\n",
    "        (to_v): Linear(in_features=256, out_features=512, bias=False)\n",
    "        (attend): Attend(\n",
    "          (attn_dropout): Dropout(p=0.0, inplace=False)\n",
    "        )\n",
    "        (to_out): Linear(in_features=512, out_features=256, bias=False)\n",
    "      )\n",
    "      (2): Residual()\n",
    "    )\n",
    "    (7): ModuleList(\n",
    "      (0): ModuleList(\n",
    "        (0): LayerNorm(\n",
    "          (ln): LayerNorm((256,), eps=1e-05, elementwise_affine=False)\n",
    "        )\n",
    "        (1): None\n",
    "        (2): None\n",
    "      )\n",
    "      (1): FeedForward(\n",
    "        (ff): Sequential(\n",
    "          (0): Sequential(\n",
    "            (0): Linear(in_features=256, out_features=1024, bias=True)\n",
    "            (1): MyGELU()\n",
    "          )\n",
    "          (1): Dropout(p=0.0, inplace=False)\n",
    "          (2): Linear(in_features=1024, out_features=256, bias=True)\n",
    "        )\n",
    "      )\n",
    "      (2): Residual()\n",
    "    )\n",
    "    (8): ModuleList(\n",
    "      (0): ModuleList(\n",
    "        (0): LayerNorm(\n",
    "          (ln): LayerNorm((256,), eps=1e-05, elementwise_affine=False)\n",
    "        )\n",
    "        (1): None\n",
    "        (2): None\n",
    "      )\n",
    "      (1): Attention(\n",
    "        (to_q): Linear(in_features=256, out_features=512, bias=False)\n",
    "        (to_k): Linear(in_features=256, out_features=512, bias=False)\n",
    "        (to_v): Linear(in_features=256, out_features=512, bias=False)\n",
    "        (attend): Attend(\n",
    "          (attn_dropout): Dropout(p=0.0, inplace=False)\n",
    "        )\n",
    "        (to_out): Linear(in_features=512, out_features=256, bias=False)\n",
    "      )\n",
    "      (2): Residual()\n",
    "    )\n",
    "    (9): ModuleList(\n",
    "      (0): ModuleList(\n",
    "        (0): LayerNorm(\n",
    "          (ln): LayerNorm((256,), eps=1e-05, elementwise_affine=False)\n",
    "        )\n",
    "        (1): None\n",
    "        (2): None\n",
    "      )\n",
    "      (1): FeedForward(\n",
    "        (ff): Sequential(\n",
    "          (0): Sequential(\n",
    "            (0): Linear(in_features=256, out_features=1024, bias=True)\n",
    "            (1): MyGELU()\n",
    "          )\n",
    "          (1): Dropout(p=0.0, inplace=False)\n",
    "          (2): Linear(in_features=1024, out_features=256, bias=True)\n",
    "        )\n",
    "      )\n",
    "      (2): Residual()\n",
    "    )\n",
    "    (10): ModuleList(\n",
    "      (0): ModuleList(\n",
    "        (0): LayerNorm(\n",
    "          (ln): LayerNorm((256,), eps=1e-05, elementwise_affine=False)\n",
    "        )\n",
    "        (1): None\n",
    "        (2): None\n",
    "      )\n",
    "      (1): Attention(\n",
    "        (to_q): Linear(in_features=256, out_features=512, bias=False)\n",
    "        (to_k): Linear(in_features=256, out_features=512, bias=False)\n",
    "        (to_v): Linear(in_features=256, out_features=512, bias=False)\n",
    "        (attend): Attend(\n",
    "          (attn_dropout): Dropout(p=0.0, inplace=False)\n",
    "        )\n",
    "        (to_out): Linear(in_features=512, out_features=256, bias=False)\n",
    "      )\n",
    "      (2): Residual()\n",
    "    )\n",
    "    (11): ModuleList(\n",
    "      (0): ModuleList(\n",
    "        (0): LayerNorm(\n",
    "          (ln): LayerNorm((256,), eps=1e-05, elementwise_affine=False)\n",
    "        )\n",
    "        (1): None\n",
    "        (2): None\n",
    "      )\n",
    "      (1): FeedForward(\n",
    "        (ff): Sequential(\n",
    "          (0): Sequential(\n",
    "            (0): Linear(in_features=256, out_features=1024, bias=True)\n",
    "            (1): MyGELU()\n",
    "          )\n",
    "          (1): Dropout(p=0.0, inplace=False)\n",
    "          (2): Linear(in_features=1024, out_features=256, bias=True)\n",
    "        )\n",
    "      )\n",
    "      (2): Residual()\n",
    "    )\n",
    "  )\n",
    "  (adaptive_mlp): Identity()\n",
    "  (final_norm): LayerNorm(\n",
    "    (ln): LayerNorm((256,), eps=1e-05, elementwise_affine=False)\n",
    "  )\n",
    "  (skip_combines): ModuleList(\n",
    "    (0): None\n",
    "    (1): None\n",
    "    (2): None\n",
    "    (3): None\n",
    "    (4): None\n",
    "    (5): None\n",
    "    (6): None\n",
    "    (7): None\n",
    "    (8): None\n",
    "    (9): None\n",
    "    (10): None\n",
    "    (11): None\n",
    "  )\n",
    ")\n",
    "\n",
    "```"
   ]
  }
 ],
 "metadata": {
  "kernelspec": {
   "display_name": "Python 3 (ipykernel)",
   "language": "python",
   "name": "python3"
  },
  "language_info": {
   "codemirror_mode": {
    "name": "ipython",
    "version": 3
   },
   "file_extension": ".py",
   "mimetype": "text/x-python",
   "name": "python",
   "nbconvert_exporter": "python",
   "pygments_lexer": "ipython3",
   "version": "3.7.6"
  }
 },
 "nbformat": 4,
 "nbformat_minor": 2
}
