{
 "cells": [
  {
   "cell_type": "markdown",
   "metadata": {},
   "source": [
    "# Vit for classification in CIFAR-10"
   ]
  },
  {
   "cell_type": "code",
   "execution_count": 1,
   "metadata": {},
   "outputs": [
    {
     "name": "stdout",
     "output_type": "stream",
     "text": [
      "Fri Oct  4 19:02:43 2024       \n",
      "+---------------------------------------------------------------------------------------+\n",
      "| NVIDIA-SMI 535.86.10              Driver Version: 535.86.10    CUDA Version: 12.2     |\n",
      "|-----------------------------------------+----------------------+----------------------+\n",
      "| GPU  Name                 Persistence-M | Bus-Id        Disp.A | Volatile Uncorr. ECC |\n",
      "| Fan  Temp   Perf          Pwr:Usage/Cap |         Memory-Usage | GPU-Util  Compute M. |\n",
      "|                                         |                      |               MIG M. |\n",
      "|=========================================+======================+======================|\n",
      "|   0  Tesla V100-SXM2-32GB           On  | 00000004:04:00.0 Off |                    0 |\n",
      "| N/A   41C    P0              41W / 300W |      0MiB / 32768MiB |      0%      Default |\n",
      "|                                         |                      |                  N/A |\n",
      "+-----------------------------------------+----------------------+----------------------+\n",
      "                                                                                         \n",
      "+---------------------------------------------------------------------------------------+\n",
      "| Processes:                                                                            |\n",
      "|  GPU   GI   CI        PID   Type   Process name                            GPU Memory |\n",
      "|        ID   ID                                                             Usage      |\n",
      "|=======================================================================================|\n",
      "|  No running processes found                                                           |\n",
      "+---------------------------------------------------------------------------------------+\n",
      "/nobackup/users/sqa24/anaconda3/envs/wgt/bin/python\n"
     ]
    }
   ],
   "source": [
    "%load_ext autoreload\n",
    "%autoreload 2\n",
    "!nvidia-smi\n",
    "!which python"
   ]
  },
  {
   "cell_type": "code",
   "execution_count": 2,
   "metadata": {},
   "outputs": [
    {
     "name": "stdout",
     "output_type": "stream",
     "text": [
      "Files already downloaded and verified\n",
      "Files already downloaded and verified\n"
     ]
    }
   ],
   "source": [
    "try:\n",
    "    from ViT.train import train\n",
    "    from ViT.utils import cifar_train_set, cifar_val_set\n",
    "    from ViT.model import *\n",
    "except:\n",
    "    from train import train\n",
    "    from utils import cifar_train_set, cifar_val_set\n",
    "    from model import *\n",
    "\n",
    "from torch.utils.data import DataLoader\n",
    "\n",
    "import torch\n",
    "import torch.nn as nn\n",
    "import torch.nn.functional as F\n",
    "\n",
    "import datetime\n",
    "\n",
    "train_loader = DataLoader(cifar_train_set, 256, shuffle=True, drop_last=False, pin_memory=True)\n",
    "val_loader = DataLoader(cifar_val_set, 500, shuffle=True, drop_last=False, pin_memory=True)\n",
    "\n",
    "import os\n",
    "if not os.path.exists(\"ViT/log\"):\n",
    "    os.makedirs(\"ViT/log\")\n",
    "\n",
    "def timestr():\n",
    "    now = datetime.datetime.now()\n",
    "    return now.strftime(\"%Y%m%d_%H%M%S\")\n",
    "\n",
    "def get_outdir(time_str):\n",
    "    outdir = f\"ViT/log/{time_str}.out\"\n",
    "    return outdir"
   ]
  },
  {
   "cell_type": "code",
   "execution_count": 3,
   "metadata": {},
   "outputs": [
    {
     "name": "stdout",
     "output_type": "stream",
     "text": [
      "Time string: 20241004_133312\n",
      "The model has 6,359,562 trainable parameters\n"
     ]
    },
    {
     "name": "stderr",
     "output_type": "stream",
     "text": [
      "Epoch 2/50:   0%|                                                                               | 0/196 [00:00<?, ?it/s]"
     ]
    },
    {
     "name": "stdout",
     "output_type": "stream",
     "text": [
      "Epoch 1/50, Train Loss: 1.9669, Train Accuracy: 26.23%, Val Loss: 1.7118, Val Accuracy: 37.17%\n"
     ]
    },
    {
     "name": "stderr",
     "output_type": "stream",
     "text": [
      "Epoch 3/50:   0%|                                                                               | 0/196 [00:00<?, ?it/s]"
     ]
    },
    {
     "name": "stdout",
     "output_type": "stream",
     "text": [
      "Epoch 2/50, Train Loss: 1.6896, Train Accuracy: 37.97%, Val Loss: 1.5440, Val Accuracy: 44.06%\n"
     ]
    },
    {
     "name": "stderr",
     "output_type": "stream",
     "text": [
      "Epoch 4/50:   0%|                                                                               | 0/196 [00:00<?, ?it/s]"
     ]
    },
    {
     "name": "stdout",
     "output_type": "stream",
     "text": [
      "Epoch 3/50, Train Loss: 1.6042, Train Accuracy: 41.44%, Val Loss: 1.4898, Val Accuracy: 47.19%\n"
     ]
    },
    {
     "name": "stderr",
     "output_type": "stream",
     "text": [
      "Epoch 5/50:   0%|                                                                               | 0/196 [00:00<?, ?it/s]"
     ]
    },
    {
     "name": "stdout",
     "output_type": "stream",
     "text": [
      "Epoch 4/50, Train Loss: 1.5500, Train Accuracy: 43.60%, Val Loss: 1.4661, Val Accuracy: 46.92%\n"
     ]
    },
    {
     "name": "stderr",
     "output_type": "stream",
     "text": [
      "Epoch 6/50:   0%|                                                                               | 0/196 [00:00<?, ?it/s]"
     ]
    },
    {
     "name": "stdout",
     "output_type": "stream",
     "text": [
      "Epoch 5/50, Train Loss: 1.5178, Train Accuracy: 44.67%, Val Loss: 1.4180, Val Accuracy: 48.83%\n"
     ]
    },
    {
     "name": "stderr",
     "output_type": "stream",
     "text": [
      "Epoch 7/50:   0%|                                                                               | 0/196 [00:00<?, ?it/s]"
     ]
    },
    {
     "name": "stdout",
     "output_type": "stream",
     "text": [
      "Epoch 6/50, Train Loss: 1.4886, Train Accuracy: 46.10%, Val Loss: 1.3669, Val Accuracy: 51.26%\n"
     ]
    },
    {
     "name": "stderr",
     "output_type": "stream",
     "text": [
      "Epoch 8/50:   0%|                                                                               | 0/196 [00:00<?, ?it/s]"
     ]
    },
    {
     "name": "stdout",
     "output_type": "stream",
     "text": [
      "Epoch 7/50, Train Loss: 1.4547, Train Accuracy: 46.95%, Val Loss: 1.3577, Val Accuracy: 51.31%\n"
     ]
    },
    {
     "name": "stderr",
     "output_type": "stream",
     "text": [
      "Epoch 9/50:   1%|▎                                                     | 1/196 [00:00<00:38,  5.12it/s, Train Loss=1.33]"
     ]
    },
    {
     "name": "stdout",
     "output_type": "stream",
     "text": [
      "Epoch 8/50, Train Loss: 1.4381, Train Accuracy: 47.78%, Val Loss: 1.3719, Val Accuracy: 50.86%\n"
     ]
    },
    {
     "name": "stderr",
     "output_type": "stream",
     "text": [
      "Epoch 10/50:   0%|                                                                              | 0/196 [00:00<?, ?it/s]"
     ]
    },
    {
     "name": "stdout",
     "output_type": "stream",
     "text": [
      "Epoch 9/50, Train Loss: 1.4172, Train Accuracy: 48.61%, Val Loss: 1.3351, Val Accuracy: 51.55%\n"
     ]
    },
    {
     "name": "stderr",
     "output_type": "stream",
     "text": [
      "Epoch 11/50:   1%|▎                                                    | 1/196 [00:00<00:38,  5.13it/s, Train Loss=1.41]"
     ]
    },
    {
     "name": "stdout",
     "output_type": "stream",
     "text": [
      "Epoch 10/50, Train Loss: 1.3918, Train Accuracy: 49.85%, Val Loss: 1.3652, Val Accuracy: 51.80%\n"
     ]
    },
    {
     "name": "stderr",
     "output_type": "stream",
     "text": [
      "Epoch 12/50:   0%|                                                                              | 0/196 [00:00<?, ?it/s]"
     ]
    },
    {
     "name": "stdout",
     "output_type": "stream",
     "text": [
      "Epoch 11/50, Train Loss: 1.3840, Train Accuracy: 49.91%, Val Loss: 1.3084, Val Accuracy: 52.82%\n"
     ]
    },
    {
     "name": "stderr",
     "output_type": "stream",
     "text": [
      "Epoch 13/50:   0%|                                                                              | 0/196 [00:00<?, ?it/s]"
     ]
    },
    {
     "name": "stdout",
     "output_type": "stream",
     "text": [
      "Epoch 12/50, Train Loss: 1.3704, Train Accuracy: 50.40%, Val Loss: 1.2775, Val Accuracy: 53.90%\n"
     ]
    },
    {
     "name": "stderr",
     "output_type": "stream",
     "text": [
      "Epoch 14/50:   0%|                                                                              | 0/196 [00:00<?, ?it/s]"
     ]
    },
    {
     "name": "stdout",
     "output_type": "stream",
     "text": [
      "Epoch 13/50, Train Loss: 1.3542, Train Accuracy: 51.16%, Val Loss: 1.2541, Val Accuracy: 55.00%\n"
     ]
    },
    {
     "name": "stderr",
     "output_type": "stream",
     "text": [
      "Epoch 15/50:   0%|                                                                              | 0/196 [00:00<?, ?it/s]"
     ]
    },
    {
     "name": "stdout",
     "output_type": "stream",
     "text": [
      "Epoch 14/50, Train Loss: 1.3304, Train Accuracy: 52.06%, Val Loss: 1.2384, Val Accuracy: 55.77%\n"
     ]
    },
    {
     "name": "stderr",
     "output_type": "stream",
     "text": [
      "Epoch 16/50:   0%|                                                                              | 0/196 [00:00<?, ?it/s]"
     ]
    },
    {
     "name": "stdout",
     "output_type": "stream",
     "text": [
      "Epoch 15/50, Train Loss: 1.3251, Train Accuracy: 52.35%, Val Loss: 1.2379, Val Accuracy: 55.36%\n"
     ]
    },
    {
     "name": "stderr",
     "output_type": "stream",
     "text": [
      "Epoch 17/50:   1%|▎                                                     | 1/196 [00:00<00:38,  5.12it/s, Train Loss=1.3]"
     ]
    },
    {
     "name": "stdout",
     "output_type": "stream",
     "text": [
      "Epoch 16/50, Train Loss: 1.3095, Train Accuracy: 52.42%, Val Loss: 1.2401, Val Accuracy: 55.10%\n"
     ]
    },
    {
     "name": "stderr",
     "output_type": "stream",
     "text": [
      "Epoch 18/50:   0%|                                                                              | 0/196 [00:00<?, ?it/s]"
     ]
    },
    {
     "name": "stdout",
     "output_type": "stream",
     "text": [
      "Epoch 17/50, Train Loss: 1.2963, Train Accuracy: 53.14%, Val Loss: 1.2234, Val Accuracy: 55.93%\n"
     ]
    },
    {
     "name": "stderr",
     "output_type": "stream",
     "text": [
      "Epoch 19/50:   1%|▎                                                     | 1/196 [00:00<00:38,  5.12it/s, Train Loss=1.2]"
     ]
    },
    {
     "name": "stdout",
     "output_type": "stream",
     "text": [
      "Epoch 18/50, Train Loss: 1.2865, Train Accuracy: 53.74%, Val Loss: 1.2258, Val Accuracy: 56.06%\n"
     ]
    },
    {
     "name": "stderr",
     "output_type": "stream",
     "text": [
      "Epoch 20/50:   0%|                                                                              | 0/196 [00:00<?, ?it/s]"
     ]
    },
    {
     "name": "stdout",
     "output_type": "stream",
     "text": [
      "Epoch 19/50, Train Loss: 1.2736, Train Accuracy: 54.31%, Val Loss: 1.1872, Val Accuracy: 57.14%\n"
     ]
    },
    {
     "name": "stderr",
     "output_type": "stream",
     "text": [
      "Epoch 21/50:   1%|▎                                                    | 1/196 [00:00<00:37,  5.15it/s, Train Loss=1.34]"
     ]
    },
    {
     "name": "stdout",
     "output_type": "stream",
     "text": [
      "Epoch 20/50, Train Loss: 1.2591, Train Accuracy: 54.54%, Val Loss: 1.1940, Val Accuracy: 56.88%\n"
     ]
    },
    {
     "name": "stderr",
     "output_type": "stream",
     "text": [
      "Epoch 22/50:   1%|▎                                                    | 1/196 [00:00<00:37,  5.13it/s, Train Loss=1.41]"
     ]
    },
    {
     "name": "stdout",
     "output_type": "stream",
     "text": [
      "Epoch 21/50, Train Loss: 1.2496, Train Accuracy: 54.81%, Val Loss: 1.2242, Val Accuracy: 56.41%\n"
     ]
    },
    {
     "name": "stderr",
     "output_type": "stream",
     "text": [
      "Epoch 23/50:   1%|▎                                                    | 1/196 [00:00<00:38,  5.08it/s, Train Loss=1.15]"
     ]
    },
    {
     "name": "stdout",
     "output_type": "stream",
     "text": [
      "Epoch 22/50, Train Loss: 1.2370, Train Accuracy: 55.45%, Val Loss: 1.1940, Val Accuracy: 57.42%\n"
     ]
    },
    {
     "name": "stderr",
     "output_type": "stream",
     "text": [
      "Epoch 24/50:   0%|                                                                              | 0/196 [00:00<?, ?it/s]"
     ]
    },
    {
     "name": "stdout",
     "output_type": "stream",
     "text": [
      "Epoch 23/50, Train Loss: 1.2343, Train Accuracy: 55.57%, Val Loss: 1.1976, Val Accuracy: 56.76%\n"
     ]
    },
    {
     "name": "stderr",
     "output_type": "stream",
     "text": [
      "Epoch 25/50:   0%|                                                                              | 0/196 [00:00<?, ?it/s]"
     ]
    },
    {
     "name": "stdout",
     "output_type": "stream",
     "text": [
      "Epoch 24/50, Train Loss: 1.2133, Train Accuracy: 56.51%, Val Loss: 1.1350, Val Accuracy: 59.70%\n"
     ]
    },
    {
     "name": "stderr",
     "output_type": "stream",
     "text": [
      "Epoch 26/50:   1%|▎                                                    | 1/196 [00:00<00:37,  5.14it/s, Train Loss=1.19]"
     ]
    },
    {
     "name": "stdout",
     "output_type": "stream",
     "text": [
      "Epoch 25/50, Train Loss: 1.2108, Train Accuracy: 56.56%, Val Loss: 1.1437, Val Accuracy: 59.18%\n"
     ]
    },
    {
     "name": "stderr",
     "output_type": "stream",
     "text": [
      "Epoch 27/50:   1%|▎                                                    | 1/196 [00:00<00:38,  5.12it/s, Train Loss=1.21]"
     ]
    },
    {
     "name": "stdout",
     "output_type": "stream",
     "text": [
      "Epoch 26/50, Train Loss: 1.2083, Train Accuracy: 56.61%, Val Loss: 1.1670, Val Accuracy: 57.68%\n"
     ]
    },
    {
     "name": "stderr",
     "output_type": "stream",
     "text": [
      "Epoch 28/50:   1%|▎                                                    | 1/196 [00:00<00:38,  5.13it/s, Train Loss=1.21]"
     ]
    },
    {
     "name": "stdout",
     "output_type": "stream",
     "text": [
      "Epoch 27/50, Train Loss: 1.1885, Train Accuracy: 57.24%, Val Loss: 1.1580, Val Accuracy: 58.33%\n"
     ]
    },
    {
     "name": "stderr",
     "output_type": "stream",
     "text": [
      "Epoch 29/50:   0%|                                                                              | 0/196 [00:00<?, ?it/s]"
     ]
    },
    {
     "name": "stdout",
     "output_type": "stream",
     "text": [
      "Epoch 28/50, Train Loss: 1.1833, Train Accuracy: 57.38%, Val Loss: 1.1123, Val Accuracy: 59.54%\n"
     ]
    },
    {
     "name": "stderr",
     "output_type": "stream",
     "text": [
      "Epoch 30/50:   1%|▎                                                    | 1/196 [00:00<00:37,  5.15it/s, Train Loss=1.24]"
     ]
    },
    {
     "name": "stdout",
     "output_type": "stream",
     "text": [
      "Epoch 29/50, Train Loss: 1.1789, Train Accuracy: 57.63%, Val Loss: 1.1496, Val Accuracy: 58.99%\n"
     ]
    },
    {
     "name": "stderr",
     "output_type": "stream",
     "text": [
      "Epoch 31/50:   1%|▎                                                    | 1/196 [00:00<00:37,  5.13it/s, Train Loss=1.14]"
     ]
    },
    {
     "name": "stdout",
     "output_type": "stream",
     "text": [
      "Epoch 30/50, Train Loss: 1.1718, Train Accuracy: 57.87%, Val Loss: 1.1618, Val Accuracy: 59.15%\n"
     ]
    },
    {
     "name": "stderr",
     "output_type": "stream",
     "text": [
      "Epoch 32/50:   0%|                                                                              | 0/196 [00:00<?, ?it/s]"
     ]
    },
    {
     "name": "stdout",
     "output_type": "stream",
     "text": [
      "Epoch 31/50, Train Loss: 1.1708, Train Accuracy: 57.95%, Val Loss: 1.1034, Val Accuracy: 60.85%\n"
     ]
    },
    {
     "name": "stderr",
     "output_type": "stream",
     "text": [
      "Epoch 33/50:   0%|                                                                              | 0/196 [00:00<?, ?it/s]"
     ]
    },
    {
     "name": "stdout",
     "output_type": "stream",
     "text": [
      "Epoch 32/50, Train Loss: 1.1559, Train Accuracy: 58.50%, Val Loss: 1.0916, Val Accuracy: 60.69%\n"
     ]
    },
    {
     "name": "stderr",
     "output_type": "stream",
     "text": [
      "Epoch 34/50:   0%|                                                             | 0/196 [00:00<?, ?it/s, Train Loss=1.03]"
     ]
    },
    {
     "name": "stdout",
     "output_type": "stream",
     "text": [
      "Epoch 33/50, Train Loss: 1.1532, Train Accuracy: 58.68%, Val Loss: 1.1199, Val Accuracy: 59.84%\n"
     ]
    },
    {
     "name": "stderr",
     "output_type": "stream",
     "text": [
      "Epoch 35/50:   0%|                                                                              | 0/196 [00:00<?, ?it/s]"
     ]
    },
    {
     "name": "stdout",
     "output_type": "stream",
     "text": [
      "Epoch 34/50, Train Loss: 1.1382, Train Accuracy: 59.26%, Val Loss: 1.0802, Val Accuracy: 61.54%\n"
     ]
    },
    {
     "name": "stderr",
     "output_type": "stream",
     "text": [
      "Epoch 36/50:   1%|▎                                                    | 1/196 [00:00<00:38,  5.11it/s, Train Loss=1.25]"
     ]
    },
    {
     "name": "stdout",
     "output_type": "stream",
     "text": [
      "Epoch 35/50, Train Loss: 1.1345, Train Accuracy: 59.31%, Val Loss: 1.1131, Val Accuracy: 60.47%\n"
     ]
    },
    {
     "name": "stderr",
     "output_type": "stream",
     "text": [
      "Epoch 37/50:   1%|▎                                                    | 1/196 [00:00<00:37,  5.14it/s, Train Loss=1.05]"
     ]
    },
    {
     "name": "stdout",
     "output_type": "stream",
     "text": [
      "Epoch 36/50, Train Loss: 1.1343, Train Accuracy: 59.49%, Val Loss: 1.0811, Val Accuracy: 61.49%\n"
     ]
    },
    {
     "name": "stderr",
     "output_type": "stream",
     "text": [
      "Epoch 38/50:   0%|                                                                              | 0/196 [00:00<?, ?it/s]"
     ]
    },
    {
     "name": "stdout",
     "output_type": "stream",
     "text": [
      "Epoch 37/50, Train Loss: 1.1301, Train Accuracy: 59.63%, Val Loss: 1.0684, Val Accuracy: 61.89%\n"
     ]
    },
    {
     "name": "stderr",
     "output_type": "stream",
     "text": [
      "Epoch 39/50:   1%|▎                                                    | 1/196 [00:00<00:38,  5.13it/s, Train Loss=1.11]"
     ]
    },
    {
     "name": "stdout",
     "output_type": "stream",
     "text": [
      "Epoch 38/50, Train Loss: 1.1211, Train Accuracy: 59.73%, Val Loss: 1.1246, Val Accuracy: 60.24%\n"
     ]
    },
    {
     "name": "stderr",
     "output_type": "stream",
     "text": [
      "Epoch 40/50:   0%|                                                                              | 0/196 [00:00<?, ?it/s]"
     ]
    },
    {
     "name": "stdout",
     "output_type": "stream",
     "text": [
      "Epoch 39/50, Train Loss: 1.1164, Train Accuracy: 60.16%, Val Loss: 1.0518, Val Accuracy: 62.17%\n"
     ]
    },
    {
     "name": "stderr",
     "output_type": "stream",
     "text": [
      "Epoch 41/50:   0%|                                                                              | 0/196 [00:00<?, ?it/s]"
     ]
    },
    {
     "name": "stdout",
     "output_type": "stream",
     "text": [
      "Epoch 40/50, Train Loss: 1.1102, Train Accuracy: 60.27%, Val Loss: 1.0503, Val Accuracy: 62.70%\n"
     ]
    },
    {
     "name": "stderr",
     "output_type": "stream",
     "text": [
      "Epoch 42/50:   0%|                                                                              | 0/196 [00:00<?, ?it/s]"
     ]
    },
    {
     "name": "stdout",
     "output_type": "stream",
     "text": [
      "Epoch 41/50, Train Loss: 1.1061, Train Accuracy: 60.32%, Val Loss: 1.0140, Val Accuracy: 64.33%\n"
     ]
    },
    {
     "name": "stderr",
     "output_type": "stream",
     "text": [
      "Epoch 43/50:   1%|▎                                                    | 1/196 [00:00<00:38,  5.10it/s, Train Loss=1.04]"
     ]
    },
    {
     "name": "stdout",
     "output_type": "stream",
     "text": [
      "Epoch 42/50, Train Loss: 1.1017, Train Accuracy: 60.69%, Val Loss: 1.0326, Val Accuracy: 63.54%\n"
     ]
    },
    {
     "name": "stderr",
     "output_type": "stream",
     "text": [
      "Epoch 44/50:   1%|▎                                                     | 1/196 [00:00<00:38,  5.12it/s, Train Loss=1.1]"
     ]
    },
    {
     "name": "stdout",
     "output_type": "stream",
     "text": [
      "Epoch 43/50, Train Loss: 1.0962, Train Accuracy: 60.97%, Val Loss: 1.0429, Val Accuracy: 62.45%\n"
     ]
    },
    {
     "name": "stderr",
     "output_type": "stream",
     "text": [
      "Epoch 45/50:   1%|▎                                                    | 1/196 [00:00<00:38,  5.12it/s, Train Loss=1.15]"
     ]
    },
    {
     "name": "stdout",
     "output_type": "stream",
     "text": [
      "Epoch 44/50, Train Loss: 1.0932, Train Accuracy: 60.88%, Val Loss: 1.0419, Val Accuracy: 62.99%\n"
     ]
    },
    {
     "name": "stderr",
     "output_type": "stream",
     "text": [
      "Epoch 46/50:   0%|                                                                | 0/196 [00:00<?, ?it/s, Train Loss=1]"
     ]
    },
    {
     "name": "stdout",
     "output_type": "stream",
     "text": [
      "Epoch 45/50, Train Loss: 1.0879, Train Accuracy: 61.10%, Val Loss: 1.0425, Val Accuracy: 62.53%\n"
     ]
    },
    {
     "name": "stderr",
     "output_type": "stream",
     "text": [
      "Epoch 47/50:   1%|▎                                                    | 1/196 [00:00<00:38,  5.12it/s, Train Loss=1.06]"
     ]
    },
    {
     "name": "stdout",
     "output_type": "stream",
     "text": [
      "Epoch 46/50, Train Loss: 1.0823, Train Accuracy: 61.38%, Val Loss: 1.0473, Val Accuracy: 62.32%\n"
     ]
    },
    {
     "name": "stderr",
     "output_type": "stream",
     "text": [
      "Epoch 48/50:   1%|▎                                                    | 1/196 [00:00<00:37,  5.13it/s, Train Loss=1.04]"
     ]
    },
    {
     "name": "stdout",
     "output_type": "stream",
     "text": [
      "Epoch 47/50, Train Loss: 1.0784, Train Accuracy: 61.52%, Val Loss: 1.0472, Val Accuracy: 62.54%\n"
     ]
    },
    {
     "name": "stderr",
     "output_type": "stream",
     "text": [
      "Epoch 49/50:   1%|▎                                                    | 1/196 [00:00<00:38,  5.12it/s, Train Loss=1.04]"
     ]
    },
    {
     "name": "stdout",
     "output_type": "stream",
     "text": [
      "Epoch 48/50, Train Loss: 1.0690, Train Accuracy: 61.86%, Val Loss: 1.0343, Val Accuracy: 63.00%\n"
     ]
    },
    {
     "name": "stderr",
     "output_type": "stream",
     "text": [
      "Epoch 50/50:   1%|▎                                                    | 1/196 [00:00<00:37,  5.14it/s, Train Loss=1.05]"
     ]
    },
    {
     "name": "stdout",
     "output_type": "stream",
     "text": [
      "Epoch 49/50, Train Loss: 1.0728, Train Accuracy: 61.53%, Val Loss: 1.0479, Val Accuracy: 62.79%\n"
     ]
    },
    {
     "name": "stderr",
     "output_type": "stream",
     "text": [
      "                                                                                                                        \r"
     ]
    },
    {
     "name": "stdout",
     "output_type": "stream",
     "text": [
      "Epoch 50/50, Train Loss: 1.0618, Train Accuracy: 62.00%, Val Loss: 0.9984, Val Accuracy: 63.92%\n"
     ]
    }
   ],
   "source": [
    "# Here is the hyperparameters\n",
    "\n",
    "epochs = 50\n",
    "patch_size = 8\n",
    "embed_dim = 256\n",
    "n_layers = 6\n",
    "heads = 8\n",
    "attn_dim = 512\n",
    "mlp_dim = None # default to 4*embed_dim\n",
    "pool = 'cls'\n",
    "dropout = 0.1\n",
    "\n",
    "model = ViT(image_size=32, patch_size=patch_size, num_classes=10, embed_dim=embed_dim, n_layers=n_layers, heads=heads, attn_dim=attn_dim, mlp_dim=mlp_dim, pool=pool, dropout=dropout)\n",
    "\n",
    "optimizer = torch.optim.Adam(model.parameters(), lr=5e-4, betas=(0.9, 0.999), weight_decay=5e-4)\n",
    "\n",
    "time_str = timestr()\n",
    "\n",
    "print(f\"Time string: {time_str}\")\n",
    "\n",
    "# print the model and the number of parameters\n",
    "# print(model.transformer)\n",
    "print(f'The model has {sum(p.numel() for p in model.parameters() if p.requires_grad):,} trainable parameters')\n",
    "\n",
    "train(epochs=epochs, model=model, optimizer=optimizer, criterion=nn.CrossEntropyLoss(), \n",
    "      train_loader=train_loader, val_loader=val_loader, outdir=get_outdir(time_str))\\\n",
    "\n",
    "# save model\n",
    "torch.save(model.state_dict(), f\"ViT/models/{time_str}.pth\")"
   ]
  },
  {
   "cell_type": "code",
   "execution_count": 3,
   "metadata": {},
   "outputs": [
    {
     "name": "stderr",
     "output_type": "stream",
     "text": [
      "Epoch 1/50:   0%|                                                                               | 0/196 [00:00<?, ?it/s]"
     ]
    },
    {
     "name": "stdout",
     "output_type": "stream",
     "text": [
      "models loaded from ViT/models/20241004_133312.pth\n",
      "Time string: 20241004_144451\n",
      "The model has 6,359,562 trainable parameters\n"
     ]
    },
    {
     "name": "stderr",
     "output_type": "stream",
     "text": [
      "Epoch 2/50:   0%|                                                                               | 0/196 [00:00<?, ?it/s]"
     ]
    },
    {
     "name": "stdout",
     "output_type": "stream",
     "text": [
      "Epoch 1/50, Train Loss: 1.0639, Train Accuracy: 61.96%, Val Loss: 1.0799, Val Accuracy: 61.26%\n"
     ]
    },
    {
     "name": "stderr",
     "output_type": "stream",
     "text": [
      "Epoch 3/50:   0%|                                                                               | 0/196 [00:00<?, ?it/s]"
     ]
    },
    {
     "name": "stdout",
     "output_type": "stream",
     "text": [
      "Epoch 2/50, Train Loss: 1.0559, Train Accuracy: 62.45%, Val Loss: 1.0296, Val Accuracy: 63.72%\n"
     ]
    },
    {
     "name": "stderr",
     "output_type": "stream",
     "text": [
      "Epoch 4/50:   1%|▎                                                     | 1/196 [00:00<00:38,  5.12it/s, Train Loss=1.19]"
     ]
    },
    {
     "name": "stdout",
     "output_type": "stream",
     "text": [
      "Epoch 3/50, Train Loss: 1.0530, Train Accuracy: 62.34%, Val Loss: 1.0361, Val Accuracy: 63.36%\n"
     ]
    },
    {
     "name": "stderr",
     "output_type": "stream",
     "text": [
      "Epoch 5/50:   0%|                                                                               | 0/196 [00:00<?, ?it/s]"
     ]
    },
    {
     "name": "stdout",
     "output_type": "stream",
     "text": [
      "Epoch 4/50, Train Loss: 1.0491, Train Accuracy: 62.52%, Val Loss: 0.9905, Val Accuracy: 64.49%\n"
     ]
    },
    {
     "name": "stderr",
     "output_type": "stream",
     "text": [
      "Epoch 6/50:   1%|▎                                                     | 1/196 [00:00<00:38,  5.12it/s, Train Loss=1.07]"
     ]
    },
    {
     "name": "stdout",
     "output_type": "stream",
     "text": [
      "Epoch 5/50, Train Loss: 1.0454, Train Accuracy: 62.80%, Val Loss: 1.0388, Val Accuracy: 63.36%\n"
     ]
    },
    {
     "name": "stderr",
     "output_type": "stream",
     "text": [
      "Epoch 7/50:   1%|▎                                                    | 1/196 [00:00<00:38,  5.12it/s, Train Loss=0.963]"
     ]
    },
    {
     "name": "stdout",
     "output_type": "stream",
     "text": [
      "Epoch 6/50, Train Loss: 1.0421, Train Accuracy: 63.03%, Val Loss: 1.0210, Val Accuracy: 63.49%\n"
     ]
    },
    {
     "name": "stderr",
     "output_type": "stream",
     "text": [
      "Epoch 8/50:   1%|▎                                                        | 1/196 [00:00<00:37,  5.14it/s, Train Loss=1]"
     ]
    },
    {
     "name": "stdout",
     "output_type": "stream",
     "text": [
      "Epoch 7/50, Train Loss: 1.0447, Train Accuracy: 62.54%, Val Loss: 0.9971, Val Accuracy: 63.85%\n"
     ]
    },
    {
     "name": "stderr",
     "output_type": "stream",
     "text": [
      "Epoch 9/50:   0%|                                                                               | 0/196 [00:00<?, ?it/s]"
     ]
    },
    {
     "name": "stdout",
     "output_type": "stream",
     "text": [
      "Epoch 8/50, Train Loss: 1.0336, Train Accuracy: 62.81%, Val Loss: 0.9845, Val Accuracy: 64.56%\n"
     ]
    },
    {
     "name": "stderr",
     "output_type": "stream",
     "text": [
      "Epoch 10/50:   0%|                                                                              | 0/196 [00:00<?, ?it/s]"
     ]
    },
    {
     "name": "stdout",
     "output_type": "stream",
     "text": [
      "Epoch 9/50, Train Loss: 1.0322, Train Accuracy: 63.02%, Val Loss: 0.9600, Val Accuracy: 65.40%\n"
     ]
    },
    {
     "name": "stderr",
     "output_type": "stream",
     "text": [
      "Epoch 11/50:   1%|▎                                                    | 1/196 [00:00<00:38,  5.09it/s, Train Loss=1.02]"
     ]
    },
    {
     "name": "stdout",
     "output_type": "stream",
     "text": [
      "Epoch 10/50, Train Loss: 1.0303, Train Accuracy: 63.19%, Val Loss: 0.9956, Val Accuracy: 64.39%\n"
     ]
    },
    {
     "name": "stderr",
     "output_type": "stream",
     "text": [
      "Epoch 12/50:   1%|▎                                                   | 1/196 [00:00<00:38,  5.11it/s, Train Loss=0.938]"
     ]
    },
    {
     "name": "stdout",
     "output_type": "stream",
     "text": [
      "Epoch 11/50, Train Loss: 1.0248, Train Accuracy: 63.37%, Val Loss: 0.9949, Val Accuracy: 64.72%\n"
     ]
    },
    {
     "name": "stderr",
     "output_type": "stream",
     "text": [
      "Epoch 13/50:   1%|▎                                                    | 1/196 [00:00<00:38,  5.12it/s, Train Loss=0.96]"
     ]
    },
    {
     "name": "stdout",
     "output_type": "stream",
     "text": [
      "Epoch 12/50, Train Loss: 1.0204, Train Accuracy: 63.64%, Val Loss: 0.9726, Val Accuracy: 65.10%\n"
     ]
    },
    {
     "name": "stderr",
     "output_type": "stream",
     "text": [
      "Epoch 14/50:   0%|                                                                              | 0/196 [00:00<?, ?it/s]"
     ]
    },
    {
     "name": "stdout",
     "output_type": "stream",
     "text": [
      "Epoch 13/50, Train Loss: 1.0217, Train Accuracy: 63.41%, Val Loss: 0.9563, Val Accuracy: 65.84%\n"
     ]
    },
    {
     "name": "stderr",
     "output_type": "stream",
     "text": [
      "Epoch 15/50:   0%|                                                                              | 0/196 [00:00<?, ?it/s]"
     ]
    },
    {
     "name": "stdout",
     "output_type": "stream",
     "text": [
      "Epoch 14/50, Train Loss: 1.0181, Train Accuracy: 63.69%, Val Loss: 0.9506, Val Accuracy: 65.92%\n"
     ]
    },
    {
     "name": "stderr",
     "output_type": "stream",
     "text": [
      "Epoch 16/50:   1%|▎                                                   | 1/196 [00:00<00:38,  5.11it/s, Train Loss=0.983]"
     ]
    },
    {
     "name": "stdout",
     "output_type": "stream",
     "text": [
      "Epoch 15/50, Train Loss: 1.0093, Train Accuracy: 64.06%, Val Loss: 1.0187, Val Accuracy: 63.25%\n"
     ]
    },
    {
     "name": "stderr",
     "output_type": "stream",
     "text": [
      "Epoch 17/50:   1%|▎                                                    | 1/196 [00:00<00:38,  5.10it/s, Train Loss=1.08]"
     ]
    },
    {
     "name": "stdout",
     "output_type": "stream",
     "text": [
      "Epoch 16/50, Train Loss: 1.0118, Train Accuracy: 63.89%, Val Loss: 1.0337, Val Accuracy: 62.68%\n"
     ]
    },
    {
     "name": "stderr",
     "output_type": "stream",
     "text": [
      "Epoch 18/50:   1%|▎                                                     | 1/196 [00:00<00:38,  5.11it/s, Train Loss=1.1]"
     ]
    },
    {
     "name": "stdout",
     "output_type": "stream",
     "text": [
      "Epoch 17/50, Train Loss: 1.0066, Train Accuracy: 64.24%, Val Loss: 0.9954, Val Accuracy: 64.12%\n"
     ]
    },
    {
     "name": "stderr",
     "output_type": "stream",
     "text": [
      "Epoch 19/50:   1%|▎                                                    | 1/196 [00:00<00:38,  5.11it/s, Train Loss=0.96]"
     ]
    },
    {
     "name": "stdout",
     "output_type": "stream",
     "text": [
      "Epoch 18/50, Train Loss: 1.0006, Train Accuracy: 64.49%, Val Loss: 0.9841, Val Accuracy: 64.45%\n"
     ]
    },
    {
     "name": "stderr",
     "output_type": "stream",
     "text": [
      "Epoch 20/50:   1%|▎                                                   | 1/196 [00:00<00:38,  5.09it/s, Train Loss=0.937]"
     ]
    },
    {
     "name": "stdout",
     "output_type": "stream",
     "text": [
      "Epoch 19/50, Train Loss: 1.0007, Train Accuracy: 64.34%, Val Loss: 0.9766, Val Accuracy: 65.39%\n"
     ]
    },
    {
     "name": "stderr",
     "output_type": "stream",
     "text": [
      "Epoch 21/50:   0%|                                                                              | 0/196 [00:00<?, ?it/s]"
     ]
    },
    {
     "name": "stdout",
     "output_type": "stream",
     "text": [
      "Epoch 20/50, Train Loss: 1.0022, Train Accuracy: 64.02%, Val Loss: 0.9353, Val Accuracy: 66.44%\n"
     ]
    },
    {
     "name": "stderr",
     "output_type": "stream",
     "text": [
      "Epoch 22/50:   1%|▎                                                    | 1/196 [00:00<00:38,  5.13it/s, Train Loss=1.06]"
     ]
    },
    {
     "name": "stdout",
     "output_type": "stream",
     "text": [
      "Epoch 21/50, Train Loss: 0.9926, Train Accuracy: 64.44%, Val Loss: 0.9565, Val Accuracy: 66.13%\n"
     ]
    },
    {
     "name": "stderr",
     "output_type": "stream",
     "text": [
      "Epoch 23/50:   1%|▎                                                   | 1/196 [00:00<00:38,  5.12it/s, Train Loss=0.946]"
     ]
    },
    {
     "name": "stdout",
     "output_type": "stream",
     "text": [
      "Epoch 22/50, Train Loss: 0.9932, Train Accuracy: 64.80%, Val Loss: 1.0387, Val Accuracy: 63.37%\n"
     ]
    },
    {
     "name": "stderr",
     "output_type": "stream",
     "text": [
      "Epoch 24/50:   1%|▎                                                    | 1/196 [00:00<00:38,  5.12it/s, Train Loss=1.02]"
     ]
    },
    {
     "name": "stdout",
     "output_type": "stream",
     "text": [
      "Epoch 23/50, Train Loss: 0.9926, Train Accuracy: 64.54%, Val Loss: 0.9406, Val Accuracy: 66.11%\n"
     ]
    },
    {
     "name": "stderr",
     "output_type": "stream",
     "text": [
      "Epoch 25/50:   1%|▎                                                   | 1/196 [00:00<00:38,  5.11it/s, Train Loss=0.978]"
     ]
    },
    {
     "name": "stdout",
     "output_type": "stream",
     "text": [
      "Epoch 24/50, Train Loss: 0.9922, Train Accuracy: 64.64%, Val Loss: 0.9581, Val Accuracy: 66.10%\n"
     ]
    },
    {
     "name": "stderr",
     "output_type": "stream",
     "text": [
      "Epoch 26/50:   1%|▎                                                   | 1/196 [00:00<00:37,  5.14it/s, Train Loss=0.935]"
     ]
    },
    {
     "name": "stdout",
     "output_type": "stream",
     "text": [
      "Epoch 25/50, Train Loss: 0.9905, Train Accuracy: 64.63%, Val Loss: 0.9710, Val Accuracy: 65.01%\n"
     ]
    },
    {
     "name": "stderr",
     "output_type": "stream",
     "text": [
      "Epoch 27/50:   1%|▎                                                    | 1/196 [00:00<00:37,  5.14it/s, Train Loss=1.01]"
     ]
    },
    {
     "name": "stdout",
     "output_type": "stream",
     "text": [
      "Epoch 26/50, Train Loss: 0.9897, Train Accuracy: 64.70%, Val Loss: 0.9950, Val Accuracy: 64.59%\n"
     ]
    },
    {
     "name": "stderr",
     "output_type": "stream",
     "text": [
      "Epoch 28/50:   1%|▎                                                    | 1/196 [00:00<00:38,  5.11it/s, Train Loss=1.03]"
     ]
    },
    {
     "name": "stdout",
     "output_type": "stream",
     "text": [
      "Epoch 27/50, Train Loss: 0.9824, Train Accuracy: 65.00%, Val Loss: 0.9699, Val Accuracy: 65.66%\n"
     ]
    },
    {
     "name": "stderr",
     "output_type": "stream",
     "text": [
      "Epoch 29/50:   1%|▎                                                    | 1/196 [00:00<00:38,  5.12it/s, Train Loss=1.01]"
     ]
    },
    {
     "name": "stdout",
     "output_type": "stream",
     "text": [
      "Epoch 28/50, Train Loss: 0.9774, Train Accuracy: 65.08%, Val Loss: 0.9421, Val Accuracy: 66.40%\n"
     ]
    },
    {
     "name": "stderr",
     "output_type": "stream",
     "text": [
      "Epoch 30/50:   0%|                                                                              | 0/196 [00:00<?, ?it/s]"
     ]
    },
    {
     "name": "stdout",
     "output_type": "stream",
     "text": [
      "Epoch 29/50, Train Loss: 0.9759, Train Accuracy: 65.16%, Val Loss: 0.9730, Val Accuracy: 65.41%\n"
     ]
    },
    {
     "name": "stderr",
     "output_type": "stream",
     "text": [
      "Epoch 31/50:   1%|▎                                                       | 1/196 [00:00<00:38,  5.13it/s, Train Loss=1]"
     ]
    },
    {
     "name": "stdout",
     "output_type": "stream",
     "text": [
      "Epoch 30/50, Train Loss: 0.9824, Train Accuracy: 65.01%, Val Loss: 1.0110, Val Accuracy: 64.44%\n"
     ]
    },
    {
     "name": "stderr",
     "output_type": "stream",
     "text": [
      "Epoch 32/50:   1%|▎                                                       | 1/196 [00:00<00:37,  5.13it/s, Train Loss=1]"
     ]
    },
    {
     "name": "stdout",
     "output_type": "stream",
     "text": [
      "Epoch 31/50, Train Loss: 0.9757, Train Accuracy: 65.33%, Val Loss: 0.9627, Val Accuracy: 65.87%\n"
     ]
    },
    {
     "name": "stderr",
     "output_type": "stream",
     "text": [
      "Epoch 33/50:   0%|                                                            | 0/196 [00:00<?, ?it/s, Train Loss=0.929]"
     ]
    },
    {
     "name": "stdout",
     "output_type": "stream",
     "text": [
      "Epoch 32/50, Train Loss: 0.9709, Train Accuracy: 65.33%, Val Loss: 0.9389, Val Accuracy: 66.14%\n"
     ]
    },
    {
     "name": "stderr",
     "output_type": "stream",
     "text": [
      "Epoch 34/50:   1%|▎                                                   | 1/196 [00:00<00:38,  5.11it/s, Train Loss=0.863]"
     ]
    },
    {
     "name": "stdout",
     "output_type": "stream",
     "text": [
      "Epoch 33/50, Train Loss: 0.9703, Train Accuracy: 65.30%, Val Loss: 0.9572, Val Accuracy: 66.33%\n"
     ]
    },
    {
     "name": "stderr",
     "output_type": "stream",
     "text": [
      "Epoch 35/50:   1%|▎                                                   | 1/196 [00:00<00:38,  5.09it/s, Train Loss=0.944]"
     ]
    },
    {
     "name": "stdout",
     "output_type": "stream",
     "text": [
      "Epoch 34/50, Train Loss: 0.9660, Train Accuracy: 65.50%, Val Loss: 0.9375, Val Accuracy: 66.43%\n"
     ]
    },
    {
     "name": "stderr",
     "output_type": "stream",
     "text": [
      "Epoch 36/50:   1%|▎                                                     | 1/196 [00:00<00:38,  5.11it/s, Train Loss=1.1]"
     ]
    },
    {
     "name": "stdout",
     "output_type": "stream",
     "text": [
      "Epoch 35/50, Train Loss: 0.9643, Train Accuracy: 65.66%, Val Loss: 0.9726, Val Accuracy: 65.22%\n"
     ]
    },
    {
     "name": "stderr",
     "output_type": "stream",
     "text": [
      "Epoch 37/50:   0%|                                                                              | 0/196 [00:00<?, ?it/s]"
     ]
    },
    {
     "name": "stdout",
     "output_type": "stream",
     "text": [
      "Epoch 36/50, Train Loss: 0.9665, Train Accuracy: 65.32%, Val Loss: 0.9204, Val Accuracy: 67.29%\n"
     ]
    },
    {
     "name": "stderr",
     "output_type": "stream",
     "text": [
      "Epoch 38/50:   1%|▎                                                   | 1/196 [00:00<00:37,  5.14it/s, Train Loss=0.867]"
     ]
    },
    {
     "name": "stdout",
     "output_type": "stream",
     "text": [
      "Epoch 37/50, Train Loss: 0.9595, Train Accuracy: 65.72%, Val Loss: 0.9208, Val Accuracy: 67.32%\n"
     ]
    },
    {
     "name": "stderr",
     "output_type": "stream",
     "text": [
      "Epoch 39/50:   1%|▎                                                   | 1/196 [00:00<00:38,  5.11it/s, Train Loss=0.938]"
     ]
    },
    {
     "name": "stdout",
     "output_type": "stream",
     "text": [
      "Epoch 38/50, Train Loss: 0.9628, Train Accuracy: 65.87%, Val Loss: 0.9743, Val Accuracy: 65.68%\n"
     ]
    },
    {
     "name": "stderr",
     "output_type": "stream",
     "text": [
      "Epoch 40/50:   1%|▎                                                   | 1/196 [00:00<00:38,  5.12it/s, Train Loss=0.887]"
     ]
    },
    {
     "name": "stdout",
     "output_type": "stream",
     "text": [
      "Epoch 39/50, Train Loss: 0.9610, Train Accuracy: 65.73%, Val Loss: 0.9338, Val Accuracy: 67.06%\n"
     ]
    },
    {
     "name": "stderr",
     "output_type": "stream",
     "text": [
      "Epoch 41/50:   1%|▎                                                   | 1/196 [00:00<00:38,  5.11it/s, Train Loss=0.923]"
     ]
    },
    {
     "name": "stdout",
     "output_type": "stream",
     "text": [
      "Epoch 40/50, Train Loss: 0.9474, Train Accuracy: 66.17%, Val Loss: 0.9430, Val Accuracy: 66.98%\n"
     ]
    },
    {
     "name": "stderr",
     "output_type": "stream",
     "text": [
      "Epoch 42/50:   1%|▎                                                   | 1/196 [00:00<00:38,  5.12it/s, Train Loss=0.917]"
     ]
    },
    {
     "name": "stdout",
     "output_type": "stream",
     "text": [
      "Epoch 41/50, Train Loss: 0.9540, Train Accuracy: 66.01%, Val Loss: 0.9429, Val Accuracy: 66.47%\n"
     ]
    },
    {
     "name": "stderr",
     "output_type": "stream",
     "text": [
      "Epoch 43/50:   1%|▎                                                   | 1/196 [00:00<00:38,  5.12it/s, Train Loss=0.837]"
     ]
    },
    {
     "name": "stdout",
     "output_type": "stream",
     "text": [
      "Epoch 42/50, Train Loss: 0.9525, Train Accuracy: 65.96%, Val Loss: 0.9286, Val Accuracy: 66.94%\n"
     ]
    },
    {
     "name": "stderr",
     "output_type": "stream",
     "text": [
      "Epoch 44/50:   1%|▎                                                   | 1/196 [00:00<00:38,  5.11it/s, Train Loss=0.963]"
     ]
    },
    {
     "name": "stdout",
     "output_type": "stream",
     "text": [
      "Epoch 43/50, Train Loss: 0.9483, Train Accuracy: 66.62%, Val Loss: 0.9564, Val Accuracy: 66.42%\n"
     ]
    },
    {
     "name": "stderr",
     "output_type": "stream",
     "text": [
      "Epoch 45/50:   0%|                                                                              | 0/196 [00:00<?, ?it/s]"
     ]
    },
    {
     "name": "stdout",
     "output_type": "stream",
     "text": [
      "Epoch 44/50, Train Loss: 0.9450, Train Accuracy: 66.22%, Val Loss: 0.9357, Val Accuracy: 66.75%\n"
     ]
    },
    {
     "name": "stderr",
     "output_type": "stream",
     "text": [
      "Epoch 46/50:   0%|                                                                              | 0/196 [00:00<?, ?it/s]"
     ]
    },
    {
     "name": "stdout",
     "output_type": "stream",
     "text": [
      "Epoch 45/50, Train Loss: 0.9440, Train Accuracy: 66.36%, Val Loss: 0.9039, Val Accuracy: 68.27%\n"
     ]
    },
    {
     "name": "stderr",
     "output_type": "stream",
     "text": [
      "Epoch 47/50:   1%|▎                                                   | 1/196 [00:00<00:38,  5.08it/s, Train Loss=0.904]"
     ]
    },
    {
     "name": "stdout",
     "output_type": "stream",
     "text": [
      "Epoch 46/50, Train Loss: 0.9432, Train Accuracy: 66.33%, Val Loss: 0.9304, Val Accuracy: 67.32%\n"
     ]
    },
    {
     "name": "stderr",
     "output_type": "stream",
     "text": [
      "Epoch 48/50:   1%|▎                                                   | 1/196 [00:00<00:38,  5.11it/s, Train Loss=0.927]"
     ]
    },
    {
     "name": "stdout",
     "output_type": "stream",
     "text": [
      "Epoch 47/50, Train Loss: 0.9492, Train Accuracy: 66.31%, Val Loss: 0.9180, Val Accuracy: 67.01%\n"
     ]
    },
    {
     "name": "stderr",
     "output_type": "stream",
     "text": [
      "Epoch 49/50:   1%|▎                                                   | 1/196 [00:00<00:38,  5.13it/s, Train Loss=0.968]"
     ]
    },
    {
     "name": "stdout",
     "output_type": "stream",
     "text": [
      "Epoch 48/50, Train Loss: 0.9410, Train Accuracy: 66.43%, Val Loss: 0.9224, Val Accuracy: 67.19%\n"
     ]
    },
    {
     "name": "stderr",
     "output_type": "stream",
     "text": [
      "Epoch 50/50:   1%|▎                                                   | 1/196 [00:00<00:37,  5.13it/s, Train Loss=0.957]"
     ]
    },
    {
     "name": "stdout",
     "output_type": "stream",
     "text": [
      "Epoch 49/50, Train Loss: 0.9414, Train Accuracy: 66.54%, Val Loss: 0.9193, Val Accuracy: 67.14%\n"
     ]
    },
    {
     "name": "stderr",
     "output_type": "stream",
     "text": [
      "                                                                                                                        \r"
     ]
    },
    {
     "name": "stdout",
     "output_type": "stream",
     "text": [
      "Epoch 50/50, Train Loss: 0.9337, Train Accuracy: 66.81%, Val Loss: 0.9378, Val Accuracy: 67.03%\n",
      "models saved to ViT/models/20241004_144451.pth\n"
     ]
    }
   ],
   "source": [
    "# 50-100\n",
    "# Here is the hyperparameters\n",
    "\n",
    "epochs = 50\n",
    "patch_size = 8\n",
    "embed_dim = 256\n",
    "n_layers = 6\n",
    "heads = 8\n",
    "attn_dim = 512\n",
    "mlp_dim = None # default to 4*embed_dim\n",
    "pool = 'cls'\n",
    "dropout = 0.1\n",
    "\n",
    "model = ViT(image_size=32, patch_size=patch_size, num_classes=10, embed_dim=embed_dim, n_layers=n_layers, heads=heads, attn_dim=attn_dim, mlp_dim=mlp_dim, pool=pool, dropout=dropout)\n",
    "\n",
    "last_time_str = \"20241004_133312\"\n",
    "\n",
    "# load model\n",
    "model.load_state_dict(torch.load(f\"ViT/models/{last_time_str}.pth\"))\n",
    "\n",
    "print(f\"models loaded from ViT/models/{last_time_str}.pth\")\n",
    "\n",
    "optimizer = torch.optim.Adam(model.parameters(), lr=5e-4, betas=(0.9, 0.999), weight_decay=5e-4)\n",
    "\n",
    "time_str = timestr()\n",
    "\n",
    "print(f\"Time string: {time_str}\")\n",
    "\n",
    "# print the model and the number of parameters\n",
    "# print(model.transformer)\n",
    "print(f'The model has {sum(p.numel() for p in model.parameters() if p.requires_grad):,} trainable parameters')\n",
    "\n",
    "train(epochs=epochs, model=model, optimizer=optimizer, criterion=nn.CrossEntropyLoss(), \n",
    "      train_loader=train_loader, val_loader=val_loader, outdir=get_outdir(time_str))\n",
    "\n",
    "# save model\n",
    "torch.save(model.state_dict(), f\"ViT/models/{time_str}.pth\")\n",
    "\n",
    "print(f\"models saved to ViT/models/{time_str}.pth\")"
   ]
  },
  {
   "cell_type": "code",
   "execution_count": 3,
   "metadata": {},
   "outputs": [
    {
     "name": "stderr",
     "output_type": "stream",
     "text": [
      "Epoch 1/50:   0%|                                                                             | 0/196 [00:00<?, ?it/s]"
     ]
    },
    {
     "name": "stdout",
     "output_type": "stream",
     "text": [
      "models loaded from ViT/models/20241004_144451.pth\n",
      "Time string: 20241004_174316\n",
      "The model has 6,359,562 trainable parameters\n"
     ]
    },
    {
     "name": "stderr",
     "output_type": "stream",
     "text": [
      "Epoch 2/50:   0%|                                                                             | 0/196 [00:00<?, ?it/s]"
     ]
    },
    {
     "name": "stdout",
     "output_type": "stream",
     "text": [
      "Epoch 1/50, Train Loss: 0.8605, Train Accuracy: 69.26%, Val Loss: 0.8951, Val Accuracy: 68.22%\n"
     ]
    },
    {
     "name": "stderr",
     "output_type": "stream",
     "text": [
      "Epoch 3/50:   0%|                                                                             | 0/196 [00:00<?, ?it/s]"
     ]
    },
    {
     "name": "stdout",
     "output_type": "stream",
     "text": [
      "Epoch 2/50, Train Loss: 0.8349, Train Accuracy: 70.30%, Val Loss: 0.8695, Val Accuracy: 68.96%\n"
     ]
    },
    {
     "name": "stderr",
     "output_type": "stream",
     "text": [
      "Epoch 4/50:   0%|                                                                             | 0/196 [00:00<?, ?it/s]"
     ]
    },
    {
     "name": "stdout",
     "output_type": "stream",
     "text": [
      "Epoch 3/50, Train Loss: 0.8236, Train Accuracy: 70.95%, Val Loss: 0.8571, Val Accuracy: 69.23%\n"
     ]
    },
    {
     "name": "stderr",
     "output_type": "stream",
     "text": [
      "Epoch 5/50:   1%|▎                                                  | 1/196 [00:00<00:38,  5.11it/s, Train Loss=0.886]"
     ]
    },
    {
     "name": "stdout",
     "output_type": "stream",
     "text": [
      "Epoch 4/50, Train Loss: 0.8200, Train Accuracy: 70.88%, Val Loss: 0.8775, Val Accuracy: 69.08%\n"
     ]
    },
    {
     "name": "stderr",
     "output_type": "stream",
     "text": [
      "Epoch 6/50:   1%|▎                                                  | 1/196 [00:00<00:37,  5.14it/s, Train Loss=0.887]"
     ]
    },
    {
     "name": "stdout",
     "output_type": "stream",
     "text": [
      "Epoch 5/50, Train Loss: 0.8182, Train Accuracy: 70.92%, Val Loss: 0.8691, Val Accuracy: 69.54%\n"
     ]
    },
    {
     "name": "stderr",
     "output_type": "stream",
     "text": [
      "Epoch 7/50:   0%|                                                                             | 0/196 [00:00<?, ?it/s]"
     ]
    },
    {
     "name": "stdout",
     "output_type": "stream",
     "text": [
      "Epoch 6/50, Train Loss: 0.8121, Train Accuracy: 71.13%, Val Loss: 0.8711, Val Accuracy: 69.36%\n"
     ]
    },
    {
     "name": "stderr",
     "output_type": "stream",
     "text": [
      "Epoch 8/50:   1%|▎                                                  | 1/196 [00:00<00:37,  5.14it/s, Train Loss=0.732]"
     ]
    },
    {
     "name": "stdout",
     "output_type": "stream",
     "text": [
      "Epoch 7/50, Train Loss: 0.8102, Train Accuracy: 71.23%, Val Loss: 0.8667, Val Accuracy: 69.36%\n"
     ]
    },
    {
     "name": "stderr",
     "output_type": "stream",
     "text": [
      "Epoch 9/50:   1%|▎                                                  | 1/196 [00:00<00:37,  5.14it/s, Train Loss=0.703]"
     ]
    },
    {
     "name": "stdout",
     "output_type": "stream",
     "text": [
      "Epoch 8/50, Train Loss: 0.8024, Train Accuracy: 71.30%, Val Loss: 0.8691, Val Accuracy: 69.64%\n"
     ]
    },
    {
     "name": "stderr",
     "output_type": "stream",
     "text": [
      "Epoch 10/50:   1%|▎                                                 | 1/196 [00:00<00:37,  5.14it/s, Train Loss=0.911]"
     ]
    },
    {
     "name": "stdout",
     "output_type": "stream",
     "text": [
      "Epoch 9/50, Train Loss: 0.7993, Train Accuracy: 71.62%, Val Loss: 0.8743, Val Accuracy: 69.50%\n"
     ]
    },
    {
     "name": "stderr",
     "output_type": "stream",
     "text": [
      "Epoch 11/50:   0%|                                                                            | 0/196 [00:00<?, ?it/s]"
     ]
    },
    {
     "name": "stdout",
     "output_type": "stream",
     "text": [
      "Epoch 10/50, Train Loss: 0.7996, Train Accuracy: 71.48%, Val Loss: 0.8513, Val Accuracy: 69.62%\n"
     ]
    },
    {
     "name": "stderr",
     "output_type": "stream",
     "text": [
      "Epoch 12/50:   0%|                                                                            | 0/196 [00:00<?, ?it/s]"
     ]
    },
    {
     "name": "stdout",
     "output_type": "stream",
     "text": [
      "Epoch 11/50, Train Loss: 0.7928, Train Accuracy: 71.95%, Val Loss: 0.8418, Val Accuracy: 70.40%\n"
     ]
    },
    {
     "name": "stderr",
     "output_type": "stream",
     "text": [
      "Epoch 13/50:   1%|▎                                                  | 1/196 [00:00<00:38,  5.11it/s, Train Loss=0.74]"
     ]
    },
    {
     "name": "stdout",
     "output_type": "stream",
     "text": [
      "Epoch 12/50, Train Loss: 0.7901, Train Accuracy: 71.86%, Val Loss: 0.8465, Val Accuracy: 70.55%\n"
     ]
    },
    {
     "name": "stderr",
     "output_type": "stream",
     "text": [
      "Epoch 14/50:   0%|                                                                            | 0/196 [00:00<?, ?it/s]"
     ]
    },
    {
     "name": "stdout",
     "output_type": "stream",
     "text": [
      "Epoch 13/50, Train Loss: 0.7896, Train Accuracy: 71.82%, Val Loss: 0.8240, Val Accuracy: 70.98%\n"
     ]
    },
    {
     "name": "stderr",
     "output_type": "stream",
     "text": [
      "Epoch 15/50:   1%|▎                                                 | 1/196 [00:00<00:37,  5.14it/s, Train Loss=0.725]"
     ]
    },
    {
     "name": "stdout",
     "output_type": "stream",
     "text": [
      "Epoch 14/50, Train Loss: 0.7888, Train Accuracy: 72.01%, Val Loss: 0.8621, Val Accuracy: 69.99%\n"
     ]
    },
    {
     "name": "stderr",
     "output_type": "stream",
     "text": [
      "Epoch 16/50:   1%|▎                                                 | 1/196 [00:00<00:38,  5.13it/s, Train Loss=0.799]"
     ]
    },
    {
     "name": "stdout",
     "output_type": "stream",
     "text": [
      "Epoch 15/50, Train Loss: 0.7857, Train Accuracy: 72.10%, Val Loss: 0.8380, Val Accuracy: 70.58%\n"
     ]
    },
    {
     "name": "stderr",
     "output_type": "stream",
     "text": [
      "Epoch 17/50:   1%|▎                                                 | 1/196 [00:00<00:37,  5.13it/s, Train Loss=0.921]"
     ]
    },
    {
     "name": "stdout",
     "output_type": "stream",
     "text": [
      "Epoch 16/50, Train Loss: 0.7841, Train Accuracy: 72.06%, Val Loss: 0.8613, Val Accuracy: 69.95%\n"
     ]
    },
    {
     "name": "stderr",
     "output_type": "stream",
     "text": [
      "Epoch 18/50:   0%|                                                                            | 0/196 [00:00<?, ?it/s]"
     ]
    },
    {
     "name": "stdout",
     "output_type": "stream",
     "text": [
      "Epoch 17/50, Train Loss: 0.7778, Train Accuracy: 72.47%, Val Loss: 0.8219, Val Accuracy: 70.95%\n"
     ]
    },
    {
     "name": "stderr",
     "output_type": "stream",
     "text": [
      "Epoch 19/50:   1%|▎                                                 | 1/196 [00:00<00:37,  5.13it/s, Train Loss=0.758]"
     ]
    },
    {
     "name": "stdout",
     "output_type": "stream",
     "text": [
      "Epoch 18/50, Train Loss: 0.7827, Train Accuracy: 72.07%, Val Loss: 0.8370, Val Accuracy: 70.57%\n"
     ]
    },
    {
     "name": "stderr",
     "output_type": "stream",
     "text": [
      "Epoch 20/50:   1%|▎                                                 | 1/196 [00:00<00:38,  5.07it/s, Train Loss=0.707]"
     ]
    },
    {
     "name": "stdout",
     "output_type": "stream",
     "text": [
      "Epoch 19/50, Train Loss: 0.7756, Train Accuracy: 72.38%, Val Loss: 0.8452, Val Accuracy: 70.60%\n"
     ]
    },
    {
     "name": "stderr",
     "output_type": "stream",
     "text": [
      "Epoch 21/50:   1%|▎                                                 | 1/196 [00:00<00:37,  5.13it/s, Train Loss=0.821]"
     ]
    },
    {
     "name": "stdout",
     "output_type": "stream",
     "text": [
      "Epoch 20/50, Train Loss: 0.7788, Train Accuracy: 72.09%, Val Loss: 0.8441, Val Accuracy: 70.28%\n"
     ]
    },
    {
     "name": "stderr",
     "output_type": "stream",
     "text": [
      "Epoch 22/50:   1%|▎                                                  | 1/196 [00:00<00:38,  5.07it/s, Train Loss=0.85]"
     ]
    },
    {
     "name": "stdout",
     "output_type": "stream",
     "text": [
      "Epoch 21/50, Train Loss: 0.7714, Train Accuracy: 72.42%, Val Loss: 0.8607, Val Accuracy: 69.97%\n"
     ]
    },
    {
     "name": "stderr",
     "output_type": "stream",
     "text": [
      "Epoch 23/50:   1%|▎                                                 | 1/196 [00:00<00:37,  5.14it/s, Train Loss=0.758]"
     ]
    },
    {
     "name": "stdout",
     "output_type": "stream",
     "text": [
      "Epoch 22/50, Train Loss: 0.7757, Train Accuracy: 72.45%, Val Loss: 0.8814, Val Accuracy: 69.36%\n"
     ]
    },
    {
     "name": "stderr",
     "output_type": "stream",
     "text": [
      "Epoch 24/50:   1%|▎                                                 | 1/196 [00:00<00:38,  5.13it/s, Train Loss=0.774]"
     ]
    },
    {
     "name": "stdout",
     "output_type": "stream",
     "text": [
      "Epoch 23/50, Train Loss: 0.7700, Train Accuracy: 72.56%, Val Loss: 0.8563, Val Accuracy: 70.19%\n"
     ]
    },
    {
     "name": "stderr",
     "output_type": "stream",
     "text": [
      "Epoch 25/50:   1%|▎                                                 | 1/196 [00:00<00:37,  5.14it/s, Train Loss=0.698]"
     ]
    },
    {
     "name": "stdout",
     "output_type": "stream",
     "text": [
      "Epoch 24/50, Train Loss: 0.7669, Train Accuracy: 72.66%, Val Loss: 0.8281, Val Accuracy: 70.93%\n"
     ]
    },
    {
     "name": "stderr",
     "output_type": "stream",
     "text": [
      "Epoch 26/50:   1%|▎                                                 | 1/196 [00:00<00:37,  5.15it/s, Train Loss=0.791]"
     ]
    },
    {
     "name": "stdout",
     "output_type": "stream",
     "text": [
      "Epoch 25/50, Train Loss: 0.7680, Train Accuracy: 72.63%, Val Loss: 0.8445, Val Accuracy: 70.49%\n"
     ]
    },
    {
     "name": "stderr",
     "output_type": "stream",
     "text": [
      "Epoch 27/50:   1%|▎                                                  | 1/196 [00:00<00:37,  5.16it/s, Train Loss=0.83]"
     ]
    },
    {
     "name": "stdout",
     "output_type": "stream",
     "text": [
      "Epoch 26/50, Train Loss: 0.7669, Train Accuracy: 72.64%, Val Loss: 0.8423, Val Accuracy: 70.74%\n"
     ]
    },
    {
     "name": "stderr",
     "output_type": "stream",
     "text": [
      "Epoch 28/50:   1%|▎                                                 | 1/196 [00:00<00:37,  5.13it/s, Train Loss=0.768]"
     ]
    },
    {
     "name": "stdout",
     "output_type": "stream",
     "text": [
      "Epoch 27/50, Train Loss: 0.7668, Train Accuracy: 72.81%, Val Loss: 0.8616, Val Accuracy: 69.73%\n"
     ]
    },
    {
     "name": "stderr",
     "output_type": "stream",
     "text": [
      "Epoch 29/50:   1%|▎                                                 | 1/196 [00:00<00:38,  5.12it/s, Train Loss=0.745]"
     ]
    },
    {
     "name": "stdout",
     "output_type": "stream",
     "text": [
      "Epoch 28/50, Train Loss: 0.7672, Train Accuracy: 72.71%, Val Loss: 0.8556, Val Accuracy: 70.16%\n"
     ]
    },
    {
     "name": "stderr",
     "output_type": "stream",
     "text": [
      "Epoch 30/50:   1%|▎                                                 | 1/196 [00:00<00:37,  5.14it/s, Train Loss=0.771]"
     ]
    },
    {
     "name": "stdout",
     "output_type": "stream",
     "text": [
      "Epoch 29/50, Train Loss: 0.7575, Train Accuracy: 73.05%, Val Loss: 0.8465, Val Accuracy: 70.04%\n"
     ]
    },
    {
     "name": "stderr",
     "output_type": "stream",
     "text": [
      "Epoch 31/50:   1%|▎                                                 | 1/196 [00:00<00:37,  5.16it/s, Train Loss=0.785]"
     ]
    },
    {
     "name": "stdout",
     "output_type": "stream",
     "text": [
      "Epoch 30/50, Train Loss: 0.7587, Train Accuracy: 72.90%, Val Loss: 0.8371, Val Accuracy: 70.45%\n"
     ]
    },
    {
     "name": "stderr",
     "output_type": "stream",
     "text": [
      "Epoch 32/50:   1%|▎                                                 | 1/196 [00:00<00:38,  5.11it/s, Train Loss=0.771]"
     ]
    },
    {
     "name": "stdout",
     "output_type": "stream",
     "text": [
      "Epoch 31/50, Train Loss: 0.7600, Train Accuracy: 72.74%, Val Loss: 0.8397, Val Accuracy: 70.73%\n"
     ]
    },
    {
     "name": "stderr",
     "output_type": "stream",
     "text": [
      "Epoch 33/50:   1%|▎                                                 | 1/196 [00:00<00:38,  5.13it/s, Train Loss=0.794]"
     ]
    },
    {
     "name": "stdout",
     "output_type": "stream",
     "text": [
      "Epoch 32/50, Train Loss: 0.7601, Train Accuracy: 72.91%, Val Loss: 0.8519, Val Accuracy: 70.04%\n"
     ]
    },
    {
     "name": "stderr",
     "output_type": "stream",
     "text": [
      "Epoch 34/50:   1%|▎                                                 | 1/196 [00:00<00:38,  5.09it/s, Train Loss=0.698]"
     ]
    },
    {
     "name": "stdout",
     "output_type": "stream",
     "text": [
      "Epoch 33/50, Train Loss: 0.7589, Train Accuracy: 72.76%, Val Loss: 0.8314, Val Accuracy: 71.01%\n"
     ]
    },
    {
     "name": "stderr",
     "output_type": "stream",
     "text": [
      "Epoch 35/50:   1%|▎                                                 | 1/196 [00:00<00:38,  5.12it/s, Train Loss=0.793]"
     ]
    },
    {
     "name": "stdout",
     "output_type": "stream",
     "text": [
      "Epoch 34/50, Train Loss: 0.7582, Train Accuracy: 73.07%, Val Loss: 0.8460, Val Accuracy: 70.39%\n"
     ]
    },
    {
     "name": "stderr",
     "output_type": "stream",
     "text": [
      "Epoch 36/50:   1%|▎                                                 | 1/196 [00:00<00:38,  5.12it/s, Train Loss=0.902]"
     ]
    },
    {
     "name": "stdout",
     "output_type": "stream",
     "text": [
      "Epoch 35/50, Train Loss: 0.7541, Train Accuracy: 72.79%, Val Loss: 0.8229, Val Accuracy: 71.19%\n"
     ]
    },
    {
     "name": "stderr",
     "output_type": "stream",
     "text": [
      "Epoch 37/50:   1%|▎                                                 | 1/196 [00:00<00:37,  5.14it/s, Train Loss=0.771]"
     ]
    },
    {
     "name": "stdout",
     "output_type": "stream",
     "text": [
      "Epoch 36/50, Train Loss: 0.7535, Train Accuracy: 73.18%, Val Loss: 0.8371, Val Accuracy: 70.87%\n"
     ]
    },
    {
     "name": "stderr",
     "output_type": "stream",
     "text": [
      "Epoch 38/50:   1%|▎                                                 | 1/196 [00:00<00:37,  5.15it/s, Train Loss=0.736]"
     ]
    },
    {
     "name": "stdout",
     "output_type": "stream",
     "text": [
      "Epoch 37/50, Train Loss: 0.7507, Train Accuracy: 73.25%, Val Loss: 0.8451, Val Accuracy: 70.48%\n"
     ]
    },
    {
     "name": "stderr",
     "output_type": "stream",
     "text": [
      "Epoch 39/50:   1%|▎                                                 | 1/196 [00:00<00:38,  5.10it/s, Train Loss=0.843]"
     ]
    },
    {
     "name": "stdout",
     "output_type": "stream",
     "text": [
      "Epoch 38/50, Train Loss: 0.7472, Train Accuracy: 73.35%, Val Loss: 0.8295, Val Accuracy: 71.22%\n"
     ]
    },
    {
     "name": "stderr",
     "output_type": "stream",
     "text": [
      "Epoch 40/50:   1%|▎                                                  | 1/196 [00:00<00:38,  5.12it/s, Train Loss=0.71]"
     ]
    },
    {
     "name": "stdout",
     "output_type": "stream",
     "text": [
      "Epoch 39/50, Train Loss: 0.7493, Train Accuracy: 73.26%, Val Loss: 0.8354, Val Accuracy: 70.13%\n"
     ]
    },
    {
     "name": "stderr",
     "output_type": "stream",
     "text": [
      "Epoch 41/50:   0%|                                                                            | 0/196 [00:00<?, ?it/s]"
     ]
    },
    {
     "name": "stdout",
     "output_type": "stream",
     "text": [
      "Epoch 40/50, Train Loss: 0.7419, Train Accuracy: 73.42%, Val Loss: 0.8033, Val Accuracy: 71.96%\n"
     ]
    },
    {
     "name": "stderr",
     "output_type": "stream",
     "text": [
      "Epoch 42/50:   1%|▎                                                 | 1/196 [00:00<00:37,  5.14it/s, Train Loss=0.688]"
     ]
    },
    {
     "name": "stdout",
     "output_type": "stream",
     "text": [
      "Epoch 41/50, Train Loss: 0.7445, Train Accuracy: 73.18%, Val Loss: 0.8096, Val Accuracy: 71.81%\n"
     ]
    },
    {
     "name": "stderr",
     "output_type": "stream",
     "text": [
      "Epoch 43/50:   1%|▎                                                 | 1/196 [00:00<00:38,  5.12it/s, Train Loss=0.763]"
     ]
    },
    {
     "name": "stdout",
     "output_type": "stream",
     "text": [
      "Epoch 42/50, Train Loss: 0.7463, Train Accuracy: 73.49%, Val Loss: 0.8212, Val Accuracy: 71.12%\n"
     ]
    },
    {
     "name": "stderr",
     "output_type": "stream",
     "text": [
      "Epoch 44/50:   1%|▎                                                  | 1/196 [00:00<00:38,  5.13it/s, Train Loss=0.76]"
     ]
    },
    {
     "name": "stdout",
     "output_type": "stream",
     "text": [
      "Epoch 43/50, Train Loss: 0.7412, Train Accuracy: 73.50%, Val Loss: 0.8283, Val Accuracy: 71.04%\n"
     ]
    },
    {
     "name": "stderr",
     "output_type": "stream",
     "text": [
      "Epoch 45/50:   1%|▎                                                 | 1/196 [00:00<00:37,  5.14it/s, Train Loss=0.801]"
     ]
    },
    {
     "name": "stdout",
     "output_type": "stream",
     "text": [
      "Epoch 44/50, Train Loss: 0.7426, Train Accuracy: 73.45%, Val Loss: 0.8413, Val Accuracy: 70.55%\n"
     ]
    },
    {
     "name": "stderr",
     "output_type": "stream",
     "text": [
      "Epoch 46/50:   1%|▎                                                  | 1/196 [00:00<00:37,  5.16it/s, Train Loss=0.64]"
     ]
    },
    {
     "name": "stdout",
     "output_type": "stream",
     "text": [
      "Epoch 45/50, Train Loss: 0.7402, Train Accuracy: 73.54%, Val Loss: 0.8341, Val Accuracy: 70.99%\n"
     ]
    },
    {
     "name": "stderr",
     "output_type": "stream",
     "text": [
      "Epoch 47/50:   1%|▎                                                 | 1/196 [00:00<00:38,  5.12it/s, Train Loss=0.662]"
     ]
    },
    {
     "name": "stdout",
     "output_type": "stream",
     "text": [
      "Epoch 46/50, Train Loss: 0.7399, Train Accuracy: 73.41%, Val Loss: 0.8182, Val Accuracy: 71.55%\n"
     ]
    },
    {
     "name": "stderr",
     "output_type": "stream",
     "text": [
      "Epoch 48/50:   0%|                                                                            | 0/196 [00:00<?, ?it/s]"
     ]
    },
    {
     "name": "stdout",
     "output_type": "stream",
     "text": [
      "Epoch 47/50, Train Loss: 0.7373, Train Accuracy: 73.91%, Val Loss: 0.8229, Val Accuracy: 71.44%\n"
     ]
    },
    {
     "name": "stderr",
     "output_type": "stream",
     "text": [
      "Epoch 49/50:   1%|▎                                                 | 1/196 [00:00<00:38,  5.12it/s, Train Loss=0.755]"
     ]
    },
    {
     "name": "stdout",
     "output_type": "stream",
     "text": [
      "Epoch 48/50, Train Loss: 0.7370, Train Accuracy: 73.65%, Val Loss: 0.8591, Val Accuracy: 70.25%\n"
     ]
    },
    {
     "name": "stderr",
     "output_type": "stream",
     "text": [
      "Epoch 50/50:   1%|▎                                                 | 1/196 [00:00<00:37,  5.14it/s, Train Loss=0.759]"
     ]
    },
    {
     "name": "stdout",
     "output_type": "stream",
     "text": [
      "Epoch 49/50, Train Loss: 0.7296, Train Accuracy: 74.25%, Val Loss: 0.8585, Val Accuracy: 70.34%\n"
     ]
    },
    {
     "name": "stderr",
     "output_type": "stream",
     "text": [
      "                                                                                                                      \r"
     ]
    },
    {
     "name": "stdout",
     "output_type": "stream",
     "text": [
      "Epoch 50/50, Train Loss: 0.7340, Train Accuracy: 73.94%, Val Loss: 0.8455, Val Accuracy: 70.55%\n",
      "models saved to ViT/models/20241004_174316.pth\n"
     ]
    }
   ],
   "source": [
    "# 100-150\n",
    "# Here is the hyperparameters\n",
    "\n",
    "epochs = 50\n",
    "patch_size = 8\n",
    "embed_dim = 256\n",
    "n_layers = 6\n",
    "heads = 8\n",
    "attn_dim = 512\n",
    "mlp_dim = None # default to 4*embed_dim\n",
    "pool = 'cls'\n",
    "dropout = 0.1\n",
    "\n",
    "model = ViT(image_size=32, patch_size=patch_size, num_classes=10, embed_dim=embed_dim, n_layers=n_layers, heads=heads, attn_dim=attn_dim, mlp_dim=mlp_dim, pool=pool, dropout=dropout)\n",
    "\n",
    "last_time_str = \"20241004_144451\"\n",
    "\n",
    "# load model\n",
    "model.load_state_dict(torch.load(f\"ViT/models/{last_time_str}.pth\"))\n",
    "\n",
    "print(f\"models loaded from ViT/models/{last_time_str}.pth\")\n",
    "\n",
    "optimizer = torch.optim.Adam(model.parameters(), lr=1e-4, betas=(0.9, 0.999), weight_decay=5e-4)\n",
    "\n",
    "time_str = timestr()\n",
    "\n",
    "print(f\"Time string: {time_str}\")\n",
    "\n",
    "# print the model and the number of parameters\n",
    "# print(model.transformer)\n",
    "print(f'The model has {sum(p.numel() for p in model.parameters() if p.requires_grad):,} trainable parameters')\n",
    "\n",
    "train(epochs=epochs, model=model, optimizer=optimizer, criterion=nn.CrossEntropyLoss(), \n",
    "      train_loader=train_loader, val_loader=val_loader, outdir=get_outdir(time_str))\n",
    "\n",
    "# save model\n",
    "torch.save(model.state_dict(), f\"ViT/models/{time_str}.pth\")\n",
    "\n",
    "print(f\"models saved to ViT/models/{time_str}.pth\")"
   ]
  },
  {
   "cell_type": "code",
   "execution_count": 4,
   "metadata": {},
   "outputs": [
    {
     "name": "stderr",
     "output_type": "stream",
     "text": [
      "Epoch 1/50:   0%|                                                                             | 0/196 [00:00<?, ?it/s]"
     ]
    },
    {
     "name": "stdout",
     "output_type": "stream",
     "text": [
      "models loaded from ViT/models/20241004_174316.pth\n",
      "Time string: 20241004_182219\n",
      "The model has 6,359,562 trainable parameters\n"
     ]
    },
    {
     "name": "stderr",
     "output_type": "stream",
     "text": [
      "Epoch 2/50:   0%|                                                                             | 0/196 [00:00<?, ?it/s]"
     ]
    },
    {
     "name": "stdout",
     "output_type": "stream",
     "text": [
      "Epoch 1/50, Train Loss: 0.7364, Train Accuracy: 73.70%, Val Loss: 0.8635, Val Accuracy: 70.24%\n"
     ]
    },
    {
     "name": "stderr",
     "output_type": "stream",
     "text": [
      "Epoch 3/50:   0%|                                                                             | 0/196 [00:00<?, ?it/s]"
     ]
    },
    {
     "name": "stdout",
     "output_type": "stream",
     "text": [
      "Epoch 2/50, Train Loss: 0.7324, Train Accuracy: 73.97%, Val Loss: 0.8493, Val Accuracy: 70.58%\n"
     ]
    },
    {
     "name": "stderr",
     "output_type": "stream",
     "text": [
      "Epoch 4/50:   1%|▎                                                  | 1/196 [00:00<00:37,  5.13it/s, Train Loss=0.799]"
     ]
    },
    {
     "name": "stdout",
     "output_type": "stream",
     "text": [
      "Epoch 3/50, Train Loss: 0.7281, Train Accuracy: 74.09%, Val Loss: 0.8581, Val Accuracy: 70.08%\n"
     ]
    },
    {
     "name": "stderr",
     "output_type": "stream",
     "text": [
      "Epoch 5/50:   1%|▎                                                  | 1/196 [00:00<00:38,  5.10it/s, Train Loss=0.754]"
     ]
    },
    {
     "name": "stdout",
     "output_type": "stream",
     "text": [
      "Epoch 4/50, Train Loss: 0.7337, Train Accuracy: 73.68%, Val Loss: 0.8612, Val Accuracy: 70.34%\n"
     ]
    },
    {
     "name": "stderr",
     "output_type": "stream",
     "text": [
      "Epoch 6/50:   0%|                                                                             | 0/196 [00:00<?, ?it/s]"
     ]
    },
    {
     "name": "stdout",
     "output_type": "stream",
     "text": [
      "Epoch 5/50, Train Loss: 0.7298, Train Accuracy: 73.88%, Val Loss: 0.8138, Val Accuracy: 71.62%\n"
     ]
    },
    {
     "name": "stderr",
     "output_type": "stream",
     "text": [
      "Epoch 7/50:   1%|▎                                                  | 1/196 [00:00<00:38,  5.09it/s, Train Loss=0.675]"
     ]
    },
    {
     "name": "stdout",
     "output_type": "stream",
     "text": [
      "Epoch 6/50, Train Loss: 0.7269, Train Accuracy: 74.07%, Val Loss: 0.8690, Val Accuracy: 70.30%\n"
     ]
    },
    {
     "name": "stderr",
     "output_type": "stream",
     "text": [
      "Epoch 8/50:   1%|▎                                                  | 1/196 [00:00<00:38,  5.12it/s, Train Loss=0.683]"
     ]
    },
    {
     "name": "stdout",
     "output_type": "stream",
     "text": [
      "Epoch 7/50, Train Loss: 0.7250, Train Accuracy: 74.13%, Val Loss: 0.8300, Val Accuracy: 70.81%\n"
     ]
    },
    {
     "name": "stderr",
     "output_type": "stream",
     "text": [
      "Epoch 9/50:   1%|▎                                                  | 1/196 [00:00<00:38,  5.13it/s, Train Loss=0.635]"
     ]
    },
    {
     "name": "stdout",
     "output_type": "stream",
     "text": [
      "Epoch 8/50, Train Loss: 0.7227, Train Accuracy: 74.30%, Val Loss: 0.8447, Val Accuracy: 70.78%\n"
     ]
    },
    {
     "name": "stderr",
     "output_type": "stream",
     "text": [
      "Epoch 10/50:   1%|▎                                                 | 1/196 [00:00<00:38,  5.07it/s, Train Loss=0.761]"
     ]
    },
    {
     "name": "stdout",
     "output_type": "stream",
     "text": [
      "Epoch 9/50, Train Loss: 0.7283, Train Accuracy: 74.11%, Val Loss: 0.8540, Val Accuracy: 70.37%\n"
     ]
    },
    {
     "name": "stderr",
     "output_type": "stream",
     "text": [
      "Epoch 11/50:   1%|▎                                                 | 1/196 [00:00<00:38,  5.13it/s, Train Loss=0.754]"
     ]
    },
    {
     "name": "stdout",
     "output_type": "stream",
     "text": [
      "Epoch 10/50, Train Loss: 0.7164, Train Accuracy: 74.37%, Val Loss: 0.8421, Val Accuracy: 70.72%\n"
     ]
    },
    {
     "name": "stderr",
     "output_type": "stream",
     "text": [
      "Epoch 12/50:   1%|▎                                                   | 1/196 [00:00<00:38,  5.10it/s, Train Loss=0.7]"
     ]
    },
    {
     "name": "stdout",
     "output_type": "stream",
     "text": [
      "Epoch 11/50, Train Loss: 0.7214, Train Accuracy: 74.18%, Val Loss: 0.8540, Val Accuracy: 70.27%\n"
     ]
    },
    {
     "name": "stderr",
     "output_type": "stream",
     "text": [
      "Epoch 13/50:   1%|▎                                                 | 1/196 [00:00<00:37,  5.14it/s, Train Loss=0.629]"
     ]
    },
    {
     "name": "stdout",
     "output_type": "stream",
     "text": [
      "Epoch 12/50, Train Loss: 0.7209, Train Accuracy: 74.21%, Val Loss: 0.8204, Val Accuracy: 71.50%\n"
     ]
    },
    {
     "name": "stderr",
     "output_type": "stream",
     "text": [
      "Epoch 14/50:   1%|▎                                                 | 1/196 [00:00<00:38,  5.12it/s, Train Loss=0.826]"
     ]
    },
    {
     "name": "stdout",
     "output_type": "stream",
     "text": [
      "Epoch 13/50, Train Loss: 0.7149, Train Accuracy: 74.44%, Val Loss: 0.8191, Val Accuracy: 71.16%\n"
     ]
    },
    {
     "name": "stderr",
     "output_type": "stream",
     "text": [
      "Epoch 15/50:   1%|▎                                                 | 1/196 [00:00<00:38,  5.09it/s, Train Loss=0.707]"
     ]
    },
    {
     "name": "stdout",
     "output_type": "stream",
     "text": [
      "Epoch 14/50, Train Loss: 0.7193, Train Accuracy: 74.30%, Val Loss: 0.8363, Val Accuracy: 71.35%\n"
     ]
    },
    {
     "name": "stderr",
     "output_type": "stream",
     "text": [
      "Epoch 16/50:   1%|▎                                                 | 1/196 [00:00<00:37,  5.14it/s, Train Loss=0.745]"
     ]
    },
    {
     "name": "stdout",
     "output_type": "stream",
     "text": [
      "Epoch 15/50, Train Loss: 0.7168, Train Accuracy: 74.33%, Val Loss: 0.8185, Val Accuracy: 71.48%\n"
     ]
    },
    {
     "name": "stderr",
     "output_type": "stream",
     "text": [
      "Epoch 17/50:   1%|▎                                                  | 1/196 [00:00<00:37,  5.13it/s, Train Loss=0.77]"
     ]
    },
    {
     "name": "stdout",
     "output_type": "stream",
     "text": [
      "Epoch 16/50, Train Loss: 0.7081, Train Accuracy: 74.93%, Val Loss: 0.8201, Val Accuracy: 71.64%\n"
     ]
    },
    {
     "name": "stderr",
     "output_type": "stream",
     "text": [
      "Epoch 18/50:   1%|▎                                                 | 1/196 [00:00<00:37,  5.15it/s, Train Loss=0.685]"
     ]
    },
    {
     "name": "stdout",
     "output_type": "stream",
     "text": [
      "Epoch 17/50, Train Loss: 0.7099, Train Accuracy: 74.64%, Val Loss: 0.8210, Val Accuracy: 71.69%\n"
     ]
    },
    {
     "name": "stderr",
     "output_type": "stream",
     "text": [
      "Epoch 19/50:   1%|▎                                                 | 1/196 [00:00<00:38,  5.07it/s, Train Loss=0.786]"
     ]
    },
    {
     "name": "stdout",
     "output_type": "stream",
     "text": [
      "Epoch 18/50, Train Loss: 0.7177, Train Accuracy: 74.52%, Val Loss: 0.8271, Val Accuracy: 71.53%\n"
     ]
    },
    {
     "name": "stderr",
     "output_type": "stream",
     "text": [
      "Epoch 20/50:   1%|▎                                                 | 1/196 [00:00<00:37,  5.14it/s, Train Loss=0.622]"
     ]
    },
    {
     "name": "stdout",
     "output_type": "stream",
     "text": [
      "Epoch 19/50, Train Loss: 0.7112, Train Accuracy: 74.39%, Val Loss: 0.8328, Val Accuracy: 71.05%\n"
     ]
    },
    {
     "name": "stderr",
     "output_type": "stream",
     "text": [
      "Epoch 21/50:   1%|▎                                                 | 1/196 [00:00<00:37,  5.16it/s, Train Loss=0.804]"
     ]
    },
    {
     "name": "stdout",
     "output_type": "stream",
     "text": [
      "Epoch 20/50, Train Loss: 0.7118, Train Accuracy: 74.42%, Val Loss: 0.8459, Val Accuracy: 70.60%\n"
     ]
    },
    {
     "name": "stderr",
     "output_type": "stream",
     "text": [
      "Epoch 22/50:   1%|▎                                                 | 1/196 [00:00<00:37,  5.14it/s, Train Loss=0.827]"
     ]
    },
    {
     "name": "stdout",
     "output_type": "stream",
     "text": [
      "Epoch 21/50, Train Loss: 0.7107, Train Accuracy: 74.64%, Val Loss: 0.8745, Val Accuracy: 70.06%\n"
     ]
    },
    {
     "name": "stderr",
     "output_type": "stream",
     "text": [
      "Epoch 23/50:   1%|▎                                                 | 1/196 [00:00<00:37,  5.14it/s, Train Loss=0.704]"
     ]
    },
    {
     "name": "stdout",
     "output_type": "stream",
     "text": [
      "Epoch 22/50, Train Loss: 0.7107, Train Accuracy: 74.53%, Val Loss: 0.8491, Val Accuracy: 70.68%\n"
     ]
    },
    {
     "name": "stderr",
     "output_type": "stream",
     "text": [
      "Epoch 24/50:   1%|▎                                                 | 1/196 [00:00<00:37,  5.14it/s, Train Loss=0.683]"
     ]
    },
    {
     "name": "stdout",
     "output_type": "stream",
     "text": [
      "Epoch 23/50, Train Loss: 0.7070, Train Accuracy: 74.74%, Val Loss: 0.8794, Val Accuracy: 69.76%\n"
     ]
    },
    {
     "name": "stderr",
     "output_type": "stream",
     "text": [
      "Epoch 25/50:   1%|▎                                                 | 1/196 [00:00<00:37,  5.15it/s, Train Loss=0.665]"
     ]
    },
    {
     "name": "stdout",
     "output_type": "stream",
     "text": [
      "Epoch 24/50, Train Loss: 0.7033, Train Accuracy: 74.90%, Val Loss: 0.8407, Val Accuracy: 71.12%\n"
     ]
    },
    {
     "name": "stderr",
     "output_type": "stream",
     "text": [
      "Epoch 26/50:   0%|                                                                            | 0/196 [00:00<?, ?it/s]"
     ]
    },
    {
     "name": "stdout",
     "output_type": "stream",
     "text": [
      "Epoch 25/50, Train Loss: 0.7000, Train Accuracy: 74.90%, Val Loss: 0.8102, Val Accuracy: 71.59%\n"
     ]
    },
    {
     "name": "stderr",
     "output_type": "stream",
     "text": [
      "Epoch 27/50:   1%|▎                                                 | 1/196 [00:00<00:37,  5.14it/s, Train Loss=0.757]"
     ]
    },
    {
     "name": "stdout",
     "output_type": "stream",
     "text": [
      "Epoch 26/50, Train Loss: 0.7036, Train Accuracy: 74.83%, Val Loss: 0.8457, Val Accuracy: 71.20%\n"
     ]
    },
    {
     "name": "stderr",
     "output_type": "stream",
     "text": [
      "Epoch 28/50:   1%|▎                                                 | 1/196 [00:00<00:37,  5.15it/s, Train Loss=0.721]"
     ]
    },
    {
     "name": "stdout",
     "output_type": "stream",
     "text": [
      "Epoch 27/50, Train Loss: 0.7009, Train Accuracy: 74.90%, Val Loss: 0.8654, Val Accuracy: 69.93%\n"
     ]
    },
    {
     "name": "stderr",
     "output_type": "stream",
     "text": [
      "Epoch 29/50:   1%|▎                                                 | 1/196 [00:00<00:37,  5.14it/s, Train Loss=0.667]"
     ]
    },
    {
     "name": "stdout",
     "output_type": "stream",
     "text": [
      "Epoch 28/50, Train Loss: 0.6983, Train Accuracy: 75.15%, Val Loss: 0.8324, Val Accuracy: 71.41%\n"
     ]
    },
    {
     "name": "stderr",
     "output_type": "stream",
     "text": [
      "Epoch 30/50:   1%|▎                                                 | 1/196 [00:00<00:37,  5.15it/s, Train Loss=0.722]"
     ]
    },
    {
     "name": "stdout",
     "output_type": "stream",
     "text": [
      "Epoch 29/50, Train Loss: 0.6978, Train Accuracy: 75.12%, Val Loss: 0.8421, Val Accuracy: 71.03%\n"
     ]
    },
    {
     "name": "stderr",
     "output_type": "stream",
     "text": [
      "Epoch 31/50:   1%|▎                                                 | 1/196 [00:00<00:37,  5.13it/s, Train Loss=0.737]"
     ]
    },
    {
     "name": "stdout",
     "output_type": "stream",
     "text": [
      "Epoch 30/50, Train Loss: 0.6989, Train Accuracy: 75.05%, Val Loss: 0.8321, Val Accuracy: 71.48%\n"
     ]
    },
    {
     "name": "stderr",
     "output_type": "stream",
     "text": [
      "Epoch 32/50:   1%|▎                                                 | 1/196 [00:00<00:38,  5.10it/s, Train Loss=0.787]"
     ]
    },
    {
     "name": "stdout",
     "output_type": "stream",
     "text": [
      "Epoch 31/50, Train Loss: 0.6978, Train Accuracy: 74.84%, Val Loss: 0.8362, Val Accuracy: 71.13%\n"
     ]
    },
    {
     "name": "stderr",
     "output_type": "stream",
     "text": [
      "Epoch 33/50:   1%|▎                                                 | 1/196 [00:00<00:38,  5.11it/s, Train Loss=0.746]"
     ]
    },
    {
     "name": "stdout",
     "output_type": "stream",
     "text": [
      "Epoch 32/50, Train Loss: 0.7025, Train Accuracy: 74.98%, Val Loss: 0.8127, Val Accuracy: 72.16%\n"
     ]
    },
    {
     "name": "stderr",
     "output_type": "stream",
     "text": [
      "Epoch 34/50:   1%|▎                                                 | 1/196 [00:00<00:38,  5.12it/s, Train Loss=0.637]"
     ]
    },
    {
     "name": "stdout",
     "output_type": "stream",
     "text": [
      "Epoch 33/50, Train Loss: 0.6960, Train Accuracy: 75.11%, Val Loss: 0.8302, Val Accuracy: 71.42%\n"
     ]
    },
    {
     "name": "stderr",
     "output_type": "stream",
     "text": [
      "Epoch 35/50:   1%|▎                                                 | 1/196 [00:00<00:37,  5.14it/s, Train Loss=0.693]"
     ]
    },
    {
     "name": "stdout",
     "output_type": "stream",
     "text": [
      "Epoch 34/50, Train Loss: 0.6921, Train Accuracy: 75.36%, Val Loss: 0.8387, Val Accuracy: 70.96%\n"
     ]
    },
    {
     "name": "stderr",
     "output_type": "stream",
     "text": [
      "Epoch 36/50:   1%|▎                                                 | 1/196 [00:00<00:38,  5.12it/s, Train Loss=0.799]"
     ]
    },
    {
     "name": "stdout",
     "output_type": "stream",
     "text": [
      "Epoch 35/50, Train Loss: 0.6906, Train Accuracy: 75.32%, Val Loss: 0.8290, Val Accuracy: 71.53%\n"
     ]
    },
    {
     "name": "stderr",
     "output_type": "stream",
     "text": [
      "Epoch 37/50:   1%|▎                                                 | 1/196 [00:00<00:37,  5.15it/s, Train Loss=0.625]"
     ]
    },
    {
     "name": "stdout",
     "output_type": "stream",
     "text": [
      "Epoch 36/50, Train Loss: 0.6905, Train Accuracy: 75.34%, Val Loss: 0.8251, Val Accuracy: 71.33%\n"
     ]
    },
    {
     "name": "stderr",
     "output_type": "stream",
     "text": [
      "Epoch 38/50:   1%|▎                                                 | 1/196 [00:00<00:38,  5.11it/s, Train Loss=0.673]"
     ]
    },
    {
     "name": "stdout",
     "output_type": "stream",
     "text": [
      "Epoch 37/50, Train Loss: 0.6899, Train Accuracy: 75.41%, Val Loss: 0.8159, Val Accuracy: 71.75%\n"
     ]
    },
    {
     "name": "stderr",
     "output_type": "stream",
     "text": [
      "Epoch 39/50:   1%|▎                                                 | 1/196 [00:00<00:38,  5.12it/s, Train Loss=0.745]"
     ]
    },
    {
     "name": "stdout",
     "output_type": "stream",
     "text": [
      "Epoch 38/50, Train Loss: 0.6933, Train Accuracy: 75.19%, Val Loss: 0.8208, Val Accuracy: 71.70%\n"
     ]
    },
    {
     "name": "stderr",
     "output_type": "stream",
     "text": [
      "Epoch 40/50:   1%|▎                                                 | 1/196 [00:00<00:37,  5.15it/s, Train Loss=0.622]"
     ]
    },
    {
     "name": "stdout",
     "output_type": "stream",
     "text": [
      "Epoch 39/50, Train Loss: 0.6884, Train Accuracy: 75.54%, Val Loss: 0.8193, Val Accuracy: 71.57%\n"
     ]
    },
    {
     "name": "stderr",
     "output_type": "stream",
     "text": [
      "Epoch 41/50:   1%|▎                                                 | 1/196 [00:00<00:37,  5.14it/s, Train Loss=0.742]"
     ]
    },
    {
     "name": "stdout",
     "output_type": "stream",
     "text": [
      "Epoch 40/50, Train Loss: 0.6853, Train Accuracy: 75.52%, Val Loss: 0.8106, Val Accuracy: 71.98%\n"
     ]
    },
    {
     "name": "stderr",
     "output_type": "stream",
     "text": [
      "Epoch 42/50:   0%|                                                                            | 0/196 [00:00<?, ?it/s]"
     ]
    },
    {
     "name": "stdout",
     "output_type": "stream",
     "text": [
      "Epoch 41/50, Train Loss: 0.6857, Train Accuracy: 75.22%, Val Loss: 0.8079, Val Accuracy: 72.32%\n"
     ]
    },
    {
     "name": "stderr",
     "output_type": "stream",
     "text": [
      "Epoch 43/50:   0%|                                                                            | 0/196 [00:00<?, ?it/s]"
     ]
    },
    {
     "name": "stdout",
     "output_type": "stream",
     "text": [
      "Epoch 42/50, Train Loss: 0.6872, Train Accuracy: 75.44%, Val Loss: 0.8058, Val Accuracy: 72.13%\n"
     ]
    },
    {
     "name": "stderr",
     "output_type": "stream",
     "text": [
      "Epoch 44/50:   1%|▎                                                 | 1/196 [00:00<00:38,  5.12it/s, Train Loss=0.713]"
     ]
    },
    {
     "name": "stdout",
     "output_type": "stream",
     "text": [
      "Epoch 43/50, Train Loss: 0.6877, Train Accuracy: 75.48%, Val Loss: 0.8119, Val Accuracy: 71.79%\n"
     ]
    },
    {
     "name": "stderr",
     "output_type": "stream",
     "text": [
      "Epoch 45/50:   1%|▎                                                 | 1/196 [00:00<00:37,  5.15it/s, Train Loss=0.722]"
     ]
    },
    {
     "name": "stdout",
     "output_type": "stream",
     "text": [
      "Epoch 44/50, Train Loss: 0.6831, Train Accuracy: 75.63%, Val Loss: 0.8330, Val Accuracy: 71.13%\n"
     ]
    },
    {
     "name": "stderr",
     "output_type": "stream",
     "text": [
      "Epoch 46/50:   1%|▎                                                 | 1/196 [00:00<00:37,  5.15it/s, Train Loss=0.662]"
     ]
    },
    {
     "name": "stdout",
     "output_type": "stream",
     "text": [
      "Epoch 45/50, Train Loss: 0.6784, Train Accuracy: 75.88%, Val Loss: 0.8311, Val Accuracy: 71.68%\n"
     ]
    },
    {
     "name": "stderr",
     "output_type": "stream",
     "text": [
      "Epoch 47/50:   1%|▎                                                 | 1/196 [00:00<00:37,  5.14it/s, Train Loss=0.636]"
     ]
    },
    {
     "name": "stdout",
     "output_type": "stream",
     "text": [
      "Epoch 46/50, Train Loss: 0.6837, Train Accuracy: 75.45%, Val Loss: 0.8186, Val Accuracy: 72.21%\n"
     ]
    },
    {
     "name": "stderr",
     "output_type": "stream",
     "text": [
      "Epoch 48/50:   1%|▎                                                 | 1/196 [00:00<00:37,  5.13it/s, Train Loss=0.662]"
     ]
    },
    {
     "name": "stdout",
     "output_type": "stream",
     "text": [
      "Epoch 47/50, Train Loss: 0.6827, Train Accuracy: 75.55%, Val Loss: 0.8258, Val Accuracy: 71.82%\n"
     ]
    },
    {
     "name": "stderr",
     "output_type": "stream",
     "text": [
      "Epoch 49/50:   1%|▎                                                 | 1/196 [00:00<00:38,  5.10it/s, Train Loss=0.675]"
     ]
    },
    {
     "name": "stdout",
     "output_type": "stream",
     "text": [
      "Epoch 48/50, Train Loss: 0.6779, Train Accuracy: 75.69%, Val Loss: 0.8794, Val Accuracy: 69.96%\n"
     ]
    },
    {
     "name": "stderr",
     "output_type": "stream",
     "text": [
      "Epoch 50/50:   1%|▎                                                 | 1/196 [00:00<00:37,  5.15it/s, Train Loss=0.666]"
     ]
    },
    {
     "name": "stdout",
     "output_type": "stream",
     "text": [
      "Epoch 49/50, Train Loss: 0.6817, Train Accuracy: 75.68%, Val Loss: 0.8323, Val Accuracy: 71.15%\n"
     ]
    },
    {
     "name": "stderr",
     "output_type": "stream",
     "text": [
      "                                                                                                                      \r"
     ]
    },
    {
     "name": "stdout",
     "output_type": "stream",
     "text": [
      "Epoch 50/50, Train Loss: 0.6719, Train Accuracy: 76.03%, Val Loss: 0.8108, Val Accuracy: 72.18%\n",
      "models saved to ViT/models/20241004_182219.pth\n"
     ]
    }
   ],
   "source": [
    "# 150-200\n",
    "# Here is the hyperparameters\n",
    "\n",
    "epochs = 50\n",
    "patch_size = 8\n",
    "embed_dim = 256\n",
    "n_layers = 6\n",
    "heads = 8\n",
    "attn_dim = 512\n",
    "mlp_dim = None # default to 4*embed_dim\n",
    "pool = 'cls'\n",
    "dropout = 0.1\n",
    "\n",
    "model = ViT(image_size=32, patch_size=patch_size, num_classes=10, embed_dim=embed_dim, n_layers=n_layers, heads=heads, attn_dim=attn_dim, mlp_dim=mlp_dim, pool=pool, dropout=dropout)\n",
    "\n",
    "last_time_str = \"20241004_174316\"\n",
    "\n",
    "# load model\n",
    "model.load_state_dict(torch.load(f\"ViT/models/{last_time_str}.pth\"))\n",
    "\n",
    "print(f\"models loaded from ViT/models/{last_time_str}.pth\")\n",
    "\n",
    "optimizer = torch.optim.Adam(model.parameters(), lr=1e-4, betas=(0.9, 0.999), weight_decay=5e-4)\n",
    "\n",
    "time_str = timestr()\n",
    "\n",
    "print(f\"Time string: {time_str}\")\n",
    "\n",
    "# print the model and the number of parameters\n",
    "# print(model.transformer)\n",
    "print(f'The model has {sum(p.numel() for p in model.parameters() if p.requires_grad):,} trainable parameters')\n",
    "\n",
    "train(epochs=epochs, model=model, optimizer=optimizer, criterion=nn.CrossEntropyLoss(), \n",
    "      train_loader=train_loader, val_loader=val_loader, outdir=get_outdir(time_str))\n",
    "\n",
    "# save model\n",
    "torch.save(model.state_dict(), f\"ViT/models/{time_str}.pth\")\n",
    "\n",
    "print(f\"models saved to ViT/models/{time_str}.pth\")"
   ]
  },
  {
   "cell_type": "code",
   "execution_count": 3,
   "metadata": {},
   "outputs": [
    {
     "name": "stderr",
     "output_type": "stream",
     "text": [
      "Epoch 1/100:   0%|                                                                            | 0/196 [00:00<?, ?it/s]"
     ]
    },
    {
     "name": "stdout",
     "output_type": "stream",
     "text": [
      "models loaded from ViT/models/20241004_182219.pth\n",
      "Time string: 20241004_190300\n",
      "The model has 6,359,562 trainable parameters\n"
     ]
    },
    {
     "name": "stderr",
     "output_type": "stream",
     "text": [
      "Epoch 2/100:   0%|                                                                            | 0/196 [00:00<?, ?it/s]"
     ]
    },
    {
     "name": "stdout",
     "output_type": "stream",
     "text": [
      "Epoch 1/100, Train Loss: 0.6596, Train Accuracy: 76.51%, Val Loss: 0.8304, Val Accuracy: 71.82%\n"
     ]
    },
    {
     "name": "stderr",
     "output_type": "stream",
     "text": [
      "Epoch 3/100:   0%|                                                                            | 0/196 [00:00<?, ?it/s]"
     ]
    },
    {
     "name": "stdout",
     "output_type": "stream",
     "text": [
      "Epoch 2/100, Train Loss: 0.6493, Train Accuracy: 76.84%, Val Loss: 0.8198, Val Accuracy: 72.00%\n"
     ]
    },
    {
     "name": "stderr",
     "output_type": "stream",
     "text": [
      "Epoch 4/100:   0%|                                                                            | 0/196 [00:00<?, ?it/s]"
     ]
    },
    {
     "name": "stdout",
     "output_type": "stream",
     "text": [
      "Epoch 3/100, Train Loss: 0.6410, Train Accuracy: 77.14%, Val Loss: 0.8168, Val Accuracy: 72.19%\n"
     ]
    },
    {
     "name": "stderr",
     "output_type": "stream",
     "text": [
      "Epoch 5/100:   0%|                                                                            | 0/196 [00:00<?, ?it/s]"
     ]
    },
    {
     "name": "stdout",
     "output_type": "stream",
     "text": [
      "Epoch 4/100, Train Loss: 0.6470, Train Accuracy: 76.93%, Val Loss: 0.8082, Val Accuracy: 72.43%\n"
     ]
    },
    {
     "name": "stderr",
     "output_type": "stream",
     "text": [
      "Epoch 6/100:   1%|▎                                                 | 1/196 [00:00<00:32,  6.00it/s, Train Loss=0.644]"
     ]
    },
    {
     "name": "stdout",
     "output_type": "stream",
     "text": [
      "Epoch 5/100, Train Loss: 0.6457, Train Accuracy: 77.00%, Val Loss: 0.8288, Val Accuracy: 71.73%\n"
     ]
    },
    {
     "name": "stderr",
     "output_type": "stream",
     "text": [
      "Epoch 7/100:   0%|                                                                            | 0/196 [00:00<?, ?it/s]"
     ]
    },
    {
     "name": "stdout",
     "output_type": "stream",
     "text": [
      "Epoch 6/100, Train Loss: 0.6363, Train Accuracy: 77.08%, Val Loss: 0.8080, Val Accuracy: 72.43%\n"
     ]
    },
    {
     "name": "stderr",
     "output_type": "stream",
     "text": [
      "Epoch 8/100:   1%|▎                                                 | 1/196 [00:00<00:32,  5.97it/s, Train Loss=0.661]"
     ]
    },
    {
     "name": "stdout",
     "output_type": "stream",
     "text": [
      "Epoch 7/100, Train Loss: 0.6368, Train Accuracy: 77.16%, Val Loss: 0.8222, Val Accuracy: 72.36%\n"
     ]
    },
    {
     "name": "stderr",
     "output_type": "stream",
     "text": [
      "Epoch 9/100:   1%|▎                                                 | 1/196 [00:00<00:32,  6.01it/s, Train Loss=0.564]"
     ]
    },
    {
     "name": "stdout",
     "output_type": "stream",
     "text": [
      "Epoch 8/100, Train Loss: 0.6405, Train Accuracy: 76.89%, Val Loss: 0.8212, Val Accuracy: 72.01%\n"
     ]
    },
    {
     "name": "stderr",
     "output_type": "stream",
     "text": [
      "Epoch 10/100:   1%|▏                                                | 1/196 [00:00<00:32,  5.99it/s, Train Loss=0.711]"
     ]
    },
    {
     "name": "stdout",
     "output_type": "stream",
     "text": [
      "Epoch 9/100, Train Loss: 0.6345, Train Accuracy: 77.20%, Val Loss: 0.8392, Val Accuracy: 71.74%\n"
     ]
    },
    {
     "name": "stderr",
     "output_type": "stream",
     "text": [
      "Epoch 11/100:   1%|▏                                                | 1/196 [00:00<00:32,  6.01it/s, Train Loss=0.638]"
     ]
    },
    {
     "name": "stdout",
     "output_type": "stream",
     "text": [
      "Epoch 10/100, Train Loss: 0.6373, Train Accuracy: 77.21%, Val Loss: 0.8113, Val Accuracy: 72.58%\n"
     ]
    },
    {
     "name": "stderr",
     "output_type": "stream",
     "text": [
      "Epoch 12/100:   1%|▏                                                | 1/196 [00:00<00:33,  5.91it/s, Train Loss=0.639]"
     ]
    },
    {
     "name": "stdout",
     "output_type": "stream",
     "text": [
      "Epoch 11/100, Train Loss: 0.6349, Train Accuracy: 77.16%, Val Loss: 0.8354, Val Accuracy: 71.53%\n"
     ]
    },
    {
     "name": "stderr",
     "output_type": "stream",
     "text": [
      "Epoch 13/100:   1%|▏                                                | 1/196 [00:00<00:33,  5.88it/s, Train Loss=0.563]"
     ]
    },
    {
     "name": "stdout",
     "output_type": "stream",
     "text": [
      "Epoch 12/100, Train Loss: 0.6338, Train Accuracy: 77.48%, Val Loss: 0.8290, Val Accuracy: 71.89%\n"
     ]
    },
    {
     "name": "stderr",
     "output_type": "stream",
     "text": [
      "Epoch 14/100:   1%|▏                                                | 1/196 [00:00<00:32,  5.98it/s, Train Loss=0.651]"
     ]
    },
    {
     "name": "stdout",
     "output_type": "stream",
     "text": [
      "Epoch 13/100, Train Loss: 0.6336, Train Accuracy: 77.31%, Val Loss: 0.8284, Val Accuracy: 71.84%\n"
     ]
    },
    {
     "name": "stderr",
     "output_type": "stream",
     "text": [
      "Epoch 15/100:   1%|▏                                                | 1/196 [00:00<00:32,  5.99it/s, Train Loss=0.563]"
     ]
    },
    {
     "name": "stdout",
     "output_type": "stream",
     "text": [
      "Epoch 14/100, Train Loss: 0.6343, Train Accuracy: 77.31%, Val Loss: 0.8265, Val Accuracy: 71.97%\n"
     ]
    },
    {
     "name": "stderr",
     "output_type": "stream",
     "text": [
      "Epoch 16/100:   1%|▏                                                | 1/196 [00:00<00:32,  5.98it/s, Train Loss=0.631]"
     ]
    },
    {
     "name": "stdout",
     "output_type": "stream",
     "text": [
      "Epoch 15/100, Train Loss: 0.6298, Train Accuracy: 77.39%, Val Loss: 0.8139, Val Accuracy: 72.38%\n"
     ]
    },
    {
     "name": "stderr",
     "output_type": "stream",
     "text": [
      "Epoch 17/100:   1%|▏                                                | 1/196 [00:00<00:32,  5.92it/s, Train Loss=0.669]"
     ]
    },
    {
     "name": "stdout",
     "output_type": "stream",
     "text": [
      "Epoch 16/100, Train Loss: 0.6256, Train Accuracy: 77.61%, Val Loss: 0.8227, Val Accuracy: 72.13%\n"
     ]
    },
    {
     "name": "stderr",
     "output_type": "stream",
     "text": [
      "Epoch 18/100:   1%|▏                                                | 1/196 [00:00<00:32,  5.99it/s, Train Loss=0.628]"
     ]
    },
    {
     "name": "stdout",
     "output_type": "stream",
     "text": [
      "Epoch 17/100, Train Loss: 0.6287, Train Accuracy: 77.65%, Val Loss: 0.8188, Val Accuracy: 72.43%\n"
     ]
    },
    {
     "name": "stderr",
     "output_type": "stream",
     "text": [
      "Epoch 19/100:   1%|▏                                                | 1/196 [00:00<00:33,  5.90it/s, Train Loss=0.603]"
     ]
    },
    {
     "name": "stdout",
     "output_type": "stream",
     "text": [
      "Epoch 18/100, Train Loss: 0.6297, Train Accuracy: 77.57%, Val Loss: 0.8413, Val Accuracy: 71.88%\n"
     ]
    },
    {
     "name": "stderr",
     "output_type": "stream",
     "text": [
      "Epoch 20/100:   1%|▏                                                | 1/196 [00:00<00:32,  5.99it/s, Train Loss=0.623]"
     ]
    },
    {
     "name": "stdout",
     "output_type": "stream",
     "text": [
      "Epoch 19/100, Train Loss: 0.6316, Train Accuracy: 77.31%, Val Loss: 0.8440, Val Accuracy: 71.44%\n"
     ]
    },
    {
     "name": "stderr",
     "output_type": "stream",
     "text": [
      "Epoch 21/100:   1%|▏                                                | 1/196 [00:00<00:32,  5.95it/s, Train Loss=0.632]"
     ]
    },
    {
     "name": "stdout",
     "output_type": "stream",
     "text": [
      "Epoch 20/100, Train Loss: 0.6291, Train Accuracy: 77.43%, Val Loss: 0.8235, Val Accuracy: 72.18%\n"
     ]
    },
    {
     "name": "stderr",
     "output_type": "stream",
     "text": [
      "Epoch 22/100:   1%|▏                                                | 1/196 [00:00<00:32,  5.97it/s, Train Loss=0.707]"
     ]
    },
    {
     "name": "stdout",
     "output_type": "stream",
     "text": [
      "Epoch 21/100, Train Loss: 0.6199, Train Accuracy: 77.68%, Val Loss: 0.8387, Val Accuracy: 71.89%\n"
     ]
    },
    {
     "name": "stderr",
     "output_type": "stream",
     "text": [
      "Epoch 23/100:   1%|▏                                                | 1/196 [00:00<00:32,  6.01it/s, Train Loss=0.673]"
     ]
    },
    {
     "name": "stdout",
     "output_type": "stream",
     "text": [
      "Epoch 22/100, Train Loss: 0.6232, Train Accuracy: 77.61%, Val Loss: 0.8274, Val Accuracy: 71.91%\n"
     ]
    },
    {
     "name": "stderr",
     "output_type": "stream",
     "text": [
      "Epoch 24/100:   1%|▏                                                | 1/196 [00:00<00:32,  5.99it/s, Train Loss=0.584]"
     ]
    },
    {
     "name": "stdout",
     "output_type": "stream",
     "text": [
      "Epoch 23/100, Train Loss: 0.6253, Train Accuracy: 77.44%, Val Loss: 0.8252, Val Accuracy: 72.11%\n"
     ]
    },
    {
     "name": "stderr",
     "output_type": "stream",
     "text": [
      "Epoch 25/100:   1%|▏                                                | 1/196 [00:00<00:32,  6.00it/s, Train Loss=0.621]"
     ]
    },
    {
     "name": "stdout",
     "output_type": "stream",
     "text": [
      "Epoch 24/100, Train Loss: 0.6190, Train Accuracy: 77.93%, Val Loss: 0.8106, Val Accuracy: 72.61%\n"
     ]
    },
    {
     "name": "stderr",
     "output_type": "stream",
     "text": [
      "Epoch 26/100:   1%|▏                                                | 1/196 [00:00<00:32,  5.99it/s, Train Loss=0.575]"
     ]
    },
    {
     "name": "stdout",
     "output_type": "stream",
     "text": [
      "Epoch 25/100, Train Loss: 0.6194, Train Accuracy: 77.71%, Val Loss: 0.8162, Val Accuracy: 72.55%\n"
     ]
    },
    {
     "name": "stderr",
     "output_type": "stream",
     "text": [
      "Epoch 27/100:   1%|▏                                                | 1/196 [00:00<00:32,  5.96it/s, Train Loss=0.619]"
     ]
    },
    {
     "name": "stdout",
     "output_type": "stream",
     "text": [
      "Epoch 26/100, Train Loss: 0.6239, Train Accuracy: 77.75%, Val Loss: 0.8269, Val Accuracy: 72.14%\n"
     ]
    },
    {
     "name": "stderr",
     "output_type": "stream",
     "text": [
      "Epoch 28/100:   1%|▏                                                | 1/196 [00:00<00:32,  6.00it/s, Train Loss=0.657]"
     ]
    },
    {
     "name": "stdout",
     "output_type": "stream",
     "text": [
      "Epoch 27/100, Train Loss: 0.6139, Train Accuracy: 78.15%, Val Loss: 0.8349, Val Accuracy: 71.81%\n"
     ]
    },
    {
     "name": "stderr",
     "output_type": "stream",
     "text": [
      "Epoch 29/100:   1%|▏                                                | 1/196 [00:00<00:32,  5.99it/s, Train Loss=0.584]"
     ]
    },
    {
     "name": "stdout",
     "output_type": "stream",
     "text": [
      "Epoch 28/100, Train Loss: 0.6194, Train Accuracy: 77.84%, Val Loss: 0.8137, Val Accuracy: 72.64%\n"
     ]
    },
    {
     "name": "stderr",
     "output_type": "stream",
     "text": [
      "Epoch 30/100:   1%|▏                                                | 1/196 [00:00<00:32,  6.00it/s, Train Loss=0.615]"
     ]
    },
    {
     "name": "stdout",
     "output_type": "stream",
     "text": [
      "Epoch 29/100, Train Loss: 0.6185, Train Accuracy: 77.73%, Val Loss: 0.8303, Val Accuracy: 71.98%\n"
     ]
    },
    {
     "name": "stderr",
     "output_type": "stream",
     "text": [
      "Epoch 31/100:   1%|▎                                                 | 1/196 [00:00<00:32,  6.00it/s, Train Loss=0.62]"
     ]
    },
    {
     "name": "stdout",
     "output_type": "stream",
     "text": [
      "Epoch 30/100, Train Loss: 0.6141, Train Accuracy: 78.04%, Val Loss: 0.8478, Val Accuracy: 71.68%\n"
     ]
    },
    {
     "name": "stderr",
     "output_type": "stream",
     "text": [
      "Epoch 32/100:   1%|▎                                                 | 1/196 [00:00<00:32,  5.97it/s, Train Loss=0.62]"
     ]
    },
    {
     "name": "stdout",
     "output_type": "stream",
     "text": [
      "Epoch 31/100, Train Loss: 0.6147, Train Accuracy: 77.92%, Val Loss: 0.8380, Val Accuracy: 71.88%\n"
     ]
    },
    {
     "name": "stderr",
     "output_type": "stream",
     "text": [
      "Epoch 33/100:   1%|▏                                                | 1/196 [00:00<00:32,  5.97it/s, Train Loss=0.656]"
     ]
    },
    {
     "name": "stdout",
     "output_type": "stream",
     "text": [
      "Epoch 32/100, Train Loss: 0.6223, Train Accuracy: 77.51%, Val Loss: 0.8375, Val Accuracy: 71.81%\n"
     ]
    },
    {
     "name": "stderr",
     "output_type": "stream",
     "text": [
      "Epoch 34/100:   1%|▏                                                | 1/196 [00:00<00:32,  5.99it/s, Train Loss=0.615]"
     ]
    },
    {
     "name": "stdout",
     "output_type": "stream",
     "text": [
      "Epoch 33/100, Train Loss: 0.6195, Train Accuracy: 77.79%, Val Loss: 0.8306, Val Accuracy: 71.79%\n"
     ]
    },
    {
     "name": "stderr",
     "output_type": "stream",
     "text": [
      "Epoch 35/100:   1%|▎                                                 | 1/196 [00:00<00:32,  6.00it/s, Train Loss=0.64]"
     ]
    },
    {
     "name": "stdout",
     "output_type": "stream",
     "text": [
      "Epoch 34/100, Train Loss: 0.6156, Train Accuracy: 77.94%, Val Loss: 0.8240, Val Accuracy: 72.23%\n"
     ]
    },
    {
     "name": "stderr",
     "output_type": "stream",
     "text": [
      "Epoch 36/100:   1%|▏                                                | 1/196 [00:00<00:32,  6.03it/s, Train Loss=0.689]"
     ]
    },
    {
     "name": "stdout",
     "output_type": "stream",
     "text": [
      "Epoch 35/100, Train Loss: 0.6133, Train Accuracy: 77.91%, Val Loss: 0.8358, Val Accuracy: 72.20%\n"
     ]
    },
    {
     "name": "stderr",
     "output_type": "stream",
     "text": [
      "Epoch 37/100:   1%|▏                                                | 1/196 [00:00<00:32,  5.95it/s, Train Loss=0.518]"
     ]
    },
    {
     "name": "stdout",
     "output_type": "stream",
     "text": [
      "Epoch 36/100, Train Loss: 0.6069, Train Accuracy: 78.28%, Val Loss: 0.8398, Val Accuracy: 71.88%\n"
     ]
    },
    {
     "name": "stderr",
     "output_type": "stream",
     "text": [
      "Epoch 38/100:   1%|▏                                                | 1/196 [00:00<00:32,  6.00it/s, Train Loss=0.595]"
     ]
    },
    {
     "name": "stdout",
     "output_type": "stream",
     "text": [
      "Epoch 37/100, Train Loss: 0.6110, Train Accuracy: 78.05%, Val Loss: 0.8333, Val Accuracy: 72.07%\n"
     ]
    },
    {
     "name": "stderr",
     "output_type": "stream",
     "text": [
      "Epoch 39/100:   1%|▏                                                | 1/196 [00:00<00:32,  5.99it/s, Train Loss=0.579]"
     ]
    },
    {
     "name": "stdout",
     "output_type": "stream",
     "text": [
      "Epoch 38/100, Train Loss: 0.6112, Train Accuracy: 77.92%, Val Loss: 0.8423, Val Accuracy: 71.98%\n"
     ]
    },
    {
     "name": "stderr",
     "output_type": "stream",
     "text": [
      "Epoch 40/100:   1%|▏                                                | 1/196 [00:00<00:32,  5.99it/s, Train Loss=0.583]"
     ]
    },
    {
     "name": "stdout",
     "output_type": "stream",
     "text": [
      "Epoch 39/100, Train Loss: 0.6102, Train Accuracy: 78.13%, Val Loss: 0.8325, Val Accuracy: 71.93%\n"
     ]
    },
    {
     "name": "stderr",
     "output_type": "stream",
     "text": [
      "Epoch 41/100:   1%|▏                                                | 1/196 [00:00<00:32,  6.01it/s, Train Loss=0.591]"
     ]
    },
    {
     "name": "stdout",
     "output_type": "stream",
     "text": [
      "Epoch 40/100, Train Loss: 0.6045, Train Accuracy: 78.34%, Val Loss: 0.8214, Val Accuracy: 72.47%\n"
     ]
    },
    {
     "name": "stderr",
     "output_type": "stream",
     "text": [
      "Epoch 42/100:   1%|▏                                                | 1/196 [00:00<00:32,  5.95it/s, Train Loss=0.493]"
     ]
    },
    {
     "name": "stdout",
     "output_type": "stream",
     "text": [
      "Epoch 41/100, Train Loss: 0.6082, Train Accuracy: 78.17%, Val Loss: 0.8223, Val Accuracy: 72.57%\n"
     ]
    },
    {
     "name": "stderr",
     "output_type": "stream",
     "text": [
      "Epoch 43/100:   1%|▏                                                | 1/196 [00:00<00:32,  5.97it/s, Train Loss=0.618]"
     ]
    },
    {
     "name": "stdout",
     "output_type": "stream",
     "text": [
      "Epoch 42/100, Train Loss: 0.6070, Train Accuracy: 78.35%, Val Loss: 0.8142, Val Accuracy: 72.75%\n"
     ]
    },
    {
     "name": "stderr",
     "output_type": "stream",
     "text": [
      "Epoch 44/100:   1%|▏                                                | 1/196 [00:00<00:32,  6.00it/s, Train Loss=0.599]"
     ]
    },
    {
     "name": "stdout",
     "output_type": "stream",
     "text": [
      "Epoch 43/100, Train Loss: 0.6037, Train Accuracy: 78.40%, Val Loss: 0.8318, Val Accuracy: 71.98%\n"
     ]
    },
    {
     "name": "stderr",
     "output_type": "stream",
     "text": [
      "Epoch 45/100:   1%|▏                                                | 1/196 [00:00<00:32,  6.00it/s, Train Loss=0.587]"
     ]
    },
    {
     "name": "stdout",
     "output_type": "stream",
     "text": [
      "Epoch 44/100, Train Loss: 0.6105, Train Accuracy: 78.00%, Val Loss: 0.8333, Val Accuracy: 72.16%\n"
     ]
    },
    {
     "name": "stderr",
     "output_type": "stream",
     "text": [
      "Epoch 46/100:   1%|▏                                                | 1/196 [00:00<00:33,  5.89it/s, Train Loss=0.595]"
     ]
    },
    {
     "name": "stdout",
     "output_type": "stream",
     "text": [
      "Epoch 45/100, Train Loss: 0.6057, Train Accuracy: 78.49%, Val Loss: 0.8471, Val Accuracy: 72.00%\n"
     ]
    },
    {
     "name": "stderr",
     "output_type": "stream",
     "text": [
      "Epoch 47/100:   1%|▏                                                | 1/196 [00:00<00:32,  6.01it/s, Train Loss=0.585]"
     ]
    },
    {
     "name": "stdout",
     "output_type": "stream",
     "text": [
      "Epoch 46/100, Train Loss: 0.6033, Train Accuracy: 78.27%, Val Loss: 0.8355, Val Accuracy: 72.31%\n"
     ]
    },
    {
     "name": "stderr",
     "output_type": "stream",
     "text": [
      "Epoch 48/100:   1%|▏                                                | 1/196 [00:00<00:32,  5.98it/s, Train Loss=0.516]"
     ]
    },
    {
     "name": "stdout",
     "output_type": "stream",
     "text": [
      "Epoch 47/100, Train Loss: 0.5957, Train Accuracy: 78.68%, Val Loss: 0.8337, Val Accuracy: 72.24%\n"
     ]
    },
    {
     "name": "stderr",
     "output_type": "stream",
     "text": [
      "Epoch 49/100:   1%|▏                                                | 1/196 [00:00<00:32,  5.95it/s, Train Loss=0.558]"
     ]
    },
    {
     "name": "stdout",
     "output_type": "stream",
     "text": [
      "Epoch 48/100, Train Loss: 0.6072, Train Accuracy: 78.12%, Val Loss: 0.8689, Val Accuracy: 71.04%\n"
     ]
    },
    {
     "name": "stderr",
     "output_type": "stream",
     "text": [
      "Epoch 50/100:   1%|▏                                                | 1/196 [00:00<00:32,  5.97it/s, Train Loss=0.575]"
     ]
    },
    {
     "name": "stdout",
     "output_type": "stream",
     "text": [
      "Epoch 49/100, Train Loss: 0.6049, Train Accuracy: 78.48%, Val Loss: 0.8443, Val Accuracy: 71.89%\n"
     ]
    },
    {
     "name": "stderr",
     "output_type": "stream",
     "text": [
      "Epoch 51/100:   1%|▏                                                | 1/196 [00:00<00:32,  5.94it/s, Train Loss=0.555]"
     ]
    },
    {
     "name": "stdout",
     "output_type": "stream",
     "text": [
      "Epoch 50/100, Train Loss: 0.5995, Train Accuracy: 78.55%, Val Loss: 0.8315, Val Accuracy: 72.03%\n"
     ]
    },
    {
     "name": "stderr",
     "output_type": "stream",
     "text": [
      "Epoch 52/100:   1%|▏                                                | 1/196 [00:00<00:32,  5.97it/s, Train Loss=0.626]"
     ]
    },
    {
     "name": "stdout",
     "output_type": "stream",
     "text": [
      "Epoch 51/100, Train Loss: 0.6038, Train Accuracy: 78.34%, Val Loss: 0.8506, Val Accuracy: 72.14%\n"
     ]
    },
    {
     "name": "stderr",
     "output_type": "stream",
     "text": [
      "Epoch 53/100:   1%|▏                                                | 1/196 [00:00<00:32,  5.98it/s, Train Loss=0.661]"
     ]
    },
    {
     "name": "stdout",
     "output_type": "stream",
     "text": [
      "Epoch 52/100, Train Loss: 0.6069, Train Accuracy: 78.18%, Val Loss: 0.8877, Val Accuracy: 70.60%\n"
     ]
    },
    {
     "name": "stderr",
     "output_type": "stream",
     "text": [
      "Epoch 54/100:   1%|▏                                                | 1/196 [00:00<00:32,  5.96it/s, Train Loss=0.639]"
     ]
    },
    {
     "name": "stdout",
     "output_type": "stream",
     "text": [
      "Epoch 53/100, Train Loss: 0.6050, Train Accuracy: 78.50%, Val Loss: 0.8589, Val Accuracy: 71.51%\n"
     ]
    },
    {
     "name": "stderr",
     "output_type": "stream",
     "text": [
      "Epoch 55/100:   1%|▎                                                 | 1/196 [00:00<00:32,  5.96it/s, Train Loss=0.57]"
     ]
    },
    {
     "name": "stdout",
     "output_type": "stream",
     "text": [
      "Epoch 54/100, Train Loss: 0.6068, Train Accuracy: 78.40%, Val Loss: 0.8591, Val Accuracy: 71.61%\n"
     ]
    },
    {
     "name": "stderr",
     "output_type": "stream",
     "text": [
      "Epoch 56/100:   1%|▏                                                | 1/196 [00:00<00:32,  5.99it/s, Train Loss=0.517]"
     ]
    },
    {
     "name": "stdout",
     "output_type": "stream",
     "text": [
      "Epoch 55/100, Train Loss: 0.6046, Train Accuracy: 78.34%, Val Loss: 0.8469, Val Accuracy: 72.10%\n"
     ]
    },
    {
     "name": "stderr",
     "output_type": "stream",
     "text": [
      "Epoch 57/100:   1%|▏                                                | 1/196 [00:00<00:32,  5.99it/s, Train Loss=0.584]"
     ]
    },
    {
     "name": "stdout",
     "output_type": "stream",
     "text": [
      "Epoch 56/100, Train Loss: 0.6019, Train Accuracy: 78.52%, Val Loss: 0.8264, Val Accuracy: 72.33%\n"
     ]
    },
    {
     "name": "stderr",
     "output_type": "stream",
     "text": [
      "Epoch 58/100:   1%|▏                                                | 1/196 [00:00<00:32,  6.00it/s, Train Loss=0.496]"
     ]
    },
    {
     "name": "stdout",
     "output_type": "stream",
     "text": [
      "Epoch 57/100, Train Loss: 0.5939, Train Accuracy: 78.45%, Val Loss: 0.8424, Val Accuracy: 72.06%\n"
     ]
    },
    {
     "name": "stderr",
     "output_type": "stream",
     "text": [
      "Epoch 59/100:   1%|▏                                                | 1/196 [00:00<00:32,  6.00it/s, Train Loss=0.606]"
     ]
    },
    {
     "name": "stdout",
     "output_type": "stream",
     "text": [
      "Epoch 58/100, Train Loss: 0.6010, Train Accuracy: 78.49%, Val Loss: 0.8282, Val Accuracy: 72.53%\n"
     ]
    },
    {
     "name": "stderr",
     "output_type": "stream",
     "text": [
      "Epoch 60/100:   1%|▏                                                | 1/196 [00:00<00:32,  6.02it/s, Train Loss=0.647]"
     ]
    },
    {
     "name": "stdout",
     "output_type": "stream",
     "text": [
      "Epoch 59/100, Train Loss: 0.6041, Train Accuracy: 78.25%, Val Loss: 0.8360, Val Accuracy: 72.32%\n"
     ]
    },
    {
     "name": "stderr",
     "output_type": "stream",
     "text": [
      "Epoch 61/100:   1%|▏                                                | 1/196 [00:00<00:32,  6.00it/s, Train Loss=0.638]"
     ]
    },
    {
     "name": "stdout",
     "output_type": "stream",
     "text": [
      "Epoch 60/100, Train Loss: 0.6000, Train Accuracy: 78.30%, Val Loss: 0.8454, Val Accuracy: 72.05%\n"
     ]
    },
    {
     "name": "stderr",
     "output_type": "stream",
     "text": [
      "Epoch 62/100:   1%|▏                                                | 1/196 [00:00<00:32,  6.00it/s, Train Loss=0.587]"
     ]
    },
    {
     "name": "stdout",
     "output_type": "stream",
     "text": [
      "Epoch 61/100, Train Loss: 0.5996, Train Accuracy: 78.43%, Val Loss: 0.8204, Val Accuracy: 72.83%\n"
     ]
    },
    {
     "name": "stderr",
     "output_type": "stream",
     "text": [
      "Epoch 63/100:   1%|▏                                                | 1/196 [00:00<00:33,  5.86it/s, Train Loss=0.544]"
     ]
    },
    {
     "name": "stdout",
     "output_type": "stream",
     "text": [
      "Epoch 62/100, Train Loss: 0.5957, Train Accuracy: 78.62%, Val Loss: 0.8224, Val Accuracy: 72.87%\n"
     ]
    },
    {
     "name": "stderr",
     "output_type": "stream",
     "text": [
      "Epoch 64/100:   1%|▏                                                | 1/196 [00:00<00:32,  5.95it/s, Train Loss=0.514]"
     ]
    },
    {
     "name": "stdout",
     "output_type": "stream",
     "text": [
      "Epoch 63/100, Train Loss: 0.5983, Train Accuracy: 78.62%, Val Loss: 0.8248, Val Accuracy: 72.51%\n"
     ]
    },
    {
     "name": "stderr",
     "output_type": "stream",
     "text": [
      "Epoch 65/100:   1%|▏                                                | 1/196 [00:00<00:32,  5.94it/s, Train Loss=0.508]"
     ]
    },
    {
     "name": "stdout",
     "output_type": "stream",
     "text": [
      "Epoch 64/100, Train Loss: 0.5966, Train Accuracy: 78.48%, Val Loss: 0.8238, Val Accuracy: 72.45%\n"
     ]
    },
    {
     "name": "stderr",
     "output_type": "stream",
     "text": [
      "Epoch 66/100:   1%|▏                                                | 1/196 [00:00<00:32,  5.99it/s, Train Loss=0.617]"
     ]
    },
    {
     "name": "stdout",
     "output_type": "stream",
     "text": [
      "Epoch 65/100, Train Loss: 0.5965, Train Accuracy: 78.44%, Val Loss: 0.8408, Val Accuracy: 71.80%\n"
     ]
    },
    {
     "name": "stderr",
     "output_type": "stream",
     "text": [
      "Epoch 67/100:   1%|▎                                                 | 1/196 [00:00<00:32,  5.95it/s, Train Loss=0.62]"
     ]
    },
    {
     "name": "stdout",
     "output_type": "stream",
     "text": [
      "Epoch 66/100, Train Loss: 0.5973, Train Accuracy: 78.58%, Val Loss: 0.8255, Val Accuracy: 72.42%\n"
     ]
    },
    {
     "name": "stderr",
     "output_type": "stream",
     "text": [
      "Epoch 68/100:   1%|▏                                                | 1/196 [00:00<00:33,  5.88it/s, Train Loss=0.698]"
     ]
    },
    {
     "name": "stdout",
     "output_type": "stream",
     "text": [
      "Epoch 67/100, Train Loss: 0.5920, Train Accuracy: 78.70%, Val Loss: 0.8312, Val Accuracy: 72.22%\n"
     ]
    },
    {
     "name": "stderr",
     "output_type": "stream",
     "text": [
      "Epoch 69/100:   1%|▏                                                | 1/196 [00:00<00:32,  6.00it/s, Train Loss=0.583]"
     ]
    },
    {
     "name": "stdout",
     "output_type": "stream",
     "text": [
      "Epoch 68/100, Train Loss: 0.5963, Train Accuracy: 78.58%, Val Loss: 0.8210, Val Accuracy: 72.56%\n"
     ]
    },
    {
     "name": "stderr",
     "output_type": "stream",
     "text": [
      "Epoch 70/100:   1%|▏                                                | 1/196 [00:00<00:32,  5.97it/s, Train Loss=0.592]"
     ]
    },
    {
     "name": "stdout",
     "output_type": "stream",
     "text": [
      "Epoch 69/100, Train Loss: 0.5887, Train Accuracy: 78.96%, Val Loss: 0.8082, Val Accuracy: 73.14%\n"
     ]
    },
    {
     "name": "stderr",
     "output_type": "stream",
     "text": [
      "Epoch 71/100:   1%|▏                                                | 1/196 [00:00<00:32,  6.00it/s, Train Loss=0.621]"
     ]
    },
    {
     "name": "stdout",
     "output_type": "stream",
     "text": [
      "Epoch 70/100, Train Loss: 0.5927, Train Accuracy: 78.73%, Val Loss: 0.8392, Val Accuracy: 72.00%\n"
     ]
    },
    {
     "name": "stderr",
     "output_type": "stream",
     "text": [
      "Epoch 72/100:   1%|▏                                                | 1/196 [00:00<00:32,  5.98it/s, Train Loss=0.584]"
     ]
    },
    {
     "name": "stdout",
     "output_type": "stream",
     "text": [
      "Epoch 71/100, Train Loss: 0.5908, Train Accuracy: 78.71%, Val Loss: 0.8206, Val Accuracy: 72.43%\n"
     ]
    },
    {
     "name": "stderr",
     "output_type": "stream",
     "text": [
      "Epoch 73/100:   1%|▏                                                | 1/196 [00:00<00:32,  5.98it/s, Train Loss=0.568]"
     ]
    },
    {
     "name": "stdout",
     "output_type": "stream",
     "text": [
      "Epoch 72/100, Train Loss: 0.5879, Train Accuracy: 78.83%, Val Loss: 0.8249, Val Accuracy: 72.79%\n"
     ]
    },
    {
     "name": "stderr",
     "output_type": "stream",
     "text": [
      "Epoch 74/100:   1%|▏                                                | 1/196 [00:00<00:32,  6.01it/s, Train Loss=0.578]"
     ]
    },
    {
     "name": "stdout",
     "output_type": "stream",
     "text": [
      "Epoch 73/100, Train Loss: 0.5896, Train Accuracy: 78.74%, Val Loss: 0.8198, Val Accuracy: 72.81%\n"
     ]
    },
    {
     "name": "stderr",
     "output_type": "stream",
     "text": [
      "Epoch 75/100:   1%|▏                                                | 1/196 [00:00<00:33,  5.81it/s, Train Loss=0.581]"
     ]
    },
    {
     "name": "stdout",
     "output_type": "stream",
     "text": [
      "Epoch 74/100, Train Loss: 0.5909, Train Accuracy: 78.95%, Val Loss: 0.8384, Val Accuracy: 72.18%\n"
     ]
    },
    {
     "name": "stderr",
     "output_type": "stream",
     "text": [
      "Epoch 76/100:   1%|▏                                                | 1/196 [00:00<00:32,  6.01it/s, Train Loss=0.535]"
     ]
    },
    {
     "name": "stdout",
     "output_type": "stream",
     "text": [
      "Epoch 75/100, Train Loss: 0.5867, Train Accuracy: 78.70%, Val Loss: 0.8282, Val Accuracy: 72.29%\n"
     ]
    },
    {
     "name": "stderr",
     "output_type": "stream",
     "text": [
      "Epoch 77/100:   1%|▎                                                 | 1/196 [00:00<00:32,  5.91it/s, Train Loss=0.54]"
     ]
    },
    {
     "name": "stdout",
     "output_type": "stream",
     "text": [
      "Epoch 76/100, Train Loss: 0.5903, Train Accuracy: 78.81%, Val Loss: 0.8260, Val Accuracy: 72.62%\n"
     ]
    },
    {
     "name": "stderr",
     "output_type": "stream",
     "text": [
      "Epoch 78/100:   1%|▏                                                | 1/196 [00:00<00:32,  6.00it/s, Train Loss=0.569]"
     ]
    },
    {
     "name": "stdout",
     "output_type": "stream",
     "text": [
      "Epoch 77/100, Train Loss: 0.5869, Train Accuracy: 78.90%, Val Loss: 0.8302, Val Accuracy: 72.52%\n"
     ]
    },
    {
     "name": "stderr",
     "output_type": "stream",
     "text": [
      "Epoch 79/100:   1%|▎                                                 | 1/196 [00:00<00:32,  5.95it/s, Train Loss=0.54]"
     ]
    },
    {
     "name": "stdout",
     "output_type": "stream",
     "text": [
      "Epoch 78/100, Train Loss: 0.5892, Train Accuracy: 78.85%, Val Loss: 0.8485, Val Accuracy: 71.68%\n"
     ]
    },
    {
     "name": "stderr",
     "output_type": "stream",
     "text": [
      "Epoch 80/100:   1%|▏                                                | 1/196 [00:00<00:32,  6.01it/s, Train Loss=0.553]"
     ]
    },
    {
     "name": "stdout",
     "output_type": "stream",
     "text": [
      "Epoch 79/100, Train Loss: 0.5833, Train Accuracy: 78.98%, Val Loss: 0.8423, Val Accuracy: 71.96%\n"
     ]
    },
    {
     "name": "stderr",
     "output_type": "stream",
     "text": [
      "Epoch 81/100:   1%|▏                                                | 1/196 [00:00<00:32,  5.95it/s, Train Loss=0.622]"
     ]
    },
    {
     "name": "stdout",
     "output_type": "stream",
     "text": [
      "Epoch 80/100, Train Loss: 0.5836, Train Accuracy: 78.85%, Val Loss: 0.8678, Val Accuracy: 71.45%\n"
     ]
    },
    {
     "name": "stderr",
     "output_type": "stream",
     "text": [
      "Epoch 82/100:   1%|▏                                                | 1/196 [00:00<00:32,  6.01it/s, Train Loss=0.553]"
     ]
    },
    {
     "name": "stdout",
     "output_type": "stream",
     "text": [
      "Epoch 81/100, Train Loss: 0.5804, Train Accuracy: 79.18%, Val Loss: 0.8437, Val Accuracy: 72.07%\n"
     ]
    },
    {
     "name": "stderr",
     "output_type": "stream",
     "text": [
      "Epoch 83/100:   1%|▏                                                | 1/196 [00:00<00:32,  6.01it/s, Train Loss=0.555]"
     ]
    },
    {
     "name": "stdout",
     "output_type": "stream",
     "text": [
      "Epoch 82/100, Train Loss: 0.5881, Train Accuracy: 78.93%, Val Loss: 0.8231, Val Accuracy: 72.41%\n"
     ]
    },
    {
     "name": "stderr",
     "output_type": "stream",
     "text": [
      "Epoch 84/100:   1%|▎                                                 | 1/196 [00:00<00:33,  5.85it/s, Train Loss=0.63]"
     ]
    },
    {
     "name": "stdout",
     "output_type": "stream",
     "text": [
      "Epoch 83/100, Train Loss: 0.5840, Train Accuracy: 79.09%, Val Loss: 0.8432, Val Accuracy: 72.09%\n"
     ]
    },
    {
     "name": "stderr",
     "output_type": "stream",
     "text": [
      "Epoch 85/100:   1%|▏                                                | 1/196 [00:00<00:32,  5.99it/s, Train Loss=0.596]"
     ]
    },
    {
     "name": "stdout",
     "output_type": "stream",
     "text": [
      "Epoch 84/100, Train Loss: 0.5790, Train Accuracy: 79.24%, Val Loss: 0.8324, Val Accuracy: 72.50%\n"
     ]
    },
    {
     "name": "stderr",
     "output_type": "stream",
     "text": [
      "Epoch 86/100:   1%|▏                                                | 1/196 [00:00<00:32,  5.99it/s, Train Loss=0.586]"
     ]
    },
    {
     "name": "stdout",
     "output_type": "stream",
     "text": [
      "Epoch 85/100, Train Loss: 0.5769, Train Accuracy: 79.31%, Val Loss: 0.8352, Val Accuracy: 72.49%\n"
     ]
    },
    {
     "name": "stderr",
     "output_type": "stream",
     "text": [
      "Epoch 87/100:   1%|▎                                                 | 1/196 [00:00<00:32,  6.00it/s, Train Loss=0.61]"
     ]
    },
    {
     "name": "stdout",
     "output_type": "stream",
     "text": [
      "Epoch 86/100, Train Loss: 0.5801, Train Accuracy: 79.19%, Val Loss: 0.8260, Val Accuracy: 72.55%\n"
     ]
    },
    {
     "name": "stderr",
     "output_type": "stream",
     "text": [
      "Epoch 88/100:   1%|▏                                                | 1/196 [00:00<00:32,  5.94it/s, Train Loss=0.545]"
     ]
    },
    {
     "name": "stdout",
     "output_type": "stream",
     "text": [
      "Epoch 87/100, Train Loss: 0.5779, Train Accuracy: 79.11%, Val Loss: 0.8451, Val Accuracy: 72.40%\n"
     ]
    },
    {
     "name": "stderr",
     "output_type": "stream",
     "text": [
      "Epoch 89/100:   1%|▏                                                | 1/196 [00:00<00:32,  5.99it/s, Train Loss=0.535]"
     ]
    },
    {
     "name": "stdout",
     "output_type": "stream",
     "text": [
      "Epoch 88/100, Train Loss: 0.5761, Train Accuracy: 79.26%, Val Loss: 0.8353, Val Accuracy: 72.06%\n"
     ]
    },
    {
     "name": "stderr",
     "output_type": "stream",
     "text": [
      "Epoch 90/100:   1%|▏                                                | 1/196 [00:00<00:32,  6.01it/s, Train Loss=0.508]"
     ]
    },
    {
     "name": "stdout",
     "output_type": "stream",
     "text": [
      "Epoch 89/100, Train Loss: 0.5723, Train Accuracy: 79.43%, Val Loss: 0.8322, Val Accuracy: 72.27%\n"
     ]
    },
    {
     "name": "stderr",
     "output_type": "stream",
     "text": [
      "Epoch 91/100:   1%|▏                                                | 1/196 [00:00<00:32,  5.93it/s, Train Loss=0.551]"
     ]
    },
    {
     "name": "stdout",
     "output_type": "stream",
     "text": [
      "Epoch 90/100, Train Loss: 0.5783, Train Accuracy: 79.36%, Val Loss: 0.8188, Val Accuracy: 72.62%\n"
     ]
    },
    {
     "name": "stderr",
     "output_type": "stream",
     "text": [
      "Epoch 92/100:   1%|▏                                                | 1/196 [00:00<00:32,  6.00it/s, Train Loss=0.568]"
     ]
    },
    {
     "name": "stdout",
     "output_type": "stream",
     "text": [
      "Epoch 91/100, Train Loss: 0.5797, Train Accuracy: 79.12%, Val Loss: 0.8432, Val Accuracy: 72.12%\n"
     ]
    },
    {
     "name": "stderr",
     "output_type": "stream",
     "text": [
      "Epoch 93/100:   1%|▏                                                | 1/196 [00:00<00:32,  6.02it/s, Train Loss=0.454]"
     ]
    },
    {
     "name": "stdout",
     "output_type": "stream",
     "text": [
      "Epoch 92/100, Train Loss: 0.5714, Train Accuracy: 79.33%, Val Loss: 0.8442, Val Accuracy: 72.40%\n"
     ]
    },
    {
     "name": "stderr",
     "output_type": "stream",
     "text": [
      "Epoch 94/100:   1%|▏                                                | 1/196 [00:00<00:32,  6.01it/s, Train Loss=0.557]"
     ]
    },
    {
     "name": "stdout",
     "output_type": "stream",
     "text": [
      "Epoch 93/100, Train Loss: 0.5766, Train Accuracy: 79.24%, Val Loss: 0.8465, Val Accuracy: 72.24%\n"
     ]
    },
    {
     "name": "stderr",
     "output_type": "stream",
     "text": [
      "Epoch 95/100:   1%|▏                                                | 1/196 [00:00<00:32,  5.99it/s, Train Loss=0.469]"
     ]
    },
    {
     "name": "stdout",
     "output_type": "stream",
     "text": [
      "Epoch 94/100, Train Loss: 0.5766, Train Accuracy: 79.47%, Val Loss: 0.8338, Val Accuracy: 72.48%\n"
     ]
    },
    {
     "name": "stderr",
     "output_type": "stream",
     "text": [
      "Epoch 96/100:   1%|▏                                                | 1/196 [00:00<00:32,  5.98it/s, Train Loss=0.547]"
     ]
    },
    {
     "name": "stdout",
     "output_type": "stream",
     "text": [
      "Epoch 95/100, Train Loss: 0.5706, Train Accuracy: 79.57%, Val Loss: 0.8438, Val Accuracy: 72.08%\n"
     ]
    },
    {
     "name": "stderr",
     "output_type": "stream",
     "text": [
      "Epoch 97/100:   1%|▏                                                | 1/196 [00:00<00:32,  6.01it/s, Train Loss=0.512]"
     ]
    },
    {
     "name": "stdout",
     "output_type": "stream",
     "text": [
      "Epoch 96/100, Train Loss: 0.5699, Train Accuracy: 79.60%, Val Loss: 0.8484, Val Accuracy: 71.91%\n"
     ]
    },
    {
     "name": "stderr",
     "output_type": "stream",
     "text": [
      "Epoch 98/100:   1%|▎                                                  | 1/196 [00:00<00:33,  5.82it/s, Train Loss=0.5]"
     ]
    },
    {
     "name": "stdout",
     "output_type": "stream",
     "text": [
      "Epoch 97/100, Train Loss: 0.5679, Train Accuracy: 79.70%, Val Loss: 0.8330, Val Accuracy: 72.52%\n"
     ]
    },
    {
     "name": "stderr",
     "output_type": "stream",
     "text": [
      "Epoch 99/100:   1%|▏                                                | 1/196 [00:00<00:32,  6.01it/s, Train Loss=0.543]"
     ]
    },
    {
     "name": "stdout",
     "output_type": "stream",
     "text": [
      "Epoch 98/100, Train Loss: 0.5775, Train Accuracy: 79.17%, Val Loss: 0.8705, Val Accuracy: 71.33%\n"
     ]
    },
    {
     "name": "stderr",
     "output_type": "stream",
     "text": [
      "Epoch 100/100:   1%|▏                                               | 1/196 [00:00<00:32,  5.96it/s, Train Loss=0.597]"
     ]
    },
    {
     "name": "stdout",
     "output_type": "stream",
     "text": [
      "Epoch 99/100, Train Loss: 0.5662, Train Accuracy: 79.66%, Val Loss: 0.8318, Val Accuracy: 72.43%\n"
     ]
    },
    {
     "name": "stderr",
     "output_type": "stream",
     "text": [
      "                                                                                                                      \r"
     ]
    },
    {
     "name": "stdout",
     "output_type": "stream",
     "text": [
      "Epoch 100/100, Train Loss: 0.5690, Train Accuracy: 79.69%, Val Loss: 0.8407, Val Accuracy: 72.25%\n",
      "models saved to ViT/models/20241004_190300.pth\n"
     ]
    }
   ],
   "source": [
    "# 200-300\n",
    "# hyperparameters\n",
    "\n",
    "epochs = 100\n",
    "patch_size = 8\n",
    "embed_dim = 256\n",
    "n_layers = 6\n",
    "heads = 8\n",
    "attn_dim = 512\n",
    "mlp_dim = None # default to 4*embed_dim\n",
    "pool = 'cls'\n",
    "dropout = 0.1\n",
    "\n",
    "model = ViT(image_size=32, patch_size=patch_size, num_classes=10, embed_dim=embed_dim, n_layers=n_layers, heads=heads, attn_dim=attn_dim, mlp_dim=mlp_dim, pool=pool, dropout=dropout)\n",
    "\n",
    "last_time_str = \"20241004_182219\"\n",
    "\n",
    "# load model\n",
    "model.load_state_dict(torch.load(f\"ViT/models/{last_time_str}.pth\"))\n",
    "\n",
    "print(f\"models loaded from ViT/models/{last_time_str}.pth\")\n",
    "\n",
    "optimizer = torch.optim.Adam(model.parameters(), lr=5e-5, betas=(0.9, 0.999), weight_decay=5e-4)\n",
    "\n",
    "time_str = timestr()\n",
    "\n",
    "print(f\"Time string: {time_str}\")\n",
    "\n",
    "# print the model and the number of parameters\n",
    "# print(model.transformer)\n",
    "print(f'The model has {sum(p.numel() for p in model.parameters() if p.requires_grad):,} trainable parameters')\n",
    "\n",
    "train(epochs=epochs, model=model, optimizer=optimizer, criterion=nn.CrossEntropyLoss(), \n",
    "      train_loader=train_loader, val_loader=val_loader, outdir=get_outdir(time_str))\n",
    "\n",
    "# save model\n",
    "torch.save(model.state_dict(), f\"ViT/models/{time_str}.pth\")\n",
    "\n",
    "print(f\"models saved to ViT/models/{time_str}.pth\")"
   ]
  },
  {
   "cell_type": "markdown",
   "metadata": {},
   "source": [
    "Here is the model:\n",
    "\n",
    "```bash\n",
    "AttentionLayers(\n",
    "  (layers): ModuleList(\n",
    "    (0): ModuleList(\n",
    "      (0): ModuleList(\n",
    "        (0): LayerNorm(\n",
    "          (ln): LayerNorm((256,), eps=1e-05, elementwise_affine=False)\n",
    "        )\n",
    "        (1): None\n",
    "        (2): None\n",
    "      )\n",
    "      (1): Attention(\n",
    "        (to_q): Linear(in_features=256, out_features=512, bias=False)\n",
    "        (to_k): Linear(in_features=256, out_features=512, bias=False)\n",
    "        (to_v): Linear(in_features=256, out_features=512, bias=False)\n",
    "        (attend): Attend(\n",
    "          (attn_dropout): Dropout(p=0.0, inplace=False)\n",
    "        )\n",
    "        (to_out): Linear(in_features=512, out_features=256, bias=False)\n",
    "      )\n",
    "      (2): Residual()\n",
    "    )\n",
    "    (1): ModuleList(\n",
    "      (0): ModuleList(\n",
    "        (0): LayerNorm(\n",
    "          (ln): LayerNorm((256,), eps=1e-05, elementwise_affine=False)\n",
    "        )\n",
    "        (1): None\n",
    "        (2): None\n",
    "      )\n",
    "      (1): FeedForward(\n",
    "        (ff): Sequential(\n",
    "          (0): Sequential(\n",
    "            (0): Linear(in_features=256, out_features=1024, bias=True)\n",
    "            (1): MyGELU()\n",
    "          )\n",
    "          (1): Dropout(p=0.0, inplace=False)\n",
    "          (2): Linear(in_features=1024, out_features=256, bias=True)\n",
    "        )\n",
    "      )\n",
    "      (2): Residual()\n",
    "    )\n",
    "    (2): ModuleList(\n",
    "      (0): ModuleList(\n",
    "        (0): LayerNorm(\n",
    "          (ln): LayerNorm((256,), eps=1e-05, elementwise_affine=False)\n",
    "        )\n",
    "        (1): None\n",
    "        (2): None\n",
    "      )\n",
    "      (1): Attention(\n",
    "        (to_q): Linear(in_features=256, out_features=512, bias=False)\n",
    "        (to_k): Linear(in_features=256, out_features=512, bias=False)\n",
    "        (to_v): Linear(in_features=256, out_features=512, bias=False)\n",
    "        (attend): Attend(\n",
    "          (attn_dropout): Dropout(p=0.0, inplace=False)\n",
    "        )\n",
    "        (to_out): Linear(in_features=512, out_features=256, bias=False)\n",
    "      )\n",
    "      (2): Residual()\n",
    "    )\n",
    "    (3): ModuleList(\n",
    "      (0): ModuleList(\n",
    "        (0): LayerNorm(\n",
    "          (ln): LayerNorm((256,), eps=1e-05, elementwise_affine=False)\n",
    "        )\n",
    "        (1): None\n",
    "        (2): None\n",
    "      )\n",
    "      (1): FeedForward(\n",
    "        (ff): Sequential(\n",
    "          (0): Sequential(\n",
    "            (0): Linear(in_features=256, out_features=1024, bias=True)\n",
    "            (1): MyGELU()\n",
    "          )\n",
    "          (1): Dropout(p=0.0, inplace=False)\n",
    "          (2): Linear(in_features=1024, out_features=256, bias=True)\n",
    "        )\n",
    "      )\n",
    "      (2): Residual()\n",
    "    )\n",
    "    (4): ModuleList(\n",
    "      (0): ModuleList(\n",
    "        (0): LayerNorm(\n",
    "          (ln): LayerNorm((256,), eps=1e-05, elementwise_affine=False)\n",
    "        )\n",
    "        (1): None\n",
    "        (2): None\n",
    "      )\n",
    "      (1): Attention(\n",
    "        (to_q): Linear(in_features=256, out_features=512, bias=False)\n",
    "        (to_k): Linear(in_features=256, out_features=512, bias=False)\n",
    "        (to_v): Linear(in_features=256, out_features=512, bias=False)\n",
    "        (attend): Attend(\n",
    "          (attn_dropout): Dropout(p=0.0, inplace=False)\n",
    "        )\n",
    "        (to_out): Linear(in_features=512, out_features=256, bias=False)\n",
    "      )\n",
    "      (2): Residual()\n",
    "    )\n",
    "    (5): ModuleList(\n",
    "      (0): ModuleList(\n",
    "        (0): LayerNorm(\n",
    "          (ln): LayerNorm((256,), eps=1e-05, elementwise_affine=False)\n",
    "        )\n",
    "        (1): None\n",
    "        (2): None\n",
    "      )\n",
    "      (1): FeedForward(\n",
    "        (ff): Sequential(\n",
    "          (0): Sequential(\n",
    "            (0): Linear(in_features=256, out_features=1024, bias=True)\n",
    "            (1): MyGELU()\n",
    "          )\n",
    "          (1): Dropout(p=0.0, inplace=False)\n",
    "          (2): Linear(in_features=1024, out_features=256, bias=True)\n",
    "        )\n",
    "      )\n",
    "      (2): Residual()\n",
    "    )\n",
    "    (6): ModuleList(\n",
    "      (0): ModuleList(\n",
    "        (0): LayerNorm(\n",
    "          (ln): LayerNorm((256,), eps=1e-05, elementwise_affine=False)\n",
    "        )\n",
    "        (1): None\n",
    "        (2): None\n",
    "      )\n",
    "      (1): Attention(\n",
    "        (to_q): Linear(in_features=256, out_features=512, bias=False)\n",
    "        (to_k): Linear(in_features=256, out_features=512, bias=False)\n",
    "        (to_v): Linear(in_features=256, out_features=512, bias=False)\n",
    "        (attend): Attend(\n",
    "          (attn_dropout): Dropout(p=0.0, inplace=False)\n",
    "        )\n",
    "        (to_out): Linear(in_features=512, out_features=256, bias=False)\n",
    "      )\n",
    "      (2): Residual()\n",
    "    )\n",
    "    (7): ModuleList(\n",
    "      (0): ModuleList(\n",
    "        (0): LayerNorm(\n",
    "          (ln): LayerNorm((256,), eps=1e-05, elementwise_affine=False)\n",
    "        )\n",
    "        (1): None\n",
    "        (2): None\n",
    "      )\n",
    "      (1): FeedForward(\n",
    "        (ff): Sequential(\n",
    "          (0): Sequential(\n",
    "            (0): Linear(in_features=256, out_features=1024, bias=True)\n",
    "            (1): MyGELU()\n",
    "          )\n",
    "          (1): Dropout(p=0.0, inplace=False)\n",
    "          (2): Linear(in_features=1024, out_features=256, bias=True)\n",
    "        )\n",
    "      )\n",
    "      (2): Residual()\n",
    "    )\n",
    "    (8): ModuleList(\n",
    "      (0): ModuleList(\n",
    "        (0): LayerNorm(\n",
    "          (ln): LayerNorm((256,), eps=1e-05, elementwise_affine=False)\n",
    "        )\n",
    "        (1): None\n",
    "        (2): None\n",
    "      )\n",
    "      (1): Attention(\n",
    "        (to_q): Linear(in_features=256, out_features=512, bias=False)\n",
    "        (to_k): Linear(in_features=256, out_features=512, bias=False)\n",
    "        (to_v): Linear(in_features=256, out_features=512, bias=False)\n",
    "        (attend): Attend(\n",
    "          (attn_dropout): Dropout(p=0.0, inplace=False)\n",
    "        )\n",
    "        (to_out): Linear(in_features=512, out_features=256, bias=False)\n",
    "      )\n",
    "      (2): Residual()\n",
    "    )\n",
    "    (9): ModuleList(\n",
    "      (0): ModuleList(\n",
    "        (0): LayerNorm(\n",
    "          (ln): LayerNorm((256,), eps=1e-05, elementwise_affine=False)\n",
    "        )\n",
    "        (1): None\n",
    "        (2): None\n",
    "      )\n",
    "      (1): FeedForward(\n",
    "        (ff): Sequential(\n",
    "          (0): Sequential(\n",
    "            (0): Linear(in_features=256, out_features=1024, bias=True)\n",
    "            (1): MyGELU()\n",
    "          )\n",
    "          (1): Dropout(p=0.0, inplace=False)\n",
    "          (2): Linear(in_features=1024, out_features=256, bias=True)\n",
    "        )\n",
    "      )\n",
    "      (2): Residual()\n",
    "    )\n",
    "    (10): ModuleList(\n",
    "      (0): ModuleList(\n",
    "        (0): LayerNorm(\n",
    "          (ln): LayerNorm((256,), eps=1e-05, elementwise_affine=False)\n",
    "        )\n",
    "        (1): None\n",
    "        (2): None\n",
    "      )\n",
    "      (1): Attention(\n",
    "        (to_q): Linear(in_features=256, out_features=512, bias=False)\n",
    "        (to_k): Linear(in_features=256, out_features=512, bias=False)\n",
    "        (to_v): Linear(in_features=256, out_features=512, bias=False)\n",
    "        (attend): Attend(\n",
    "          (attn_dropout): Dropout(p=0.0, inplace=False)\n",
    "        )\n",
    "        (to_out): Linear(in_features=512, out_features=256, bias=False)\n",
    "      )\n",
    "      (2): Residual()\n",
    "    )\n",
    "    (11): ModuleList(\n",
    "      (0): ModuleList(\n",
    "        (0): LayerNorm(\n",
    "          (ln): LayerNorm((256,), eps=1e-05, elementwise_affine=False)\n",
    "        )\n",
    "        (1): None\n",
    "        (2): None\n",
    "      )\n",
    "      (1): FeedForward(\n",
    "        (ff): Sequential(\n",
    "          (0): Sequential(\n",
    "            (0): Linear(in_features=256, out_features=1024, bias=True)\n",
    "            (1): MyGELU()\n",
    "          )\n",
    "          (1): Dropout(p=0.0, inplace=False)\n",
    "          (2): Linear(in_features=1024, out_features=256, bias=True)\n",
    "        )\n",
    "      )\n",
    "      (2): Residual()\n",
    "    )\n",
    "  )\n",
    "  (adaptive_mlp): Identity()\n",
    "  (final_norm): LayerNorm(\n",
    "    (ln): LayerNorm((256,), eps=1e-05, elementwise_affine=False)\n",
    "  )\n",
    "  (skip_combines): ModuleList(\n",
    "    (0): None\n",
    "    (1): None\n",
    "    (2): None\n",
    "    (3): None\n",
    "    (4): None\n",
    "    (5): None\n",
    "    (6): None\n",
    "    (7): None\n",
    "    (8): None\n",
    "    (9): None\n",
    "    (10): None\n",
    "    (11): None\n",
    "  )\n",
    ")\n",
    "\n",
    "```"
   ]
  }
 ],
 "metadata": {
  "kernelspec": {
   "display_name": "Python 3 (ipykernel)",
   "language": "python",
   "name": "python3"
  }
 },
 "nbformat": 4,
 "nbformat_minor": 2
}
