{
 "cells": [
  {
   "cell_type": "markdown",
   "metadata": {},
   "source": [
    "# Vit for classification in CIFAR-10"
   ]
  },
  {
   "cell_type": "code",
   "execution_count": 1,
   "metadata": {},
   "outputs": [
    {
     "name": "stdout",
     "output_type": "stream",
     "text": [
      "Tue Oct  1 20:07:42 2024       \n",
      "+---------------------------------------------------------------------------------------+\n",
      "| NVIDIA-SMI 535.86.10              Driver Version: 535.86.10    CUDA Version: 12.2     |\n",
      "|-----------------------------------------+----------------------+----------------------+\n",
      "| GPU  Name                 Persistence-M | Bus-Id        Disp.A | Volatile Uncorr. ECC |\n",
      "| Fan  Temp   Perf          Pwr:Usage/Cap |         Memory-Usage | GPU-Util  Compute M. |\n",
      "|                                         |                      |               MIG M. |\n",
      "|=========================================+======================+======================|\n",
      "|   0  Tesla V100-SXM2-32GB           On  | 00000004:04:00.0 Off |                    0 |\n",
      "| N/A   43C    P0              40W / 300W |      0MiB / 32768MiB |      0%      Default |\n",
      "|                                         |                      |                  N/A |\n",
      "+-----------------------------------------+----------------------+----------------------+\n",
      "                                                                                         \n",
      "+---------------------------------------------------------------------------------------+\n",
      "| Processes:                                                                            |\n",
      "|  GPU   GI   CI        PID   Type   Process name                            GPU Memory |\n",
      "|        ID   ID                                                             Usage      |\n",
      "|=======================================================================================|\n",
      "|  No running processes found                                                           |\n",
      "+---------------------------------------------------------------------------------------+\n",
      "/nobackup/users/sqa24/anaconda3/envs/wgt/bin/python\n"
     ]
    }
   ],
   "source": [
    "%load_ext autoreload\n",
    "%autoreload 2\n",
    "!nvidia-smi\n",
    "!which python"
   ]
  },
  {
   "cell_type": "code",
   "execution_count": 6,
   "metadata": {},
   "outputs": [],
   "source": [
    "try:\n",
    "    from ViT.train import train\n",
    "    from ViT.utils import cifar_train_set, cifar_val_set\n",
    "    from ViT.model import *\n",
    "except:\n",
    "    from train import train\n",
    "    from utils import cifar_train_set, cifar_val_set\n",
    "    from model import *\n",
    "\n",
    "from torch.utils.data import DataLoader\n",
    "\n",
    "import torch\n",
    "import torch.nn as nn\n",
    "import torch.nn.functional as F\n",
    "\n",
    "import datetime\n",
    "\n",
    "train_loader = DataLoader(cifar_train_set, 256, shuffle=True, drop_last=False, pin_memory=True)\n",
    "val_loader = DataLoader(cifar_val_set, 500, shuffle=True, drop_last=False, pin_memory=True)\n",
    "\n",
    "import os\n",
    "if not os.path.exists(\"ViT/log\"):\n",
    "    os.makedirs(\"ViT/log\")\n",
    "\n",
    "def timestr():\n",
    "    now = datetime.datetime.now()\n",
    "    return now.strftime(\"%Y%m%d_%H%M%S\")\n",
    "\n",
    "def get_outdir(time_str):\n",
    "    outdir = f\"ViT/log/{time_str}.out\"\n",
    "    return outdir"
   ]
  },
  {
   "cell_type": "code",
   "execution_count": 3,
   "metadata": {},
   "outputs": [
    {
     "name": "stdout",
     "output_type": "stream",
     "text": [
      "The model has 6,334,986 trainable parameters\n"
     ]
    },
    {
     "name": "stderr",
     "output_type": "stream",
     "text": [
      "Epoch 2/50:   0%|                                                                               | 0/196 [00:00<?, ?it/s]"
     ]
    },
    {
     "name": "stdout",
     "output_type": "stream",
     "text": [
      "Epoch [1/50], Train Loss: 1.9715, Val Loss: 1.8063, Val Accuracy: 33.16%\n"
     ]
    },
    {
     "name": "stderr",
     "output_type": "stream",
     "text": [
      "Epoch 3/50:   0%|                                                                               | 0/196 [00:00<?, ?it/s]"
     ]
    },
    {
     "name": "stdout",
     "output_type": "stream",
     "text": [
      "Epoch [2/50], Train Loss: 1.7009, Val Loss: 1.5996, Val Accuracy: 41.37%\n"
     ]
    },
    {
     "name": "stderr",
     "output_type": "stream",
     "text": [
      "Epoch 4/50:   0%|                                                                               | 0/196 [00:00<?, ?it/s]"
     ]
    },
    {
     "name": "stdout",
     "output_type": "stream",
     "text": [
      "Epoch [3/50], Train Loss: 1.5775, Val Loss: 1.5126, Val Accuracy: 45.01%\n"
     ]
    },
    {
     "name": "stderr",
     "output_type": "stream",
     "text": [
      "Epoch 5/50:   0%|                                                                               | 0/196 [00:00<?, ?it/s]"
     ]
    },
    {
     "name": "stdout",
     "output_type": "stream",
     "text": [
      "Epoch [4/50], Train Loss: 1.5039, Val Loss: 1.4591, Val Accuracy: 47.28%\n"
     ]
    },
    {
     "name": "stderr",
     "output_type": "stream",
     "text": [
      "Epoch 6/50:   0%|                                                                               | 0/196 [00:00<?, ?it/s]"
     ]
    },
    {
     "name": "stdout",
     "output_type": "stream",
     "text": [
      "Epoch [5/50], Train Loss: 1.4555, Val Loss: 1.4533, Val Accuracy: 47.61%\n"
     ]
    },
    {
     "name": "stderr",
     "output_type": "stream",
     "text": [
      "Epoch 7/50:   0%|                                                                               | 0/196 [00:00<?, ?it/s]"
     ]
    },
    {
     "name": "stdout",
     "output_type": "stream",
     "text": [
      "Epoch [6/50], Train Loss: 1.4213, Val Loss: 1.4251, Val Accuracy: 48.24%\n"
     ]
    },
    {
     "name": "stderr",
     "output_type": "stream",
     "text": [
      "Epoch 8/50:   0%|                                                                               | 0/196 [00:00<?, ?it/s]"
     ]
    },
    {
     "name": "stdout",
     "output_type": "stream",
     "text": [
      "Epoch [7/50], Train Loss: 1.3732, Val Loss: 1.3547, Val Accuracy: 50.49%\n"
     ]
    },
    {
     "name": "stderr",
     "output_type": "stream",
     "text": [
      "Epoch 9/50:   0%|                                                                               | 0/196 [00:00<?, ?it/s]"
     ]
    },
    {
     "name": "stdout",
     "output_type": "stream",
     "text": [
      "Epoch [8/50], Train Loss: 1.3421, Val Loss: 1.3035, Val Accuracy: 53.10%\n"
     ]
    },
    {
     "name": "stderr",
     "output_type": "stream",
     "text": [
      "Epoch 10/50:   0%|                                                                              | 0/196 [00:00<?, ?it/s]"
     ]
    },
    {
     "name": "stdout",
     "output_type": "stream",
     "text": [
      "Epoch [9/50], Train Loss: 1.3066, Val Loss: 1.3063, Val Accuracy: 52.82%\n"
     ]
    },
    {
     "name": "stderr",
     "output_type": "stream",
     "text": [
      "Epoch 11/50:   0%|                                                                              | 0/196 [00:00<?, ?it/s]"
     ]
    },
    {
     "name": "stdout",
     "output_type": "stream",
     "text": [
      "Epoch [10/50], Train Loss: 1.2710, Val Loss: 1.2850, Val Accuracy: 53.82%\n"
     ]
    },
    {
     "name": "stderr",
     "output_type": "stream",
     "text": [
      "Epoch 12/50:   0%|                                                                              | 0/196 [00:00<?, ?it/s]"
     ]
    },
    {
     "name": "stdout",
     "output_type": "stream",
     "text": [
      "Epoch [11/50], Train Loss: 1.2539, Val Loss: 1.2236, Val Accuracy: 55.87%\n"
     ]
    },
    {
     "name": "stderr",
     "output_type": "stream",
     "text": [
      "Epoch 13/50:   0%|                                                                              | 0/196 [00:00<?, ?it/s]"
     ]
    },
    {
     "name": "stdout",
     "output_type": "stream",
     "text": [
      "Epoch [12/50], Train Loss: 1.2296, Val Loss: 1.2039, Val Accuracy: 56.60%\n"
     ]
    },
    {
     "name": "stderr",
     "output_type": "stream",
     "text": [
      "Epoch 14/50:   0%|                                                                              | 0/196 [00:00<?, ?it/s]"
     ]
    },
    {
     "name": "stdout",
     "output_type": "stream",
     "text": [
      "Epoch [13/50], Train Loss: 1.2095, Val Loss: 1.1686, Val Accuracy: 57.51%\n"
     ]
    },
    {
     "name": "stderr",
     "output_type": "stream",
     "text": [
      "Epoch 15/50:   0%|                                                                              | 0/196 [00:00<?, ?it/s]"
     ]
    },
    {
     "name": "stdout",
     "output_type": "stream",
     "text": [
      "Epoch [14/50], Train Loss: 1.1823, Val Loss: 1.1618, Val Accuracy: 57.72%\n"
     ]
    },
    {
     "name": "stderr",
     "output_type": "stream",
     "text": [
      "Epoch 16/50:   0%|                                                                              | 0/196 [00:00<?, ?it/s]"
     ]
    },
    {
     "name": "stdout",
     "output_type": "stream",
     "text": [
      "Epoch [15/50], Train Loss: 1.1709, Val Loss: 1.1637, Val Accuracy: 57.72%\n"
     ]
    },
    {
     "name": "stderr",
     "output_type": "stream",
     "text": [
      "Epoch 17/50:   0%|                                                                              | 0/196 [00:00<?, ?it/s]"
     ]
    },
    {
     "name": "stdout",
     "output_type": "stream",
     "text": [
      "Epoch [16/50], Train Loss: 1.1508, Val Loss: 1.1281, Val Accuracy: 59.05%\n"
     ]
    },
    {
     "name": "stderr",
     "output_type": "stream",
     "text": [
      "Epoch 18/50:   0%|                                                                              | 0/196 [00:00<?, ?it/s]"
     ]
    },
    {
     "name": "stdout",
     "output_type": "stream",
     "text": [
      "Epoch [17/50], Train Loss: 1.1354, Val Loss: 1.1497, Val Accuracy: 58.45%\n"
     ]
    },
    {
     "name": "stderr",
     "output_type": "stream",
     "text": [
      "Epoch 19/50:   0%|                                                                              | 0/196 [00:00<?, ?it/s]"
     ]
    },
    {
     "name": "stdout",
     "output_type": "stream",
     "text": [
      "Epoch [18/50], Train Loss: 1.1185, Val Loss: 1.0975, Val Accuracy: 61.03%\n"
     ]
    },
    {
     "name": "stderr",
     "output_type": "stream",
     "text": [
      "Epoch 20/50:   0%|                                                                              | 0/196 [00:00<?, ?it/s]"
     ]
    },
    {
     "name": "stdout",
     "output_type": "stream",
     "text": [
      "Epoch [19/50], Train Loss: 1.0979, Val Loss: 1.1393, Val Accuracy: 59.32%\n"
     ]
    },
    {
     "name": "stderr",
     "output_type": "stream",
     "text": [
      "Epoch 21/50:   0%|                                                                              | 0/196 [00:00<?, ?it/s]"
     ]
    },
    {
     "name": "stdout",
     "output_type": "stream",
     "text": [
      "Epoch [20/50], Train Loss: 1.0932, Val Loss: 1.0734, Val Accuracy: 61.71%\n"
     ]
    },
    {
     "name": "stderr",
     "output_type": "stream",
     "text": [
      "Epoch 22/50:   0%|                                                                              | 0/196 [00:00<?, ?it/s]"
     ]
    },
    {
     "name": "stdout",
     "output_type": "stream",
     "text": [
      "Epoch [21/50], Train Loss: 1.0782, Val Loss: 1.0953, Val Accuracy: 60.38%\n"
     ]
    },
    {
     "name": "stderr",
     "output_type": "stream",
     "text": [
      "Epoch 23/50:   0%|                                                                              | 0/196 [00:00<?, ?it/s]"
     ]
    },
    {
     "name": "stdout",
     "output_type": "stream",
     "text": [
      "Epoch [22/50], Train Loss: 1.0649, Val Loss: 1.0984, Val Accuracy: 61.21%\n"
     ]
    },
    {
     "name": "stderr",
     "output_type": "stream",
     "text": [
      "Epoch 24/50:   0%|                                                                              | 0/196 [00:00<?, ?it/s]"
     ]
    },
    {
     "name": "stdout",
     "output_type": "stream",
     "text": [
      "Epoch [23/50], Train Loss: 1.0503, Val Loss: 1.0588, Val Accuracy: 62.49%\n"
     ]
    },
    {
     "name": "stderr",
     "output_type": "stream",
     "text": [
      "Epoch 25/50:   0%|                                                                              | 0/196 [00:00<?, ?it/s]"
     ]
    },
    {
     "name": "stdout",
     "output_type": "stream",
     "text": [
      "Epoch [24/50], Train Loss: 1.0415, Val Loss: 1.0795, Val Accuracy: 61.41%\n"
     ]
    },
    {
     "name": "stderr",
     "output_type": "stream",
     "text": [
      "Epoch 26/50:   0%|                                                                              | 0/196 [00:00<?, ?it/s]"
     ]
    },
    {
     "name": "stdout",
     "output_type": "stream",
     "text": [
      "Epoch [25/50], Train Loss: 1.0278, Val Loss: 1.0214, Val Accuracy: 63.08%\n"
     ]
    },
    {
     "name": "stderr",
     "output_type": "stream",
     "text": [
      "Epoch 27/50:   0%|                                                                              | 0/196 [00:00<?, ?it/s]"
     ]
    },
    {
     "name": "stdout",
     "output_type": "stream",
     "text": [
      "Epoch [26/50], Train Loss: 1.0186, Val Loss: 1.0242, Val Accuracy: 63.53%\n"
     ]
    },
    {
     "name": "stderr",
     "output_type": "stream",
     "text": [
      "Epoch 28/50:   0%|                                                                              | 0/196 [00:00<?, ?it/s]"
     ]
    },
    {
     "name": "stdout",
     "output_type": "stream",
     "text": [
      "Epoch [27/50], Train Loss: 1.0136, Val Loss: 1.0721, Val Accuracy: 61.76%\n"
     ]
    },
    {
     "name": "stderr",
     "output_type": "stream",
     "text": [
      "Epoch 29/50:   0%|                                                                              | 0/196 [00:00<?, ?it/s]"
     ]
    },
    {
     "name": "stdout",
     "output_type": "stream",
     "text": [
      "Epoch [28/50], Train Loss: 1.0086, Val Loss: 1.0313, Val Accuracy: 62.72%\n"
     ]
    },
    {
     "name": "stderr",
     "output_type": "stream",
     "text": [
      "Epoch 30/50:   0%|                                                                              | 0/196 [00:00<?, ?it/s]"
     ]
    },
    {
     "name": "stdout",
     "output_type": "stream",
     "text": [
      "Epoch [29/50], Train Loss: 1.0058, Val Loss: 1.0316, Val Accuracy: 63.10%\n"
     ]
    },
    {
     "name": "stderr",
     "output_type": "stream",
     "text": [
      "Epoch 31/50:   0%|                                                                              | 0/196 [00:00<?, ?it/s]"
     ]
    },
    {
     "name": "stdout",
     "output_type": "stream",
     "text": [
      "Epoch [30/50], Train Loss: 0.9887, Val Loss: 1.0428, Val Accuracy: 63.11%\n"
     ]
    },
    {
     "name": "stderr",
     "output_type": "stream",
     "text": [
      "Epoch 32/50:   0%|                                                                              | 0/196 [00:00<?, ?it/s]"
     ]
    },
    {
     "name": "stdout",
     "output_type": "stream",
     "text": [
      "Epoch [31/50], Train Loss: 0.9799, Val Loss: 0.9986, Val Accuracy: 64.45%\n"
     ]
    },
    {
     "name": "stderr",
     "output_type": "stream",
     "text": [
      "Epoch 33/50:   0%|                                                                              | 0/196 [00:00<?, ?it/s]"
     ]
    },
    {
     "name": "stdout",
     "output_type": "stream",
     "text": [
      "Epoch [32/50], Train Loss: 0.9824, Val Loss: 1.0147, Val Accuracy: 64.13%\n"
     ]
    },
    {
     "name": "stderr",
     "output_type": "stream",
     "text": [
      "Epoch 34/50:   0%|                                                                              | 0/196 [00:00<?, ?it/s]"
     ]
    },
    {
     "name": "stdout",
     "output_type": "stream",
     "text": [
      "Epoch [33/50], Train Loss: 0.9703, Val Loss: 1.0015, Val Accuracy: 63.89%\n"
     ]
    },
    {
     "name": "stderr",
     "output_type": "stream",
     "text": [
      "Epoch 35/50:   0%|                                                                              | 0/196 [00:00<?, ?it/s]"
     ]
    },
    {
     "name": "stdout",
     "output_type": "stream",
     "text": [
      "Epoch [34/50], Train Loss: 0.9654, Val Loss: 0.9525, Val Accuracy: 66.09%\n"
     ]
    },
    {
     "name": "stderr",
     "output_type": "stream",
     "text": [
      "Epoch 36/50:   0%|                                                                              | 0/196 [00:00<?, ?it/s]"
     ]
    },
    {
     "name": "stdout",
     "output_type": "stream",
     "text": [
      "Epoch [35/50], Train Loss: 0.9552, Val Loss: 0.9894, Val Accuracy: 64.21%\n"
     ]
    },
    {
     "name": "stderr",
     "output_type": "stream",
     "text": [
      "Epoch 37/50:   0%|                                                                              | 0/196 [00:00<?, ?it/s]"
     ]
    },
    {
     "name": "stdout",
     "output_type": "stream",
     "text": [
      "Epoch [36/50], Train Loss: 0.9501, Val Loss: 0.9758, Val Accuracy: 64.40%\n"
     ]
    },
    {
     "name": "stderr",
     "output_type": "stream",
     "text": [
      "Epoch 38/50:   0%|                                                                              | 0/196 [00:00<?, ?it/s]"
     ]
    },
    {
     "name": "stdout",
     "output_type": "stream",
     "text": [
      "Epoch [37/50], Train Loss: 0.9415, Val Loss: 0.9644, Val Accuracy: 66.52%\n"
     ]
    },
    {
     "name": "stderr",
     "output_type": "stream",
     "text": [
      "Epoch 39/50:   0%|                                                                              | 0/196 [00:00<?, ?it/s]"
     ]
    },
    {
     "name": "stdout",
     "output_type": "stream",
     "text": [
      "Epoch [38/50], Train Loss: 0.9422, Val Loss: 0.9623, Val Accuracy: 65.64%\n"
     ]
    },
    {
     "name": "stderr",
     "output_type": "stream",
     "text": [
      "Epoch 40/50:   0%|                                                                              | 0/196 [00:00<?, ?it/s]"
     ]
    },
    {
     "name": "stdout",
     "output_type": "stream",
     "text": [
      "Epoch [39/50], Train Loss: 0.9344, Val Loss: 0.9894, Val Accuracy: 65.28%\n"
     ]
    },
    {
     "name": "stderr",
     "output_type": "stream",
     "text": [
      "Epoch 41/50:   0%|                                                                              | 0/196 [00:00<?, ?it/s]"
     ]
    },
    {
     "name": "stdout",
     "output_type": "stream",
     "text": [
      "Epoch [40/50], Train Loss: 0.9247, Val Loss: 0.9746, Val Accuracy: 64.39%\n"
     ]
    },
    {
     "name": "stderr",
     "output_type": "stream",
     "text": [
      "Epoch 42/50:   0%|                                                                              | 0/196 [00:00<?, ?it/s]"
     ]
    },
    {
     "name": "stdout",
     "output_type": "stream",
     "text": [
      "Epoch [41/50], Train Loss: 0.9261, Val Loss: 0.9519, Val Accuracy: 66.59%\n"
     ]
    },
    {
     "name": "stderr",
     "output_type": "stream",
     "text": [
      "Epoch 43/50:   0%|                                                                              | 0/196 [00:00<?, ?it/s]"
     ]
    },
    {
     "name": "stdout",
     "output_type": "stream",
     "text": [
      "Epoch [42/50], Train Loss: 0.9126, Val Loss: 1.0129, Val Accuracy: 63.99%\n"
     ]
    },
    {
     "name": "stderr",
     "output_type": "stream",
     "text": [
      "Epoch 44/50:   0%|                                                                              | 0/196 [00:00<?, ?it/s]"
     ]
    },
    {
     "name": "stdout",
     "output_type": "stream",
     "text": [
      "Epoch [43/50], Train Loss: 0.9080, Val Loss: 0.9260, Val Accuracy: 67.39%\n"
     ]
    },
    {
     "name": "stderr",
     "output_type": "stream",
     "text": [
      "Epoch 45/50:   0%|                                                                              | 0/196 [00:00<?, ?it/s]"
     ]
    },
    {
     "name": "stdout",
     "output_type": "stream",
     "text": [
      "Epoch [44/50], Train Loss: 0.9058, Val Loss: 0.9473, Val Accuracy: 65.90%\n"
     ]
    },
    {
     "name": "stderr",
     "output_type": "stream",
     "text": [
      "Epoch 46/50:   0%|                                                                              | 0/196 [00:00<?, ?it/s]"
     ]
    },
    {
     "name": "stdout",
     "output_type": "stream",
     "text": [
      "Epoch [45/50], Train Loss: 0.9031, Val Loss: 0.9362, Val Accuracy: 67.16%\n"
     ]
    },
    {
     "name": "stderr",
     "output_type": "stream",
     "text": [
      "Epoch 47/50:   0%|                                                                              | 0/196 [00:00<?, ?it/s]"
     ]
    },
    {
     "name": "stdout",
     "output_type": "stream",
     "text": [
      "Epoch [46/50], Train Loss: 0.8964, Val Loss: 0.9393, Val Accuracy: 66.59%\n"
     ]
    },
    {
     "name": "stderr",
     "output_type": "stream",
     "text": [
      "Epoch 48/50:   0%|                                                                              | 0/196 [00:00<?, ?it/s]"
     ]
    },
    {
     "name": "stdout",
     "output_type": "stream",
     "text": [
      "Epoch [47/50], Train Loss: 0.8894, Val Loss: 0.9557, Val Accuracy: 66.18%\n"
     ]
    },
    {
     "name": "stderr",
     "output_type": "stream",
     "text": [
      "Epoch 49/50:   0%|                                                                              | 0/196 [00:00<?, ?it/s]"
     ]
    },
    {
     "name": "stdout",
     "output_type": "stream",
     "text": [
      "Epoch [48/50], Train Loss: 0.8880, Val Loss: 0.9249, Val Accuracy: 67.41%\n"
     ]
    },
    {
     "name": "stderr",
     "output_type": "stream",
     "text": [
      "Epoch 50/50:   0%|                                                                              | 0/196 [00:00<?, ?it/s]"
     ]
    },
    {
     "name": "stdout",
     "output_type": "stream",
     "text": [
      "Epoch [49/50], Train Loss: 0.8809, Val Loss: 0.9021, Val Accuracy: 68.07%\n"
     ]
    },
    {
     "name": "stderr",
     "output_type": "stream",
     "text": [
      "                                                                                                                        \r"
     ]
    },
    {
     "name": "stdout",
     "output_type": "stream",
     "text": [
      "Epoch [50/50], Train Loss: 0.8700, Val Loss: 0.9801, Val Accuracy: 65.52%\n"
     ]
    },
    {
     "data": {
      "text/plain": [
       "([1.971512812132738,\n",
       "  1.7008938789367676,\n",
       "  1.5775153722081865,\n",
       "  1.5038623791568133,\n",
       "  1.455479241755544,\n",
       "  1.4213460665576312,\n",
       "  1.3731926284274276,\n",
       "  1.3421498555309919,\n",
       "  1.3066049765567391,\n",
       "  1.270990970183392,\n",
       "  1.2538534183891452,\n",
       "  1.2295535535228497,\n",
       "  1.209460308357161,\n",
       "  1.1822837128931163,\n",
       "  1.1709410134626894,\n",
       "  1.150828129174758,\n",
       "  1.1354368189159705,\n",
       "  1.1185487612169616,\n",
       "  1.0979098580321487,\n",
       "  1.0932189293053685,\n",
       "  1.0781740795592873,\n",
       "  1.0649321380318428,\n",
       "  1.0503459989416355,\n",
       "  1.0414876907455677,\n",
       "  1.0278346727089005,\n",
       "  1.0185638307308664,\n",
       "  1.0135750378272972,\n",
       "  1.0086105070552047,\n",
       "  1.0058433045538104,\n",
       "  0.9887293206185711,\n",
       "  0.9799468304429736,\n",
       "  0.982350057181047,\n",
       "  0.9703457075722364,\n",
       "  0.9653663066576939,\n",
       "  0.9552437115688713,\n",
       "  0.9500971001629926,\n",
       "  0.941549830290736,\n",
       "  0.9422043859958649,\n",
       "  0.9344139588730676,\n",
       "  0.9247079038498353,\n",
       "  0.9260517915292662,\n",
       "  0.9126110301942242,\n",
       "  0.9080354063486566,\n",
       "  0.9058180122959371,\n",
       "  0.9030759653874806,\n",
       "  0.8963843444172217,\n",
       "  0.889417865750741,\n",
       "  0.8880211051021304,\n",
       "  0.8809436474527631,\n",
       "  0.8700288464220203],\n",
       " [1.8062707483768463,\n",
       "  1.5995962619781494,\n",
       "  1.5126168072223662,\n",
       "  1.4591001093387603,\n",
       "  1.4532858312129975,\n",
       "  1.4250624001026153,\n",
       "  1.3546653807163238,\n",
       "  1.3034647345542907,\n",
       "  1.3062627196311951,\n",
       "  1.284960252046585,\n",
       "  1.2236247301101684,\n",
       "  1.2039437532424926,\n",
       "  1.1685643017292022,\n",
       "  1.161834055185318,\n",
       "  1.1636919379234314,\n",
       "  1.1281492590904236,\n",
       "  1.1497229635715485,\n",
       "  1.0975036084651948,\n",
       "  1.1393237650394439,\n",
       "  1.0734112709760666,\n",
       "  1.095290833711624,\n",
       "  1.0983959496021272,\n",
       "  1.058778554201126,\n",
       "  1.079508775472641,\n",
       "  1.021366500854492,\n",
       "  1.0241607129573822,\n",
       "  1.072062623500824,\n",
       "  1.0313034176826477,\n",
       "  1.0316192835569382,\n",
       "  1.042841374874115,\n",
       "  0.9986369580030441,\n",
       "  1.014654776453972,\n",
       "  1.0014588594436646,\n",
       "  0.9525441974401474,\n",
       "  0.9894336760044098,\n",
       "  0.9757692486047744,\n",
       "  0.964373716711998,\n",
       "  0.9622585713863373,\n",
       "  0.9893547981977463,\n",
       "  0.9746113210916519,\n",
       "  0.9519155859947205,\n",
       "  1.0128631114959716,\n",
       "  0.9260421961545944,\n",
       "  0.9472724467515945,\n",
       "  0.9362467527389526,\n",
       "  0.9392899245023727,\n",
       "  0.9557139337062835,\n",
       "  0.9248603999614715,\n",
       "  0.9020651429891586,\n",
       "  0.9800744831562043])"
      ]
     },
     "execution_count": 3,
     "metadata": {},
     "output_type": "execute_result"
    }
   ],
   "source": [
    "# Here is the hyperparameters\n",
    "\n",
    "epochs = 50\n",
    "patch_size = 4\n",
    "embed_dim = 256\n",
    "n_layers = 6\n",
    "heads = 8\n",
    "attn_mlp_dim = 512\n",
    "mlp_dim = 512\n",
    "pool = 'cls'\n",
    "\n",
    "model = ViT(image_size=32, patch_size=patch_size, num_classes=10, embed_dim=embed_dim, n_layers=n_layers, heads=heads, attn_mlp_dim=attn_mlp_dim, mlp_dim=mlp_dim, pool=pool)\n",
    "\n",
    "optimizer = torch.optim.Adam(model.parameters(), lr=5e-4, betas=(0.9, 0.999), weight_decay=5e-4)\n",
    "\n",
    "time_str = timestr()\n",
    "\n",
    "# print the model and the number of parameters\n",
    "# print(model.transformer)\n",
    "print(f'The model has {sum(p.numel() for p in model.parameters() if p.requires_grad):,} trainable parameters')\n",
    "\n",
    "train(epochs=epochs, model=model, optimizer=optimizer, criterion=nn.CrossEntropyLoss(), \n",
    "      train_loader=train_loader, val_loader=val_loader, outdir=get_outdir(time_str))"
   ]
  },
  {
   "cell_type": "code",
   "execution_count": 7,
   "metadata": {},
   "outputs": [
    {
     "name": "stderr",
     "output_type": "stream",
     "text": [
      "Epoch 1/20:   0%|                                                                               | 0/196 [00:00<?, ?it/s]"
     ]
    },
    {
     "name": "stdout",
     "output_type": "stream",
     "text": [
      "The model has 6,334,986 trainable parameters\n"
     ]
    },
    {
     "name": "stderr",
     "output_type": "stream",
     "text": [
      "Epoch 2/20:   0%|                                                                               | 0/196 [00:00<?, ?it/s]"
     ]
    },
    {
     "name": "stdout",
     "output_type": "stream",
     "text": [
      "Epoch [1/20], Train Loss: 0.8726, Val Loss: 0.9260, Val Accuracy: 67.18%\n"
     ]
    },
    {
     "name": "stderr",
     "output_type": "stream",
     "text": [
      "Epoch 3/20:   0%|                                                                               | 0/196 [00:00<?, ?it/s]"
     ]
    },
    {
     "name": "stdout",
     "output_type": "stream",
     "text": [
      "Epoch [2/20], Train Loss: 0.8689, Val Loss: 0.9008, Val Accuracy: 68.13%\n"
     ]
    },
    {
     "name": "stderr",
     "output_type": "stream",
     "text": [
      "Epoch 4/20:   0%|                                                                               | 0/196 [00:00<?, ?it/s]"
     ]
    },
    {
     "name": "stdout",
     "output_type": "stream",
     "text": [
      "Epoch [3/20], Train Loss: 0.8643, Val Loss: 0.9199, Val Accuracy: 67.56%\n"
     ]
    },
    {
     "name": "stderr",
     "output_type": "stream",
     "text": [
      "Epoch 5/20:   0%|                                                                               | 0/196 [00:00<?, ?it/s]"
     ]
    },
    {
     "name": "stdout",
     "output_type": "stream",
     "text": [
      "Epoch [4/20], Train Loss: 0.8616, Val Loss: 0.8978, Val Accuracy: 68.13%\n"
     ]
    },
    {
     "name": "stderr",
     "output_type": "stream",
     "text": [
      "Epoch 6/20:   0%|                                                                               | 0/196 [00:00<?, ?it/s]"
     ]
    },
    {
     "name": "stdout",
     "output_type": "stream",
     "text": [
      "Epoch [5/20], Train Loss: 0.8571, Val Loss: 0.9314, Val Accuracy: 67.13%\n"
     ]
    },
    {
     "name": "stderr",
     "output_type": "stream",
     "text": [
      "Epoch 7/20:   0%|                                                                               | 0/196 [00:00<?, ?it/s]"
     ]
    },
    {
     "name": "stdout",
     "output_type": "stream",
     "text": [
      "Epoch [6/20], Train Loss: 0.8546, Val Loss: 0.9029, Val Accuracy: 67.84%\n"
     ]
    },
    {
     "name": "stderr",
     "output_type": "stream",
     "text": [
      "Epoch 8/20:   0%|                                                                               | 0/196 [00:00<?, ?it/s]"
     ]
    },
    {
     "name": "stdout",
     "output_type": "stream",
     "text": [
      "Epoch [7/20], Train Loss: 0.8471, Val Loss: 0.8969, Val Accuracy: 68.29%\n"
     ]
    },
    {
     "name": "stderr",
     "output_type": "stream",
     "text": [
      "Epoch 9/20:   0%|                                                                               | 0/196 [00:00<?, ?it/s]"
     ]
    },
    {
     "name": "stdout",
     "output_type": "stream",
     "text": [
      "Epoch [8/20], Train Loss: 0.8410, Val Loss: 0.8803, Val Accuracy: 68.23%\n"
     ]
    },
    {
     "name": "stderr",
     "output_type": "stream",
     "text": [
      "Epoch 10/20:   0%|                                                                              | 0/196 [00:00<?, ?it/s]"
     ]
    },
    {
     "name": "stdout",
     "output_type": "stream",
     "text": [
      "Epoch [9/20], Train Loss: 0.8366, Val Loss: 0.9122, Val Accuracy: 67.71%\n"
     ]
    },
    {
     "name": "stderr",
     "output_type": "stream",
     "text": [
      "Epoch 11/20:   0%|                                                                              | 0/196 [00:00<?, ?it/s]"
     ]
    },
    {
     "name": "stdout",
     "output_type": "stream",
     "text": [
      "Epoch [10/20], Train Loss: 0.8391, Val Loss: 0.8842, Val Accuracy: 68.72%\n"
     ]
    },
    {
     "name": "stderr",
     "output_type": "stream",
     "text": [
      "Epoch 12/20:   0%|                                                                              | 0/196 [00:00<?, ?it/s]"
     ]
    },
    {
     "name": "stdout",
     "output_type": "stream",
     "text": [
      "Epoch [11/20], Train Loss: 0.8349, Val Loss: 0.8940, Val Accuracy: 68.07%\n"
     ]
    },
    {
     "name": "stderr",
     "output_type": "stream",
     "text": [
      "Epoch 13/20:   0%|                                                                              | 0/196 [00:00<?, ?it/s]"
     ]
    },
    {
     "name": "stdout",
     "output_type": "stream",
     "text": [
      "Epoch [12/20], Train Loss: 0.8315, Val Loss: 0.8815, Val Accuracy: 68.19%\n"
     ]
    },
    {
     "name": "stderr",
     "output_type": "stream",
     "text": [
      "Epoch 14/20:   0%|                                                                              | 0/196 [00:00<?, ?it/s]"
     ]
    },
    {
     "name": "stdout",
     "output_type": "stream",
     "text": [
      "Epoch [13/20], Train Loss: 0.8218, Val Loss: 0.9012, Val Accuracy: 68.15%\n"
     ]
    },
    {
     "name": "stderr",
     "output_type": "stream",
     "text": [
      "Epoch 15/20:   0%|                                                                              | 0/196 [00:00<?, ?it/s]"
     ]
    },
    {
     "name": "stdout",
     "output_type": "stream",
     "text": [
      "Epoch [14/20], Train Loss: 0.8244, Val Loss: 0.8954, Val Accuracy: 68.39%\n"
     ]
    },
    {
     "name": "stderr",
     "output_type": "stream",
     "text": [
      "Epoch 16/20:   0%|                                                                              | 0/196 [00:00<?, ?it/s]"
     ]
    },
    {
     "name": "stdout",
     "output_type": "stream",
     "text": [
      "Epoch [15/20], Train Loss: 0.8170, Val Loss: 0.8791, Val Accuracy: 68.49%\n"
     ]
    },
    {
     "name": "stderr",
     "output_type": "stream",
     "text": [
      "Epoch 17/20:   0%|                                                                              | 0/196 [00:00<?, ?it/s]"
     ]
    },
    {
     "name": "stdout",
     "output_type": "stream",
     "text": [
      "Epoch [16/20], Train Loss: 0.8150, Val Loss: 0.8640, Val Accuracy: 69.16%\n"
     ]
    },
    {
     "name": "stderr",
     "output_type": "stream",
     "text": [
      "Epoch 18/20:   0%|                                                                              | 0/196 [00:00<?, ?it/s]"
     ]
    },
    {
     "name": "stdout",
     "output_type": "stream",
     "text": [
      "Epoch [17/20], Train Loss: 0.8092, Val Loss: 0.8790, Val Accuracy: 68.65%\n"
     ]
    },
    {
     "name": "stderr",
     "output_type": "stream",
     "text": [
      "Epoch 19/20:   0%|                                                                              | 0/196 [00:00<?, ?it/s]"
     ]
    },
    {
     "name": "stdout",
     "output_type": "stream",
     "text": [
      "Epoch [18/20], Train Loss: 0.8048, Val Loss: 0.8885, Val Accuracy: 68.46%\n"
     ]
    },
    {
     "name": "stderr",
     "output_type": "stream",
     "text": [
      "Epoch 20/20:   0%|                                                                              | 0/196 [00:00<?, ?it/s]"
     ]
    },
    {
     "name": "stdout",
     "output_type": "stream",
     "text": [
      "Epoch [19/20], Train Loss: 0.8014, Val Loss: 0.8918, Val Accuracy: 68.79%\n"
     ]
    },
    {
     "name": "stderr",
     "output_type": "stream",
     "text": [
      "                                                                                                                        \r"
     ]
    },
    {
     "name": "stdout",
     "output_type": "stream",
     "text": [
      "Epoch [20/20], Train Loss: 0.8041, Val Loss: 0.8647, Val Accuracy: 69.97%\n"
     ]
    }
   ],
   "source": [
    "# Here is the hyperparameters\n",
    "\n",
    "epochs = 20\n",
    "patch_size = 4\n",
    "embed_dim = 256\n",
    "n_layers = 6\n",
    "heads = 8\n",
    "attn_mlp_dim = 512\n",
    "mlp_dim = 512\n",
    "pool = 'cls'\n",
    "\n",
    "time_str = timestr()\n",
    "\n",
    "print(f\"Time string: {time_str}\")\n",
    "\n",
    "# print the model and the number of parameters\n",
    "# print(model.transformer)\n",
    "print(f'The model has {sum(p.numel() for p in model.parameters() if p.requires_grad):,} trainable parameters')\n",
    "\n",
    "train(epochs=epochs, model=model, optimizer=optimizer, criterion=nn.CrossEntropyLoss(), \n",
    "      train_loader=train_loader, val_loader=val_loader, outdir=get_outdir(time_str))"
   ]
  },
  {
   "cell_type": "markdown",
   "metadata": {},
   "source": [
    "Here is the model:\n",
    "\n",
    "```bash\n",
    "AttentionLayers(\n",
    "  (layers): ModuleList(\n",
    "    (0): ModuleList(\n",
    "      (0): ModuleList(\n",
    "        (0): LayerNorm(\n",
    "          (ln): LayerNorm((256,), eps=1e-05, elementwise_affine=False)\n",
    "        )\n",
    "        (1): None\n",
    "        (2): None\n",
    "      )\n",
    "      (1): Attention(\n",
    "        (to_q): Linear(in_features=256, out_features=512, bias=False)\n",
    "        (to_k): Linear(in_features=256, out_features=512, bias=False)\n",
    "        (to_v): Linear(in_features=256, out_features=512, bias=False)\n",
    "        (attend): Attend(\n",
    "          (attn_dropout): Dropout(p=0.0, inplace=False)\n",
    "        )\n",
    "        (to_out): Linear(in_features=512, out_features=256, bias=False)\n",
    "      )\n",
    "      (2): Residual()\n",
    "    )\n",
    "    (1): ModuleList(\n",
    "      (0): ModuleList(\n",
    "        (0): LayerNorm(\n",
    "          (ln): LayerNorm((256,), eps=1e-05, elementwise_affine=False)\n",
    "        )\n",
    "        (1): None\n",
    "        (2): None\n",
    "      )\n",
    "      (1): FeedForward(\n",
    "        (ff): Sequential(\n",
    "          (0): Sequential(\n",
    "            (0): Linear(in_features=256, out_features=1024, bias=True)\n",
    "            (1): MyGELU()\n",
    "          )\n",
    "          (1): Dropout(p=0.0, inplace=False)\n",
    "          (2): Linear(in_features=1024, out_features=256, bias=True)\n",
    "        )\n",
    "      )\n",
    "      (2): Residual()\n",
    "    )\n",
    "    (2): ModuleList(\n",
    "      (0): ModuleList(\n",
    "        (0): LayerNorm(\n",
    "          (ln): LayerNorm((256,), eps=1e-05, elementwise_affine=False)\n",
    "        )\n",
    "        (1): None\n",
    "        (2): None\n",
    "      )\n",
    "      (1): Attention(\n",
    "        (to_q): Linear(in_features=256, out_features=512, bias=False)\n",
    "        (to_k): Linear(in_features=256, out_features=512, bias=False)\n",
    "        (to_v): Linear(in_features=256, out_features=512, bias=False)\n",
    "        (attend): Attend(\n",
    "          (attn_dropout): Dropout(p=0.0, inplace=False)\n",
    "        )\n",
    "        (to_out): Linear(in_features=512, out_features=256, bias=False)\n",
    "      )\n",
    "      (2): Residual()\n",
    "    )\n",
    "    (3): ModuleList(\n",
    "      (0): ModuleList(\n",
    "        (0): LayerNorm(\n",
    "          (ln): LayerNorm((256,), eps=1e-05, elementwise_affine=False)\n",
    "        )\n",
    "        (1): None\n",
    "        (2): None\n",
    "      )\n",
    "      (1): FeedForward(\n",
    "        (ff): Sequential(\n",
    "          (0): Sequential(\n",
    "            (0): Linear(in_features=256, out_features=1024, bias=True)\n",
    "            (1): MyGELU()\n",
    "          )\n",
    "          (1): Dropout(p=0.0, inplace=False)\n",
    "          (2): Linear(in_features=1024, out_features=256, bias=True)\n",
    "        )\n",
    "      )\n",
    "      (2): Residual()\n",
    "    )\n",
    "    (4): ModuleList(\n",
    "      (0): ModuleList(\n",
    "        (0): LayerNorm(\n",
    "          (ln): LayerNorm((256,), eps=1e-05, elementwise_affine=False)\n",
    "        )\n",
    "        (1): None\n",
    "        (2): None\n",
    "      )\n",
    "      (1): Attention(\n",
    "        (to_q): Linear(in_features=256, out_features=512, bias=False)\n",
    "        (to_k): Linear(in_features=256, out_features=512, bias=False)\n",
    "        (to_v): Linear(in_features=256, out_features=512, bias=False)\n",
    "        (attend): Attend(\n",
    "          (attn_dropout): Dropout(p=0.0, inplace=False)\n",
    "        )\n",
    "        (to_out): Linear(in_features=512, out_features=256, bias=False)\n",
    "      )\n",
    "      (2): Residual()\n",
    "    )\n",
    "    (5): ModuleList(\n",
    "      (0): ModuleList(\n",
    "        (0): LayerNorm(\n",
    "          (ln): LayerNorm((256,), eps=1e-05, elementwise_affine=False)\n",
    "        )\n",
    "        (1): None\n",
    "        (2): None\n",
    "      )\n",
    "      (1): FeedForward(\n",
    "        (ff): Sequential(\n",
    "          (0): Sequential(\n",
    "            (0): Linear(in_features=256, out_features=1024, bias=True)\n",
    "            (1): MyGELU()\n",
    "          )\n",
    "          (1): Dropout(p=0.0, inplace=False)\n",
    "          (2): Linear(in_features=1024, out_features=256, bias=True)\n",
    "        )\n",
    "      )\n",
    "      (2): Residual()\n",
    "    )\n",
    "    (6): ModuleList(\n",
    "      (0): ModuleList(\n",
    "        (0): LayerNorm(\n",
    "          (ln): LayerNorm((256,), eps=1e-05, elementwise_affine=False)\n",
    "        )\n",
    "        (1): None\n",
    "        (2): None\n",
    "      )\n",
    "      (1): Attention(\n",
    "        (to_q): Linear(in_features=256, out_features=512, bias=False)\n",
    "        (to_k): Linear(in_features=256, out_features=512, bias=False)\n",
    "        (to_v): Linear(in_features=256, out_features=512, bias=False)\n",
    "        (attend): Attend(\n",
    "          (attn_dropout): Dropout(p=0.0, inplace=False)\n",
    "        )\n",
    "        (to_out): Linear(in_features=512, out_features=256, bias=False)\n",
    "      )\n",
    "      (2): Residual()\n",
    "    )\n",
    "    (7): ModuleList(\n",
    "      (0): ModuleList(\n",
    "        (0): LayerNorm(\n",
    "          (ln): LayerNorm((256,), eps=1e-05, elementwise_affine=False)\n",
    "        )\n",
    "        (1): None\n",
    "        (2): None\n",
    "      )\n",
    "      (1): FeedForward(\n",
    "        (ff): Sequential(\n",
    "          (0): Sequential(\n",
    "            (0): Linear(in_features=256, out_features=1024, bias=True)\n",
    "            (1): MyGELU()\n",
    "          )\n",
    "          (1): Dropout(p=0.0, inplace=False)\n",
    "          (2): Linear(in_features=1024, out_features=256, bias=True)\n",
    "        )\n",
    "      )\n",
    "      (2): Residual()\n",
    "    )\n",
    "    (8): ModuleList(\n",
    "      (0): ModuleList(\n",
    "        (0): LayerNorm(\n",
    "          (ln): LayerNorm((256,), eps=1e-05, elementwise_affine=False)\n",
    "        )\n",
    "        (1): None\n",
    "        (2): None\n",
    "      )\n",
    "      (1): Attention(\n",
    "        (to_q): Linear(in_features=256, out_features=512, bias=False)\n",
    "        (to_k): Linear(in_features=256, out_features=512, bias=False)\n",
    "        (to_v): Linear(in_features=256, out_features=512, bias=False)\n",
    "        (attend): Attend(\n",
    "          (attn_dropout): Dropout(p=0.0, inplace=False)\n",
    "        )\n",
    "        (to_out): Linear(in_features=512, out_features=256, bias=False)\n",
    "      )\n",
    "      (2): Residual()\n",
    "    )\n",
    "    (9): ModuleList(\n",
    "      (0): ModuleList(\n",
    "        (0): LayerNorm(\n",
    "          (ln): LayerNorm((256,), eps=1e-05, elementwise_affine=False)\n",
    "        )\n",
    "        (1): None\n",
    "        (2): None\n",
    "      )\n",
    "      (1): FeedForward(\n",
    "        (ff): Sequential(\n",
    "          (0): Sequential(\n",
    "            (0): Linear(in_features=256, out_features=1024, bias=True)\n",
    "            (1): MyGELU()\n",
    "          )\n",
    "          (1): Dropout(p=0.0, inplace=False)\n",
    "          (2): Linear(in_features=1024, out_features=256, bias=True)\n",
    "        )\n",
    "      )\n",
    "      (2): Residual()\n",
    "    )\n",
    "    (10): ModuleList(\n",
    "      (0): ModuleList(\n",
    "        (0): LayerNorm(\n",
    "          (ln): LayerNorm((256,), eps=1e-05, elementwise_affine=False)\n",
    "        )\n",
    "        (1): None\n",
    "        (2): None\n",
    "      )\n",
    "      (1): Attention(\n",
    "        (to_q): Linear(in_features=256, out_features=512, bias=False)\n",
    "        (to_k): Linear(in_features=256, out_features=512, bias=False)\n",
    "        (to_v): Linear(in_features=256, out_features=512, bias=False)\n",
    "        (attend): Attend(\n",
    "          (attn_dropout): Dropout(p=0.0, inplace=False)\n",
    "        )\n",
    "        (to_out): Linear(in_features=512, out_features=256, bias=False)\n",
    "      )\n",
    "      (2): Residual()\n",
    "    )\n",
    "    (11): ModuleList(\n",
    "      (0): ModuleList(\n",
    "        (0): LayerNorm(\n",
    "          (ln): LayerNorm((256,), eps=1e-05, elementwise_affine=False)\n",
    "        )\n",
    "        (1): None\n",
    "        (2): None\n",
    "      )\n",
    "      (1): FeedForward(\n",
    "        (ff): Sequential(\n",
    "          (0): Sequential(\n",
    "            (0): Linear(in_features=256, out_features=1024, bias=True)\n",
    "            (1): MyGELU()\n",
    "          )\n",
    "          (1): Dropout(p=0.0, inplace=False)\n",
    "          (2): Linear(in_features=1024, out_features=256, bias=True)\n",
    "        )\n",
    "      )\n",
    "      (2): Residual()\n",
    "    )\n",
    "  )\n",
    "  (adaptive_mlp): Identity()\n",
    "  (final_norm): LayerNorm(\n",
    "    (ln): LayerNorm((256,), eps=1e-05, elementwise_affine=False)\n",
    "  )\n",
    "  (skip_combines): ModuleList(\n",
    "    (0): None\n",
    "    (1): None\n",
    "    (2): None\n",
    "    (3): None\n",
    "    (4): None\n",
    "    (5): None\n",
    "    (6): None\n",
    "    (7): None\n",
    "    (8): None\n",
    "    (9): None\n",
    "    (10): None\n",
    "    (11): None\n",
    "  )\n",
    ")\n",
    "\n",
    "```"
   ]
  },
  {
   "cell_type": "code",
   "execution_count": 8,
   "metadata": {},
   "outputs": [],
   "source": [
    "# save the model\n",
    "torch.save(model.state_dict(), 'ViT.pth')"
   ]
  }
 ],
 "metadata": {
  "kernelspec": {
   "display_name": "Python 3 (ipykernel)",
   "language": "python",
   "name": "python3"
  }
 },
 "nbformat": 4,
 "nbformat_minor": 2
}
